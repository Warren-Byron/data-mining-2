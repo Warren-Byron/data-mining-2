{
 "cells": [
  {
   "cell_type": "markdown",
   "metadata": {},
   "source": [
    "<a id='introduction'></a>\n",
    "# Introduction"
   ]
  },
  {
   "cell_type": "markdown",
   "metadata": {},
   "source": [
    "We were given a \"raw\" piece of data to work with as part of our assignment. In addition, we were given a set of classification and clustering tasks to complete using Jupyter and Python data mining toolsets on the data. Thankfully, there seems to be some leeway for us to use our ingenuity and creativity to find various approaches to the challenge.  The information comes from a survey of internet users conducted in the early days of the internet.\n",
    "\n",
    "It was daunting at first to work through the exploratory data analysis while learning a new scripting language and also trying to grasp the deeper mathematics and statistical rationale behind the mining techniques. It becomes a fascinating journey as I work through the techniques and tactics of data mining, which are relayed from the top of the notebook to the bottom.\n",
    "\n",
    "I don't think I got it exactly right, but I think I gave it my best shot and learnt a lot along the way."
   ]
  },
  {
   "cell_type": "markdown",
   "metadata": {},
   "source": [
    "### Origins"
   ]
  },
  {
   "cell_type": "markdown",
   "metadata": {},
   "source": [
    "The information was gathered through a questionnaire in 1997 and is purely observational.\n",
    "\n",
    "See https://www.openml.org/d/372 for description of the data.\n",
    "\n",
    "The data in arff format can be downloaded from https://www.openml.org/data/download/52407/internet_usage.arff. \n",
    "\n",
    "With just two numeric columns, the data mainly consists of binary and categorical (multi-valued) columns, both relating to internet users in 1997."
   ]
  }
 ],
 "metadata": {
  "kernelspec": {
   "display_name": "Python 3",
   "language": "python",
   "name": "python3"
  },
  "language_info": {
   "codemirror_mode": {
    "name": "ipython",
    "version": 3
   },
   "file_extension": ".py",
   "mimetype": "text/x-python",
   "name": "python",
   "nbconvert_exporter": "python",
   "pygments_lexer": "ipython3",
   "version": "3.8.8"
  }
 },
 "nbformat": 4,
 "nbformat_minor": 4
}
