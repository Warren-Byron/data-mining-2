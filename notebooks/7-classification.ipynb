{
 "cells": [
  {
   "cell_type": "markdown",
   "metadata": {},
   "source": [
    "<a id='classification'></a>\n",
    "# Classification\n",
    "\n",
    "Classification is a form of supervised learning in the context of machine learning. The data fed to the algorithm is already labelled, with the important features/attributes divided into distinct categories before it is fed to the algorithm. Classification is a predictive modeling problem in machine learning where a class label is predicted for a given point of input data.\n",
    "\n",
    "---"
   ]
  },
  {
   "cell_type": "markdown",
   "metadata": {},
   "source": [
    "### Initial"
   ]
  },
  {
   "cell_type": "code",
   "execution_count": 1,
   "metadata": {},
   "outputs": [],
   "source": [
    "# Load the python libraries\n",
    "\n",
    "# Core\n",
    "import pandas as pd\n",
    "import numpy as np\n",
    "\n",
    "# Plotting\n",
    "import matplotlib.pyplot as plt\n",
    "import matplotlib.cm as cm\n",
    "%matplotlib inline\n",
    "import seaborn as sns\n",
    "from scipy.cluster.hierarchy import linkage, dendrogram\n",
    "\n",
    "# Sklearn\n",
    "from sklearn.cluster import KMeans\n",
    "from sklearn.mixture import GaussianMixture\n",
    "from sklearn.metrics import silhouette_samples, silhouette_score\n",
    "from sklearn.cluster import DBSCAN\n",
    "from sklearn.preprocessing import StandardScaler\n",
    "from sklearn.decomposition import PCA\n",
    "from sklearn.neighbors import NearestNeighbors\n",
    "from sklearn.model_selection import train_test_split\n",
    "from sklearn.pipeline import Pipeline\n",
    "from sklearn.multioutput import MultiOutputClassifier\n",
    "from sklearn.model_selection import GridSearchCV\n",
    "from sklearn.model_selection import RandomizedSearchCV\n",
    "from sklearn.metrics import accuracy_score\n",
    "from sklearn.metrics import confusion_matrix\n",
    "from sklearn.preprocessing import KBinsDiscretizer\n",
    "from sklearn.model_selection import validation_curve\n",
    "from sklearn.model_selection import cross_val_predict\n",
    "from sklearn.model_selection import cross_val_score\n",
    "from sklearn.metrics import classification_report\n",
    "\n",
    "# Linear Support Vector Classification\n",
    "# Gaussian Naive Bayes\n",
    "# K Nearest Neighbors\n",
    "# Random Forest (Bagging)\n",
    "# Boosting\n",
    "\n",
    "from sklearn.svm import LinearSVC\n",
    "from sklearn.svm import SVC\n",
    "from sklearn.naive_bayes import GaussianNB\n",
    "from sklearn.neighbors import KNeighborsClassifier\n",
    "from sklearn.ensemble import RandomForestClassifier\n",
    "from sklearn.ensemble import AdaBoostClassifier\n",
    "\n",
    "\n",
    "# Utilities\n",
    "import time\n",
    "import pickle\n",
    "import sys\n",
    "import warnings\n",
    "import os\n"
   ]
  },
  {
   "cell_type": "code",
   "execution_count": 2,
   "metadata": {},
   "outputs": [],
   "source": [
    "# Configuration Variables\n",
    "\n",
    "data_FOLDER = './data'\n",
    "\n",
    "SEED = 42"
   ]
  },
  {
   "cell_type": "code",
   "execution_count": 3,
   "metadata": {},
   "outputs": [],
   "source": [
    "df = pickle.load( open( data_FOLDER+\"/pre-processed.pickle\", \"rb\" ) )"
   ]
  },
  {
   "cell_type": "code",
   "execution_count": 4,
   "metadata": {},
   "outputs": [
    {
     "data": {
      "text/html": [
       "<div>\n",
       "<style scoped>\n",
       "    .dataframe tbody tr th:only-of-type {\n",
       "        vertical-align: middle;\n",
       "    }\n",
       "\n",
       "    .dataframe tbody tr th {\n",
       "        vertical-align: top;\n",
       "    }\n",
       "\n",
       "    .dataframe thead th {\n",
       "        text-align: right;\n",
       "    }\n",
       "</style>\n",
       "<table border=\"1\" class=\"dataframe\">\n",
       "  <thead>\n",
       "    <tr style=\"text-align: right;\">\n",
       "      <th></th>\n",
       "      <th>Education_Attainment</th>\n",
       "      <th>Major_Occupation-0</th>\n",
       "      <th>Major_Occupation-1</th>\n",
       "      <th>Major_Occupation-2</th>\n",
       "      <th>Major_Occupation-3</th>\n",
       "      <th>Major_Occupation-4</th>\n",
       "      <th>Age</th>\n",
       "      <th>Household_Income</th>\n",
       "      <th>Months_on_Internet</th>\n",
       "      <th>Community_Membership_Family</th>\n",
       "      <th>...</th>\n",
       "      <th>Who_Pays_for_Access_Self</th>\n",
       "      <th>Who_Pays_for_Access_Work</th>\n",
       "      <th>hasFalsified</th>\n",
       "      <th>isSingle</th>\n",
       "      <th>isTechnical</th>\n",
       "      <th>isMSUser</th>\n",
       "      <th>Adoption</th>\n",
       "      <th>Concerns-0</th>\n",
       "      <th>Concerns-1</th>\n",
       "      <th>Concerns-2</th>\n",
       "    </tr>\n",
       "    <tr>\n",
       "      <th>who</th>\n",
       "      <th></th>\n",
       "      <th></th>\n",
       "      <th></th>\n",
       "      <th></th>\n",
       "      <th></th>\n",
       "      <th></th>\n",
       "      <th></th>\n",
       "      <th></th>\n",
       "      <th></th>\n",
       "      <th></th>\n",
       "      <th></th>\n",
       "      <th></th>\n",
       "      <th></th>\n",
       "      <th></th>\n",
       "      <th></th>\n",
       "      <th></th>\n",
       "      <th></th>\n",
       "      <th></th>\n",
       "      <th></th>\n",
       "      <th></th>\n",
       "      <th></th>\n",
       "    </tr>\n",
       "  </thead>\n",
       "  <tbody>\n",
       "    <tr>\n",
       "      <th>93819</th>\n",
       "      <td>0</td>\n",
       "      <td>0</td>\n",
       "      <td>0</td>\n",
       "      <td>0</td>\n",
       "      <td>0</td>\n",
       "      <td>1</td>\n",
       "      <td>41.0</td>\n",
       "      <td>103648.0</td>\n",
       "      <td>20.0</td>\n",
       "      <td>0</td>\n",
       "      <td>...</td>\n",
       "      <td>1</td>\n",
       "      <td>0</td>\n",
       "      <td>0</td>\n",
       "      <td>0</td>\n",
       "      <td>1</td>\n",
       "      <td>0</td>\n",
       "      <td>1</td>\n",
       "      <td>0</td>\n",
       "      <td>1</td>\n",
       "      <td>0</td>\n",
       "    </tr>\n",
       "    <tr>\n",
       "      <th>95708</th>\n",
       "      <td>2</td>\n",
       "      <td>0</td>\n",
       "      <td>1</td>\n",
       "      <td>0</td>\n",
       "      <td>0</td>\n",
       "      <td>0</td>\n",
       "      <td>28.0</td>\n",
       "      <td>409.0</td>\n",
       "      <td>1.0</td>\n",
       "      <td>0</td>\n",
       "      <td>...</td>\n",
       "      <td>1</td>\n",
       "      <td>0</td>\n",
       "      <td>1</td>\n",
       "      <td>1</td>\n",
       "      <td>0</td>\n",
       "      <td>1</td>\n",
       "      <td>2</td>\n",
       "      <td>0</td>\n",
       "      <td>0</td>\n",
       "      <td>1</td>\n",
       "    </tr>\n",
       "    <tr>\n",
       "      <th>97218</th>\n",
       "      <td>1</td>\n",
       "      <td>1</td>\n",
       "      <td>0</td>\n",
       "      <td>0</td>\n",
       "      <td>0</td>\n",
       "      <td>0</td>\n",
       "      <td>25.0</td>\n",
       "      <td>109012.0</td>\n",
       "      <td>30.0</td>\n",
       "      <td>1</td>\n",
       "      <td>...</td>\n",
       "      <td>1</td>\n",
       "      <td>1</td>\n",
       "      <td>1</td>\n",
       "      <td>0</td>\n",
       "      <td>1</td>\n",
       "      <td>1</td>\n",
       "      <td>1</td>\n",
       "      <td>0</td>\n",
       "      <td>0</td>\n",
       "      <td>1</td>\n",
       "    </tr>\n",
       "    <tr>\n",
       "      <th>91627</th>\n",
       "      <td>1</td>\n",
       "      <td>0</td>\n",
       "      <td>0</td>\n",
       "      <td>0</td>\n",
       "      <td>0</td>\n",
       "      <td>1</td>\n",
       "      <td>28.0</td>\n",
       "      <td>58024.0</td>\n",
       "      <td>28.0</td>\n",
       "      <td>0</td>\n",
       "      <td>...</td>\n",
       "      <td>1</td>\n",
       "      <td>0</td>\n",
       "      <td>1</td>\n",
       "      <td>0</td>\n",
       "      <td>1</td>\n",
       "      <td>1</td>\n",
       "      <td>1</td>\n",
       "      <td>0</td>\n",
       "      <td>1</td>\n",
       "      <td>0</td>\n",
       "    </tr>\n",
       "    <tr>\n",
       "      <th>49906</th>\n",
       "      <td>3</td>\n",
       "      <td>0</td>\n",
       "      <td>1</td>\n",
       "      <td>0</td>\n",
       "      <td>0</td>\n",
       "      <td>0</td>\n",
       "      <td>17.0</td>\n",
       "      <td>3657.0</td>\n",
       "      <td>27.0</td>\n",
       "      <td>0</td>\n",
       "      <td>...</td>\n",
       "      <td>1</td>\n",
       "      <td>0</td>\n",
       "      <td>1</td>\n",
       "      <td>1</td>\n",
       "      <td>1</td>\n",
       "      <td>1</td>\n",
       "      <td>1</td>\n",
       "      <td>0</td>\n",
       "      <td>0</td>\n",
       "      <td>1</td>\n",
       "    </tr>\n",
       "  </tbody>\n",
       "</table>\n",
       "<p>5 rows × 38 columns</p>\n",
       "</div>"
      ],
      "text/plain": [
       "       Education_Attainment  Major_Occupation-0  Major_Occupation-1  \\\n",
       "who                                                                   \n",
       "93819                     0                   0                   0   \n",
       "95708                     2                   0                   1   \n",
       "97218                     1                   1                   0   \n",
       "91627                     1                   0                   0   \n",
       "49906                     3                   0                   1   \n",
       "\n",
       "       Major_Occupation-2  Major_Occupation-3  Major_Occupation-4   Age  \\\n",
       "who                                                                       \n",
       "93819                   0                   0                   1  41.0   \n",
       "95708                   0                   0                   0  28.0   \n",
       "97218                   0                   0                   0  25.0   \n",
       "91627                   0                   0                   1  28.0   \n",
       "49906                   0                   0                   0  17.0   \n",
       "\n",
       "       Household_Income  Months_on_Internet  Community_Membership_Family  ...  \\\n",
       "who                                                                       ...   \n",
       "93819          103648.0                20.0                            0  ...   \n",
       "95708             409.0                 1.0                            0  ...   \n",
       "97218          109012.0                30.0                            1  ...   \n",
       "91627           58024.0                28.0                            0  ...   \n",
       "49906            3657.0                27.0                            0  ...   \n",
       "\n",
       "       Who_Pays_for_Access_Self  Who_Pays_for_Access_Work  hasFalsified  \\\n",
       "who                                                                       \n",
       "93819                         1                         0             0   \n",
       "95708                         1                         0             1   \n",
       "97218                         1                         1             1   \n",
       "91627                         1                         0             1   \n",
       "49906                         1                         0             1   \n",
       "\n",
       "       isSingle  isTechnical  isMSUser  Adoption  Concerns-0  Concerns-1  \\\n",
       "who                                                                        \n",
       "93819         0            1         0         1           0           1   \n",
       "95708         1            0         1         2           0           0   \n",
       "97218         0            1         1         1           0           0   \n",
       "91627         0            1         1         1           0           1   \n",
       "49906         1            1         1         1           0           0   \n",
       "\n",
       "       Concerns-2  \n",
       "who                \n",
       "93819           0  \n",
       "95708           1  \n",
       "97218           1  \n",
       "91627           0  \n",
       "49906           1  \n",
       "\n",
       "[5 rows x 38 columns]"
      ]
     },
     "execution_count": 4,
     "metadata": {},
     "output_type": "execute_result"
    }
   ],
   "source": [
    "# Look at the loaded data\n",
    "\n",
    "df.head()"
   ]
  },
  {
   "cell_type": "markdown",
   "metadata": {},
   "source": [
    "---"
   ]
  },
  {
   "cell_type": "markdown",
   "metadata": {},
   "source": [
    "## Choose the Classification Model\n",
    "\n",
    "Used the following diagram to choose the learners to try:\n",
    "\n",
    "![ML Map](./img/ml_map.png)\n",
    "    \n",
    "* Scikitlearn Estimator Cheat Sheet\n",
    "https://scikit-learn.org/stable/tutorial/machine_learning_map/index.html     \n",
    " "
   ]
  },
  {
   "cell_type": "markdown",
   "metadata": {},
   "source": [
    "---"
   ]
  },
  {
   "cell_type": "markdown",
   "metadata": {},
   "source": [
    "```>50 samples : YES (10108)```"
   ]
  },
  {
   "cell_type": "markdown",
   "metadata": {},
   "source": [
    "There are more than 50 rows (samples) because there are 10108 rows."
   ]
  },
  {
   "cell_type": "code",
   "execution_count": 5,
   "metadata": {},
   "outputs": [
    {
     "data": {
      "text/plain": [
       "(10108, 38)"
      ]
     },
     "execution_count": 5,
     "metadata": {},
     "output_type": "execute_result"
    }
   ],
   "source": [
    "df.shape"
   ]
  },
  {
   "cell_type": "markdown",
   "metadata": {},
   "source": [
    "---"
   ]
  },
  {
   "cell_type": "markdown",
   "metadata": {},
   "source": [
    "```Predicting a category : YES```\n",
    "\n",
    "During pre-processing, certain categorical features were converted to numerical features. I'm going to keep these as numerical attributes because it'll make the classification algorithms better."
   ]
  },
  {
   "cell_type": "code",
   "execution_count": 6,
   "metadata": {},
   "outputs": [],
   "source": [
    "# These are categorical\n",
    "\n",
    "TargetsF = ['Education_Attainment', 'Major_Occupation-0', 'Major_Occupation-1', 'Major_Occupation-2', 'Major_Occupation-3', 'Major_Occupation-4']"
   ]
  },
  {
   "cell_type": "markdown",
   "metadata": {},
   "source": [
    "---"
   ]
  },
  {
   "cell_type": "markdown",
   "metadata": {},
   "source": [
    "```Do you have labelled data : YES```"
   ]
  },
  {
   "cell_type": "markdown",
   "metadata": {},
   "source": [
    "For the classifier algorithm, the targets are labels."
   ]
  },
  {
   "cell_type": "code",
   "execution_count": 7,
   "metadata": {},
   "outputs": [
    {
     "name": "stdout",
     "output_type": "stream",
     "text": [
      "[0 2 1 3]\n",
      "[0 1]\n",
      "[0 1]\n",
      "[0 1]\n",
      "[0 1]\n",
      "[1 0]\n"
     ]
    }
   ],
   "source": [
    "Targets = [\"Education_Attainment\", \"Major_Occupation\"]\n",
    "\n",
    "for i in TargetsF:\n",
    "    print(df[i].unique())"
   ]
  },
  {
   "cell_type": "markdown",
   "metadata": {},
   "source": [
    "---"
   ]
  },
  {
   "cell_type": "markdown",
   "metadata": {},
   "source": [
    "```<100K Samples : YES (10108)```"
   ]
  },
  {
   "cell_type": "markdown",
   "metadata": {},
   "source": [
    "The dataframe contains 10108 rows."
   ]
  },
  {
   "cell_type": "markdown",
   "metadata": {},
   "source": [
    "---"
   ]
  },
  {
   "cell_type": "markdown",
   "metadata": {},
   "source": [
    "## Process to Follow:\n",
    "\n",
    "These are the steps I'll take in this investigation.\n",
    "\n",
    "* Representation\n",
    "* Evaluation\n",
    "* Optimization\n",
    "* Testing and Validating"
   ]
  },
  {
   "cell_type": "markdown",
   "metadata": {},
   "source": [
    "I'm going to try the following classifiers on this problem based on the classification map above.  I expect some of the classifiers to be unsuitable, but I'd like to see how they do as an experiment.  I'm looking forward to the best from the last three on the list.\n",
    "    \n",
    "* Linear Support Vector Classification\n",
    "* Naive Bayes\n",
    "\n",
    "* K Nearest Neighbors\n",
    "* SVC\n",
    "* Ensemble"
   ]
  },
  {
   "cell_type": "markdown",
   "metadata": {},
   "source": [
    "---"
   ]
  },
  {
   "cell_type": "markdown",
   "metadata": {},
   "source": [
    "## Representation"
   ]
  },
  {
   "cell_type": "markdown",
   "metadata": {},
   "source": [
    "### Numeric Fields\n",
    "\n",
    "In classification, the name should be distinct. I generated three numeric fields as part of the EDA data by \"guessing\" values.  Although the numeric fields are useful in this format, I've decided that categorical fields will be easier for my classification models. The original divisions were not equally distributed. I'll use the ordinal encoder and the binning feature engineering technique before feeding the features into the models.\n",
    "\n",
    "* Age\n",
    "* Household_Income\n",
    "* Months_on_Internet\n",
    "\n",
    "```\n",
    "KBinsDiscretizer(n_bins=3, encode='ordinal', strategy='uniform')\n",
    "```"
   ]
  },
  {
   "cell_type": "code",
   "execution_count": 8,
   "metadata": {},
   "outputs": [],
   "source": [
    "Numeric = ['Age', 'Household_Income', 'Months_on_Internet']"
   ]
  },
  {
   "cell_type": "code",
   "execution_count": 9,
   "metadata": {},
   "outputs": [
    {
     "data": {
      "text/html": [
       "<div>\n",
       "<style scoped>\n",
       "    .dataframe tbody tr th:only-of-type {\n",
       "        vertical-align: middle;\n",
       "    }\n",
       "\n",
       "    .dataframe tbody tr th {\n",
       "        vertical-align: top;\n",
       "    }\n",
       "\n",
       "    .dataframe thead th {\n",
       "        text-align: right;\n",
       "    }\n",
       "</style>\n",
       "<table border=\"1\" class=\"dataframe\">\n",
       "  <thead>\n",
       "    <tr style=\"text-align: right;\">\n",
       "      <th></th>\n",
       "      <th>Age</th>\n",
       "      <th>Household_Income</th>\n",
       "      <th>Months_on_Internet</th>\n",
       "    </tr>\n",
       "    <tr>\n",
       "      <th>who</th>\n",
       "      <th></th>\n",
       "      <th></th>\n",
       "      <th></th>\n",
       "    </tr>\n",
       "  </thead>\n",
       "  <tbody>\n",
       "    <tr>\n",
       "      <th>93819</th>\n",
       "      <td>41.0</td>\n",
       "      <td>103648.0</td>\n",
       "      <td>20.0</td>\n",
       "    </tr>\n",
       "    <tr>\n",
       "      <th>95708</th>\n",
       "      <td>28.0</td>\n",
       "      <td>409.0</td>\n",
       "      <td>1.0</td>\n",
       "    </tr>\n",
       "    <tr>\n",
       "      <th>97218</th>\n",
       "      <td>25.0</td>\n",
       "      <td>109012.0</td>\n",
       "      <td>30.0</td>\n",
       "    </tr>\n",
       "    <tr>\n",
       "      <th>91627</th>\n",
       "      <td>28.0</td>\n",
       "      <td>58024.0</td>\n",
       "      <td>28.0</td>\n",
       "    </tr>\n",
       "    <tr>\n",
       "      <th>49906</th>\n",
       "      <td>17.0</td>\n",
       "      <td>3657.0</td>\n",
       "      <td>27.0</td>\n",
       "    </tr>\n",
       "    <tr>\n",
       "      <th>...</th>\n",
       "      <td>...</td>\n",
       "      <td>...</td>\n",
       "      <td>...</td>\n",
       "    </tr>\n",
       "    <tr>\n",
       "      <th>97004</th>\n",
       "      <td>19.0</td>\n",
       "      <td>106524.0</td>\n",
       "      <td>36.0</td>\n",
       "    </tr>\n",
       "    <tr>\n",
       "      <th>96381</th>\n",
       "      <td>39.0</td>\n",
       "      <td>23241.0</td>\n",
       "      <td>69.0</td>\n",
       "    </tr>\n",
       "    <tr>\n",
       "      <th>94762</th>\n",
       "      <td>51.0</td>\n",
       "      <td>24654.0</td>\n",
       "      <td>33.0</td>\n",
       "    </tr>\n",
       "    <tr>\n",
       "      <th>97062</th>\n",
       "      <td>34.0</td>\n",
       "      <td>80706.0</td>\n",
       "      <td>63.0</td>\n",
       "    </tr>\n",
       "    <tr>\n",
       "      <th>92223</th>\n",
       "      <td>27.0</td>\n",
       "      <td>33587.0</td>\n",
       "      <td>86.0</td>\n",
       "    </tr>\n",
       "  </tbody>\n",
       "</table>\n",
       "<p>10108 rows × 3 columns</p>\n",
       "</div>"
      ],
      "text/plain": [
       "        Age  Household_Income  Months_on_Internet\n",
       "who                                              \n",
       "93819  41.0          103648.0                20.0\n",
       "95708  28.0             409.0                 1.0\n",
       "97218  25.0          109012.0                30.0\n",
       "91627  28.0           58024.0                28.0\n",
       "49906  17.0            3657.0                27.0\n",
       "...     ...               ...                 ...\n",
       "97004  19.0          106524.0                36.0\n",
       "96381  39.0           23241.0                69.0\n",
       "94762  51.0           24654.0                33.0\n",
       "97062  34.0           80706.0                63.0\n",
       "92223  27.0           33587.0                86.0\n",
       "\n",
       "[10108 rows x 3 columns]"
      ]
     },
     "execution_count": 9,
     "metadata": {},
     "output_type": "execute_result"
    }
   ],
   "source": [
    "df[Numeric]"
   ]
  },
  {
   "cell_type": "code",
   "execution_count": 10,
   "metadata": {},
   "outputs": [
    {
     "name": "stdout",
     "output_type": "stream",
     "text": [
      "CPU times: user 13.1 ms, sys: 897 µs, total: 14 ms\n",
      "Wall time: 14.7 ms\n"
     ]
    },
    {
     "data": {
      "text/html": [
       "<div>\n",
       "<style scoped>\n",
       "    .dataframe tbody tr th:only-of-type {\n",
       "        vertical-align: middle;\n",
       "    }\n",
       "\n",
       "    .dataframe tbody tr th {\n",
       "        vertical-align: top;\n",
       "    }\n",
       "\n",
       "    .dataframe thead th {\n",
       "        text-align: right;\n",
       "    }\n",
       "</style>\n",
       "<table border=\"1\" class=\"dataframe\">\n",
       "  <thead>\n",
       "    <tr style=\"text-align: right;\">\n",
       "      <th></th>\n",
       "      <th>Age</th>\n",
       "      <th>Household_Income</th>\n",
       "      <th>Months_on_Internet</th>\n",
       "    </tr>\n",
       "    <tr>\n",
       "      <th>who</th>\n",
       "      <th></th>\n",
       "      <th></th>\n",
       "      <th></th>\n",
       "    </tr>\n",
       "  </thead>\n",
       "  <tbody>\n",
       "    <tr>\n",
       "      <th>93819</th>\n",
       "      <td>2.0</td>\n",
       "      <td>5.0</td>\n",
       "      <td>1.0</td>\n",
       "    </tr>\n",
       "    <tr>\n",
       "      <th>95708</th>\n",
       "      <td>1.0</td>\n",
       "      <td>0.0</td>\n",
       "      <td>0.0</td>\n",
       "    </tr>\n",
       "    <tr>\n",
       "      <th>97218</th>\n",
       "      <td>1.0</td>\n",
       "      <td>5.0</td>\n",
       "      <td>1.0</td>\n",
       "    </tr>\n",
       "    <tr>\n",
       "      <th>91627</th>\n",
       "      <td>1.0</td>\n",
       "      <td>2.0</td>\n",
       "      <td>1.0</td>\n",
       "    </tr>\n",
       "    <tr>\n",
       "      <th>49906</th>\n",
       "      <td>0.0</td>\n",
       "      <td>0.0</td>\n",
       "      <td>1.0</td>\n",
       "    </tr>\n",
       "    <tr>\n",
       "      <th>...</th>\n",
       "      <td>...</td>\n",
       "      <td>...</td>\n",
       "      <td>...</td>\n",
       "    </tr>\n",
       "    <tr>\n",
       "      <th>97004</th>\n",
       "      <td>1.0</td>\n",
       "      <td>5.0</td>\n",
       "      <td>2.0</td>\n",
       "    </tr>\n",
       "    <tr>\n",
       "      <th>96381</th>\n",
       "      <td>2.0</td>\n",
       "      <td>1.0</td>\n",
       "      <td>4.0</td>\n",
       "    </tr>\n",
       "    <tr>\n",
       "      <th>94762</th>\n",
       "      <td>3.0</td>\n",
       "      <td>1.0</td>\n",
       "      <td>2.0</td>\n",
       "    </tr>\n",
       "    <tr>\n",
       "      <th>97062</th>\n",
       "      <td>2.0</td>\n",
       "      <td>4.0</td>\n",
       "      <td>4.0</td>\n",
       "    </tr>\n",
       "    <tr>\n",
       "      <th>92223</th>\n",
       "      <td>1.0</td>\n",
       "      <td>1.0</td>\n",
       "      <td>5.0</td>\n",
       "    </tr>\n",
       "  </tbody>\n",
       "</table>\n",
       "<p>10108 rows × 3 columns</p>\n",
       "</div>"
      ],
      "text/plain": [
       "       Age  Household_Income  Months_on_Internet\n",
       "who                                             \n",
       "93819  2.0               5.0                 1.0\n",
       "95708  1.0               0.0                 0.0\n",
       "97218  1.0               5.0                 1.0\n",
       "91627  1.0               2.0                 1.0\n",
       "49906  0.0               0.0                 1.0\n",
       "...    ...               ...                 ...\n",
       "97004  1.0               5.0                 2.0\n",
       "96381  2.0               1.0                 4.0\n",
       "94762  3.0               1.0                 2.0\n",
       "97062  2.0               4.0                 4.0\n",
       "92223  1.0               1.0                 5.0\n",
       "\n",
       "[10108 rows x 3 columns]"
      ]
     },
     "execution_count": 10,
     "metadata": {},
     "output_type": "execute_result"
    }
   ],
   "source": [
    "%%time\n",
    "\n",
    "binMe = KBinsDiscretizer(n_bins=6, encode='ordinal', strategy='uniform')\n",
    "binMe.fit(df[Numeric])\n",
    "Xt = binMe.transform(df[Numeric])\n",
    "Xt = Xt.transpose()\n",
    "\n",
    "df['Age'] = Xt[0]\n",
    "df['Household_Income'] = Xt[1]\n",
    "df['Months_on_Internet'] = Xt[2]\n",
    "\n",
    "df[Numeric]"
   ]
  },
  {
   "cell_type": "markdown",
   "metadata": {},
   "source": [
    "---"
   ]
  },
  {
   "cell_type": "markdown",
   "metadata": {},
   "source": [
    "### Binary Fields\n",
    "\n",
    "Certain binary fields are encoded with True or False. Many machine learning algorithms can't deal with boolean data directly. Both input and output variables must be numeric. These would have to be converted."
   ]
  },
  {
   "cell_type": "markdown",
   "metadata": {},
   "source": [
    "---"
   ]
  },
  {
   "cell_type": "markdown",
   "metadata": {},
   "source": [
    "### Categorical Targets\n",
    "\n",
    "Initially for this analysis, I will not convert the categorical target fields (\"Education Attainment,\" \"Major Occupation\") into categorical. This converts the fields to strings, which are incompatible with classification algorithms."
   ]
  },
  {
   "cell_type": "markdown",
   "metadata": {},
   "source": [
    "---"
   ]
  },
  {
   "cell_type": "markdown",
   "metadata": {},
   "source": [
    "## Evaluation"
   ]
  },
  {
   "cell_type": "markdown",
   "metadata": {},
   "source": [
    "### Fit Model and Predict\n",
    "\n",
    "For an unbiased evaluation of prediction results, you must split your dataset. In most cases, dividing the dataset into three subsets at random is sufficient. The training set is used to prepare your model for modeling. During hyperparameter tuning, the validation collection is used for unbiased model evaluation. The test set is needed for a fair assessment of the final model."
   ]
  },
  {
   "cell_type": "code",
   "execution_count": 11,
   "metadata": {},
   "outputs": [],
   "source": [
    "Features = [x for x in df.columns if x not in TargetsF]\n",
    "\n",
    "y = df[TargetsF].values\n",
    "X = df[Features].values"
   ]
  },
  {
   "cell_type": "code",
   "execution_count": 12,
   "metadata": {},
   "outputs": [],
   "source": [
    "X_train, X_test, y_train, y_test = train_test_split(X, y, test_size=0.6, random_state=SEED)"
   ]
  },
  {
   "cell_type": "markdown",
   "metadata": {},
   "source": [
    "---"
   ]
  },
  {
   "cell_type": "markdown",
   "metadata": {},
   "source": [
    "### First Pass Through a Pipeline of Various Classifiers\n",
    "\n",
    "The data is passed through the classifiers using a sequence of pipelines in the code below. This is for a preliminary assessment of the classifiers' performance. At this time, the hyperparameters have not been optimized; they were chosen based on examples in documentation.\n",
    "\n",
    "**Note:** We need the multioutclassifier because we are forecasting four factors in one sweep: educational attainment, major occupation (multivalue column). It's possible that the two targets are associated and should not be predicted independently. It would be fair to believe that household income is linked to educational attainment because higher levels of education should result in higher earnings. This was not found in the EDA due to the categorical nature of these fields, but it is logical deduction.\n",
    "\n",
    "**Note:** The Gaussian Naive Bayes algorithm is a type of NB algorithm that is special. When the features have continuous values, it's used explicitly. It is often assumed that all of the features have a gaussian distribution, or a regular distribution.  It proved more robust with the data than the other variants.  Later on in the study, I standardize the data. Surprisingly, it worked reasonably well in the first attempt."
   ]
  },
  {
   "cell_type": "code",
   "execution_count": 13,
   "metadata": {},
   "outputs": [
    {
     "name": "stdout",
     "output_type": "stream",
     "text": [
      "Linear SVC\n",
      "\n",
      "CV accuracy scores: [0.10837438 0.12315271 0.14285714 0.1980198  0.17326733 0.14851485\n",
      " 0.12376238 0.13366337 0.15841584 0.16336634 0.19306931 0.13366337\n",
      " 0.16336634 0.15841584 0.16336634 0.15346535 0.22277228 0.10891089\n",
      " 0.14356436 0.12376238]\n",
      "\n",
      "CV estimate of accuracy is: 15.19% +/- 0.29%\n",
      "\n",
      "---\n",
      "\n",
      "Guassian NB\n",
      "\n",
      "CV accuracy scores: [0.06403941 0.05418719 0.10344828 0.12376238 0.08415842 0.0990099\n",
      " 0.06435644 0.10891089 0.07920792 0.0990099  0.08910891 0.07920792\n",
      " 0.07425743 0.06930693 0.07425743 0.08910891 0.1039604  0.06930693\n",
      " 0.06435644 0.04455446]\n",
      "\n",
      "CV estimate of accuracy is: 8.19% +/- 0.20%\n",
      "\n",
      "---\n",
      "\n",
      "K Neighbors\n",
      "\n",
      "CV accuracy scores: [0.12807882 0.10344828 0.14285714 0.16336634 0.14851485 0.14851485\n",
      " 0.12376238 0.12871287 0.16831683 0.08415842 0.13861386 0.14356436\n",
      " 0.10891089 0.13366337 0.14356436 0.12376238 0.11881188 0.08415842\n",
      " 0.14356436 0.11881188]\n",
      "\n",
      "CV estimate of accuracy is: 12.99% +/- 0.22%\n",
      "\n",
      "---\n",
      "\n",
      "Random Forest\n",
      "\n",
      "CV accuracy scores: [0.10344828 0.09852217 0.14778325 0.16336634 0.14356436 0.15841584\n",
      " 0.14851485 0.15346535 0.14851485 0.1039604  0.12376238 0.15841584\n",
      " 0.10891089 0.14851485 0.11881188 0.14851485 0.16831683 0.09405941\n",
      " 0.13861386 0.11386139]\n",
      "\n",
      "CV estimate of accuracy is: 13.46% +/- 0.23%\n",
      "\n",
      "---\n",
      "\n",
      "Ada Boost\n",
      "\n",
      "CV accuracy scores: [0.12807882 0.13300493 0.15270936 0.22277228 0.18316832 0.16336634\n",
      " 0.17821782 0.16336634 0.17326733 0.12871287 0.20792079 0.13366337\n",
      " 0.19306931 0.15346535 0.19306931 0.16831683 0.1980198  0.12376238\n",
      " 0.18316832 0.15841584]\n",
      "\n",
      "CV estimate of accuracy is: 16.70% +/- 0.28%\n",
      "\n",
      "---\n",
      "\n",
      "CPU times: user 12.4 s, sys: 2.65 s, total: 15.1 s\n",
      "Wall time: 2min 59s\n"
     ]
    }
   ],
   "source": [
    "%%time\n",
    "\n",
    "lsvc = LinearSVC(random_state=0, tol=1e-5)\n",
    "gnb = GaussianNB()\n",
    "knn = KNeighborsClassifier(n_neighbors=3)\n",
    "rfc = RandomForestClassifier(n_estimators=10)\n",
    "boost = AdaBoostClassifier(n_estimators=100)\n",
    "\n",
    "classifiers = [lsvc, gnb, knn, rfc, boost]\n",
    "pipelines = []\n",
    "\n",
    "for classifier in classifiers:\n",
    "    pipelines.append(Pipeline([('clss',MultiOutputClassifier(classifier, n_jobs=-1))]))\n",
    "\n",
    "# Dictionary of pipelines and classifier types\n",
    "pipe_dict = {0: 'Linear SVC', 1: 'Guassian NB', 2: 'K Neighbors', 3: 'Random Forest', 4: 'Ada Boost'}\n",
    "    \n",
    "\n",
    "for i, pipe in enumerate(pipelines):\n",
    "    scores = cross_val_score(pipe, X=X_train, y=y_train, cv=20)\n",
    "    \n",
    "    print(pipe_dict[i])\n",
    "    print('\\nCV accuracy scores: %s' % scores)\n",
    "    print(f'\\nCV estimate of accuracy is: {scores.mean():.2%} +/- {scores.std()*2/len(scores):.2%}')\n",
    "    print('\\n---\\n')"
   ]
  },
  {
   "cell_type": "markdown",
   "metadata": {},
   "source": [
    "---"
   ]
  },
  {
   "cell_type": "markdown",
   "metadata": {},
   "source": [
    "### Multiclass-Multioutput Classification\n",
    "\n",
    "From this point on, I'm having trouble using MultiOutputClassifier in my pipeline. It appears that the classifier won't work well in conjunction with the other steps I need to complete. With many hours of work, experimentation, and research, I attempted to resolve the problem.\n",
    "\n",
    "The scikit documentation describe the classification activity that labels each sample with a set of non-binary properties is known as multiclass-multioutput classification (also known as multitask classification). The number of properties and groups per property are also greater than two. As a result, a single estimator can perform several joint classification tasks.  The documentation has a warning: \"**Warning:** At present, no metric in sklearn.metrics supports the multiclass-multioutput classification task.\"\n",
    "\n",
    "I might use a variety of tactics to get around this, such as treating the targets across various pipelines. Instead, I consider the assignment's task to be testing the performance of the chosen classifiers rather than achieving a prediction.  As a result, I've decided to take the next step. I placed the two targets together in a new target column. The integer value in the target column represents the other two groups that the observation belongs to. The value of the original two target values could be discovered by reverse engineering the integer.\n",
    "\n",
    "Is this going to work? Can the classification alogrithms result in the creation of new classes, i.e. integers between the existing ones? That is, it has viewed the classes as numbers rather than seeing them as category numbers. At the end of this, I'll take a look and report back on my conclusions."
   ]
  },
  {
   "cell_type": "code",
   "execution_count": 14,
   "metadata": {},
   "outputs": [
    {
     "name": "stdout",
     "output_type": "stream",
     "text": [
      "CPU times: user 715 ms, sys: 22.7 ms, total: 737 ms\n",
      "Wall time: 1.13 s\n"
     ]
    },
    {
     "data": {
      "text/plain": [
       "who\n",
       "93819    14\n",
       "95708    31\n",
       "97218    20\n",
       "91627    24\n",
       "49906    41\n",
       "         ..\n",
       "97004    41\n",
       "96381    30\n",
       "94762    42\n",
       "97062    20\n",
       "92223    13\n",
       "Name: TARGET, Length: 10108, dtype: object"
      ]
     },
     "execution_count": 14,
     "metadata": {},
     "output_type": "execute_result"
    }
   ],
   "source": [
    "%%time\n",
    "\n",
    "# Education attainment as ordinality\n",
    "# Major Occupation does not have ordinality\n",
    "\n",
    "# Convert the two target columns into an integer that retains the information\n",
    "# of the orginal two columns\n",
    "\n",
    "df['Major_Occupation-0'].astype('int32').dtypes\n",
    "df['Major_Occupation-1'].astype('int32').dtypes\n",
    "df['Major_Occupation-2'].astype('int32').dtypes\n",
    "df['Major_Occupation-3'].astype('int32').dtypes\n",
    "df['Major_Occupation-4'].astype('int32').dtypes\n",
    "\n",
    "\n",
    "def target (row):\n",
    "    MO = \"\"\n",
    "    if (row['Major_Occupation-0']==1):\n",
    "        MO=str(row['Education_Attainment']+1).strip(\".0\")+'0'\n",
    "    if (row['Major_Occupation-1']==1):\n",
    "        MO=str(row['Education_Attainment']+1).strip(\".0\")+'1'\n",
    "    if (row['Major_Occupation-2']==1):\n",
    "        MO=str(row['Education_Attainment']+1).strip(\".0\")+'2'\n",
    "    if (row['Major_Occupation-3']==1):\n",
    "        MO=str(row['Education_Attainment']+1).strip(\".0\")+'3'\n",
    "    if (row['Major_Occupation-4']==1):\n",
    "        MO=str(row['Education_Attainment']+1).strip(\".0\")+'4'\n",
    "    return MO\n",
    "\n",
    "df['TARGET'] = df.apply (lambda row: target(row), axis=1)\n",
    "\n",
    "# Assigns an integer as to a category for each class\n",
    "\n",
    "# Turn that into a real\n",
    "df['TARGET'].astype('int32').dtypes\n",
    "\n",
    "# Take a look....\n",
    "df['TARGET']\n",
    "\n",
    "# It retained its value"
   ]
  },
  {
   "cell_type": "code",
   "execution_count": 15,
   "metadata": {},
   "outputs": [
    {
     "data": {
      "text/plain": [
       "33    920\n",
       "31    905\n",
       "20    831\n",
       "43    788\n",
       "24    747\n",
       "14    651\n",
       "30    600\n",
       "41    572\n",
       "34    473\n",
       "23    470\n",
       "11    462\n",
       "21    400\n",
       "10    398\n",
       "32    393\n",
       "22    369\n",
       "44    292\n",
       "12    258\n",
       "40    256\n",
       "42    162\n",
       "13    161\n",
       "Name: TARGET, dtype: int64"
      ]
     },
     "execution_count": 15,
     "metadata": {},
     "output_type": "execute_result"
    }
   ],
   "source": [
    "df.TARGET.value_counts()"
   ]
  },
  {
   "cell_type": "code",
   "execution_count": 16,
   "metadata": {},
   "outputs": [],
   "source": [
    "# Drop the orginal target columns\n",
    "df.drop(TargetsF, inplace=True, axis=1)"
   ]
  },
  {
   "cell_type": "code",
   "execution_count": 17,
   "metadata": {},
   "outputs": [],
   "source": [
    "# Can I reverse engineer the new TARGET to the old columns?\n",
    "\n",
    "# Yes this will not be difficult"
   ]
  },
  {
   "cell_type": "code",
   "execution_count": 18,
   "metadata": {},
   "outputs": [],
   "source": [
    "#Features = [x for x in df.columns if x not in TargetsF]\n",
    "\n",
    "y = df['TARGET'].values\n",
    "X = df[Features].values"
   ]
  },
  {
   "cell_type": "markdown",
   "metadata": {},
   "source": [
    "---"
   ]
  },
  {
   "cell_type": "markdown",
   "metadata": {},
   "source": [
    "### Rerun the Previous Pipelines (without the Multi Output Classifier)"
   ]
  },
  {
   "cell_type": "code",
   "execution_count": 19,
   "metadata": {},
   "outputs": [],
   "source": [
    "X_train, X_test, y_train, y_test = train_test_split(X, y, test_size=0.6, random_state=SEED)"
   ]
  },
  {
   "cell_type": "code",
   "execution_count": 20,
   "metadata": {},
   "outputs": [
    {
     "name": "stderr",
     "output_type": "stream",
     "text": [
      "/Users/wazby/opt/anaconda3/lib/python3.8/site-packages/sklearn/svm/_base.py:985: ConvergenceWarning: Liblinear failed to converge, increase the number of iterations.\n",
      "  warnings.warn(\"Liblinear failed to converge, increase \"\n",
      "/Users/wazby/opt/anaconda3/lib/python3.8/site-packages/sklearn/svm/_base.py:985: ConvergenceWarning: Liblinear failed to converge, increase the number of iterations.\n",
      "  warnings.warn(\"Liblinear failed to converge, increase \"\n",
      "/Users/wazby/opt/anaconda3/lib/python3.8/site-packages/sklearn/svm/_base.py:985: ConvergenceWarning: Liblinear failed to converge, increase the number of iterations.\n",
      "  warnings.warn(\"Liblinear failed to converge, increase \"\n",
      "/Users/wazby/opt/anaconda3/lib/python3.8/site-packages/sklearn/svm/_base.py:985: ConvergenceWarning: Liblinear failed to converge, increase the number of iterations.\n",
      "  warnings.warn(\"Liblinear failed to converge, increase \"\n",
      "/Users/wazby/opt/anaconda3/lib/python3.8/site-packages/sklearn/svm/_base.py:985: ConvergenceWarning: Liblinear failed to converge, increase the number of iterations.\n",
      "  warnings.warn(\"Liblinear failed to converge, increase \"\n",
      "/Users/wazby/opt/anaconda3/lib/python3.8/site-packages/sklearn/svm/_base.py:985: ConvergenceWarning: Liblinear failed to converge, increase the number of iterations.\n",
      "  warnings.warn(\"Liblinear failed to converge, increase \"\n",
      "/Users/wazby/opt/anaconda3/lib/python3.8/site-packages/sklearn/svm/_base.py:985: ConvergenceWarning: Liblinear failed to converge, increase the number of iterations.\n",
      "  warnings.warn(\"Liblinear failed to converge, increase \"\n",
      "/Users/wazby/opt/anaconda3/lib/python3.8/site-packages/sklearn/svm/_base.py:985: ConvergenceWarning: Liblinear failed to converge, increase the number of iterations.\n",
      "  warnings.warn(\"Liblinear failed to converge, increase \"\n",
      "/Users/wazby/opt/anaconda3/lib/python3.8/site-packages/sklearn/svm/_base.py:985: ConvergenceWarning: Liblinear failed to converge, increase the number of iterations.\n",
      "  warnings.warn(\"Liblinear failed to converge, increase \"\n",
      "/Users/wazby/opt/anaconda3/lib/python3.8/site-packages/sklearn/svm/_base.py:985: ConvergenceWarning: Liblinear failed to converge, increase the number of iterations.\n",
      "  warnings.warn(\"Liblinear failed to converge, increase \"\n",
      "/Users/wazby/opt/anaconda3/lib/python3.8/site-packages/sklearn/svm/_base.py:985: ConvergenceWarning: Liblinear failed to converge, increase the number of iterations.\n",
      "  warnings.warn(\"Liblinear failed to converge, increase \"\n",
      "/Users/wazby/opt/anaconda3/lib/python3.8/site-packages/sklearn/svm/_base.py:985: ConvergenceWarning: Liblinear failed to converge, increase the number of iterations.\n",
      "  warnings.warn(\"Liblinear failed to converge, increase \"\n",
      "/Users/wazby/opt/anaconda3/lib/python3.8/site-packages/sklearn/svm/_base.py:985: ConvergenceWarning: Liblinear failed to converge, increase the number of iterations.\n",
      "  warnings.warn(\"Liblinear failed to converge, increase \"\n",
      "/Users/wazby/opt/anaconda3/lib/python3.8/site-packages/sklearn/svm/_base.py:985: ConvergenceWarning: Liblinear failed to converge, increase the number of iterations.\n",
      "  warnings.warn(\"Liblinear failed to converge, increase \"\n",
      "/Users/wazby/opt/anaconda3/lib/python3.8/site-packages/sklearn/svm/_base.py:985: ConvergenceWarning: Liblinear failed to converge, increase the number of iterations.\n",
      "  warnings.warn(\"Liblinear failed to converge, increase \"\n",
      "/Users/wazby/opt/anaconda3/lib/python3.8/site-packages/sklearn/svm/_base.py:985: ConvergenceWarning: Liblinear failed to converge, increase the number of iterations.\n",
      "  warnings.warn(\"Liblinear failed to converge, increase \"\n",
      "/Users/wazby/opt/anaconda3/lib/python3.8/site-packages/sklearn/svm/_base.py:985: ConvergenceWarning: Liblinear failed to converge, increase the number of iterations.\n",
      "  warnings.warn(\"Liblinear failed to converge, increase \"\n",
      "/Users/wazby/opt/anaconda3/lib/python3.8/site-packages/sklearn/svm/_base.py:985: ConvergenceWarning: Liblinear failed to converge, increase the number of iterations.\n",
      "  warnings.warn(\"Liblinear failed to converge, increase \"\n",
      "/Users/wazby/opt/anaconda3/lib/python3.8/site-packages/sklearn/svm/_base.py:985: ConvergenceWarning: Liblinear failed to converge, increase the number of iterations.\n",
      "  warnings.warn(\"Liblinear failed to converge, increase \"\n",
      "/Users/wazby/opt/anaconda3/lib/python3.8/site-packages/sklearn/svm/_base.py:985: ConvergenceWarning: Liblinear failed to converge, increase the number of iterations.\n",
      "  warnings.warn(\"Liblinear failed to converge, increase \"\n"
     ]
    },
    {
     "name": "stdout",
     "output_type": "stream",
     "text": [
      "Linear SVC\n",
      "\n",
      "CV accuracy scores: [0.2364532  0.24630542 0.27586207 0.28712871 0.25742574 0.23762376\n",
      " 0.27227723 0.22772277 0.25742574 0.27227723 0.30693069 0.26237624\n",
      " 0.25247525 0.24752475 0.21782178 0.28712871 0.24752475 0.23762376\n",
      " 0.24752475 0.26237624]\n",
      "\n",
      "CV estimate of accuracy is: 25.70% +/- 0.21%\n",
      "\n",
      "---\n",
      "\n",
      "Guassian NB\n",
      "\n",
      "CV accuracy scores: [0.06896552 0.05418719 0.09852217 0.08415842 0.06930693 0.07920792\n",
      " 0.06435644 0.07425743 0.05445545 0.11386139 0.05445545 0.05445545\n",
      " 0.07920792 0.05445545 0.0990099  0.06930693 0.08415842 0.09405941\n",
      " 0.05445545 0.05940594]\n",
      "\n",
      "CV estimate of accuracy is: 7.32% +/- 0.18%\n",
      "\n",
      "---\n",
      "\n",
      "K Neighbors\n",
      "\n",
      "CV accuracy scores: [0.16256158 0.15270936 0.17241379 0.21287129 0.17821782 0.13861386\n",
      " 0.14356436 0.18316832 0.13366337 0.11881188 0.12871287 0.11881188\n",
      " 0.14356436 0.12376238 0.12871287 0.08910891 0.10891089 0.13861386\n",
      " 0.16831683 0.15346535]\n",
      "\n",
      "CV estimate of accuracy is: 14.49% +/- 0.28%\n",
      "\n",
      "---\n",
      "\n",
      "Random Forest\n",
      "\n",
      "CV accuracy scores: [0.18719212 0.18719212 0.2364532  0.2029703  0.18316832 0.16831683\n",
      " 0.21287129 0.17821782 0.13861386 0.18811881 0.16336634 0.23762376\n",
      " 0.21287129 0.19306931 0.2029703  0.20792079 0.19306931 0.18316832\n",
      " 0.22772277 0.18316832]\n",
      "\n",
      "CV estimate of accuracy is: 19.44% +/- 0.24%\n",
      "\n",
      "---\n",
      "\n",
      "Ada Boost\n",
      "\n",
      "CV accuracy scores: [0.16256158 0.1182266  0.15270936 0.19306931 0.17326733 0.16336634\n",
      " 0.16831683 0.12871287 0.15346535 0.17326733 0.14851485 0.13861386\n",
      " 0.12871287 0.13366337 0.14851485 0.16336634 0.14356436 0.15841584\n",
      " 0.15841584 0.12376238]\n",
      "\n",
      "CV estimate of accuracy is: 15.16% +/- 0.19%\n",
      "\n",
      "---\n",
      "\n",
      "CPU times: user 3min 14s, sys: 3.73 s, total: 3min 18s\n",
      "Wall time: 4min 51s\n"
     ]
    }
   ],
   "source": [
    "%%time\n",
    "\n",
    "lsvc = LinearSVC(random_state=0, tol=1e-5)\n",
    "gnb = GaussianNB()\n",
    "knn = KNeighborsClassifier(n_neighbors=3)\n",
    "rfc = RandomForestClassifier(n_estimators=10)\n",
    "boost = AdaBoostClassifier(n_estimators=100)\n",
    "\n",
    "classifiers = [lsvc, gnb, knn, rfc, boost]\n",
    "pipelines = []\n",
    "\n",
    "for classifier in classifiers:\n",
    "    #pipelines.append(Pipeline([('clss',MultiOutputClassifier(classifier, n_jobs=-1))]))\n",
    "    pipelines.append(Pipeline([('clss',classifier)]))\n",
    "\n",
    "# Dictionary of pipelines and classifier types\n",
    "pipe_dict = {0: 'Linear SVC', 1: 'Guassian NB', 2: 'K Neighbors', 3: 'Random Forest', 4: 'Ada Boost'}\n",
    "    \n",
    "\n",
    "for i, pipe in enumerate(pipelines):\n",
    "    scores = cross_val_score(pipe, X=X_train, y=y_train, cv=20)\n",
    "    \n",
    "    print(pipe_dict[i])\n",
    "    print('\\nCV accuracy scores: %s' % scores)\n",
    "    print(f'\\nCV estimate of accuracy is: {scores.mean():.2%} +/- {scores.std()*2/len(scores):.2%}')\n",
    "    print('\\n---\\n')"
   ]
  },
  {
   "cell_type": "markdown",
   "metadata": {},
   "source": [
    "**Where are we:**\n",
    "I merged the target columns into a single target column. At this time, no hyperparameter tuning has been done. I'm just using the defaults found in documentation and class notes as examples.\n",
    "\n",
    "**Comparison:**\n",
    "The accuracy performance between first run and second run:\n",
    "    \n",
    "| Classifier    | Accuracy 1    | Accuracy 2  |\n",
    "| ------------- |:-------------:| -----------:|\n",
    "| Linear SVC    | 15.19         | 25.7        |\n",
    "| Guassian NB   | 8.19          | 7.32        |\n",
    "| K Neighbors   | 12.99         | 14.49       |\n",
    "| Random Forest | 13.46         | 19.44       |\n",
    "| Ada Boost     | 16.7          | 15.16       |\n",
    "\n",
    "\n",
    "**Observations:**\n",
    "* Warnings of convergence began to emerge.\n",
    "* The accuracy of Linear SVC increased dramatically from 15 to 25%. However, it appears LSVC is the classifier issuing the alerts.\n",
    "* GNB's accuracy decreased by almost 2%\n",
    "* KNN's accuracy increased slightly \n",
    "* Random Forest's accuracy increased by around 5%\n",
    "* Ada Boost decreased by about 1%."
   ]
  },
  {
   "cell_type": "markdown",
   "metadata": {},
   "source": [
    "---"
   ]
  },
  {
   "cell_type": "markdown",
   "metadata": {},
   "source": [
    "## Optimisation\n",
    "\n",
    "### Hyperparameter Tuning with GridSearchCV\n",
    "\n",
    "In almost every Machine Learning project, we train various models on the dataset and then choose the one that performs the best. However, since we cannot be certain that this model is the best for the problem at hand, there is almost always space for improvement. As a result, our goal is to improve the model in whatever way we can.  The hyperparameters of these models are an essential factor in their performance; once we set acceptable values for these hyperparameters, the performance of a model will dramatically improve. In this section, I'll use GridSearchCV to find the best values for a model's hyperparameters.\n",
    "\n",
    "Hyperparameter tuning is the method of determining the best values for a model's hyperparameters. There is no way to know ahead of time what the best values for hyperparameters are, so we should try all possible values to find the best ones. Since manually tuning hyperparameters will take a significant amount of time and resources, we use GridSearchCV to automate the process.\n",
    "\n",
    "**Note:** GridSearchCV took a very long time to process.  I have commented out that section of code below and rather use RandomisedSearchCV method.  The results were very similar."
   ]
  },
  {
   "cell_type": "markdown",
   "metadata": {},
   "source": [
    "#### Make a List of All Hyperparams\n",
    "\n",
    "I was getting errors regarding invalid parameter errors like this : \"ValueError: Invalid parameter dual for estimator Pipeline...\"  Decided to evalute the names of the parameters for the param_grid list."
   ]
  },
  {
   "cell_type": "code",
   "execution_count": 21,
   "metadata": {},
   "outputs": [
    {
     "name": "stdout",
     "output_type": "stream",
     "text": [
      "{'C': 1.0, 'class_weight': None, 'dual': True, 'fit_intercept': True, 'intercept_scaling': 1, 'loss': 'squared_hinge', 'max_iter': 1000, 'multi_class': 'ovr', 'penalty': 'l2', 'random_state': None, 'tol': 0.0001, 'verbose': 0}\n",
      "---\n",
      "\n",
      "{'priors': None, 'var_smoothing': 1e-09}\n",
      "---\n",
      "\n",
      "{'algorithm': 'auto', 'leaf_size': 30, 'metric': 'minkowski', 'metric_params': None, 'n_jobs': None, 'n_neighbors': 5, 'p': 2, 'weights': 'uniform'}\n",
      "---\n",
      "\n",
      "{'bootstrap': True, 'ccp_alpha': 0.0, 'class_weight': None, 'criterion': 'gini', 'max_depth': None, 'max_features': 'auto', 'max_leaf_nodes': None, 'max_samples': None, 'min_impurity_decrease': 0.0, 'min_impurity_split': None, 'min_samples_leaf': 1, 'min_samples_split': 2, 'min_weight_fraction_leaf': 0.0, 'n_estimators': 100, 'n_jobs': None, 'oob_score': False, 'random_state': None, 'verbose': 0, 'warm_start': False}\n",
      "---\n",
      "\n",
      "{'algorithm': 'SAMME.R', 'base_estimator': None, 'learning_rate': 1.0, 'n_estimators': 50, 'random_state': None}\n",
      "---\n",
      "\n"
     ]
    }
   ],
   "source": [
    "print(LinearSVC().get_params())\n",
    "print(\"---\\n\")\n",
    "\n",
    "print(GaussianNB().get_params())\n",
    "print(\"---\\n\")\n",
    "\n",
    "print(KNeighborsClassifier().get_params())\n",
    "print(\"---\\n\")\n",
    "\n",
    "print(RandomForestClassifier().get_params())\n",
    "print(\"---\\n\")\n",
    "\n",
    "print(AdaBoostClassifier().get_params())\n",
    "print(\"---\\n\")"
   ]
  },
  {
   "cell_type": "markdown",
   "metadata": {},
   "source": [
    "#### Define the Hyperparameters to Test"
   ]
  },
  {
   "cell_type": "markdown",
   "metadata": {},
   "source": [
    "#### Note:\n",
    "\n",
    "When I tried to test the hyperparameters for LinearSVC, I ran into some issues. I'm guessing the algorithm can't handle the kind of data it's being served.  The error messages I received included: \n",
    "\n",
    "* Estimator fit failed. The score on this train-test\n",
    "* Unsupported set of arguments: The combination of penalty='l2' and loss='squared_hinge' are not supported when dual=False, Parameters: penalty='l2', loss='squared_hinge', dual='False'\n",
    "\n",
    "The task requires the use of three different classifiers. Since I have five, I decided to leave LinearSVC out of this hyperparameter test, keeping in mind the task at hand and the time constraints. The code below has been modified to reflect this decision.\n",
    "\n",
    "**Note:** \n",
    "I had the best results with Linear SVC up until this stage, with an accuracy of around 25%. This is something to keep in mind in the end. If the other classifiers don't change dramatically, it may be worth trying to get Linear SVC to function."
   ]
  },
  {
   "cell_type": "code",
   "execution_count": 22,
   "metadata": {},
   "outputs": [],
   "source": [
    "# define the list\n",
    "param_grid = []\n",
    "param_grid.append(0)\n",
    "param_grid.append(1)\n",
    "param_grid.append(2)\n",
    "param_grid.append(3)\n",
    "\n",
    "\n",
    "#LinearSVC \n",
    "#param_grid[0] = { \n",
    "#        'clf__penalty': ['l1', 'l2'],\n",
    "#        'clf__loss' : ['hinge', 'squared_hinge'],\n",
    "#        'clf__dual' : ['True','False'],\n",
    "#    }\n",
    "\n",
    "\n",
    "# Gaussian NB\n",
    "param_grid[0] = [\n",
    "    {  \n",
    "        'clf__var_smoothing': np.logspace(0,-9, num=100)\n",
    "    }\n",
    "]\n",
    "\n",
    "# KNN\n",
    "param_grid[1] = [\n",
    "    {   \n",
    "        'clf__n_neighbors': range(1, 21, 2),\n",
    "        'clf__weights': ['uniform', 'distance'],\n",
    "        'clf__metric': ['euclidean', 'manhattan', 'minkowski']\n",
    "    }\n",
    "]\n",
    "\n",
    "# Random Forest\n",
    "param_grid[2] = [\n",
    "    {    \n",
    "        'clf__n_estimators' : [int(x) for x in np.linspace(start = 200, stop = 2000, num = 10)],\n",
    "        'clf__max_features' : ['auto', 'sqrt']  \n",
    "    }\n",
    "]\n",
    "\n",
    "# Ada Boost\n",
    "param_grid[3] = [\n",
    "    {\n",
    "        'clf__n_estimators' : [10, 50, 100, 500, 1000, 5000]  \n",
    "    }\n",
    "]"
   ]
  },
  {
   "cell_type": "markdown",
   "metadata": {},
   "source": [
    "#### Define the Pipelines"
   ]
  },
  {
   "cell_type": "code",
   "execution_count": 23,
   "metadata": {},
   "outputs": [],
   "source": [
    "#lscv = Pipeline([\n",
    "#    ('scl', StandardScaler()),\n",
    "#    ('clf', LinearSVC())\n",
    "#    ])"
   ]
  },
  {
   "cell_type": "code",
   "execution_count": 24,
   "metadata": {},
   "outputs": [],
   "source": [
    "gnb = Pipeline([\n",
    "    ('scl', StandardScaler()),\n",
    "    ('clf', GaussianNB())\n",
    "    ])"
   ]
  },
  {
   "cell_type": "code",
   "execution_count": 25,
   "metadata": {},
   "outputs": [],
   "source": [
    "knn = Pipeline([\n",
    "    ('scl', StandardScaler()),\n",
    "    ('clf', KNeighborsClassifier())\n",
    "    ])"
   ]
  },
  {
   "cell_type": "code",
   "execution_count": 26,
   "metadata": {},
   "outputs": [],
   "source": [
    "rfc = Pipeline([\n",
    "    ('scl', StandardScaler()),\n",
    "    ('clf', RandomForestClassifier())\n",
    "    ])"
   ]
  },
  {
   "cell_type": "code",
   "execution_count": 27,
   "metadata": {},
   "outputs": [],
   "source": [
    "boost = Pipeline([\n",
    "    ('scl', StandardScaler()),\n",
    "    ('clf', AdaBoostClassifier())\n",
    "    ])"
   ]
  },
  {
   "cell_type": "markdown",
   "metadata": {},
   "source": [
    "#### Build Lists for Iteration"
   ]
  },
  {
   "cell_type": "code",
   "execution_count": 28,
   "metadata": {},
   "outputs": [],
   "source": [
    "# Rebuild piplelines list\n",
    "#pipelines = [lscv, gnb, knn, rfc, boost]\n",
    "#\n",
    "#pipe_dict = {0: 'Linear SVC', 1: 'Guassian NB', 2: 'K Neighbors', 3: 'Random Forest', 4: 'Ada Boost'}"
   ]
  },
  {
   "cell_type": "code",
   "execution_count": 29,
   "metadata": {},
   "outputs": [],
   "source": [
    "# Rebuild piplelines list\n",
    "pipelines = [gnb, knn, rfc, boost]\n",
    "\n",
    "pipe_dict = {0: 'Guassian NB', 1: 'K Neighbors', 2: 'Random Forest', 3: 'Ada Boost'}"
   ]
  },
  {
   "cell_type": "markdown",
   "metadata": {},
   "source": [
    "#### Run the Pipelines with Hyperparameters"
   ]
  },
  {
   "cell_type": "code",
   "execution_count": 30,
   "metadata": {},
   "outputs": [],
   "source": [
    "##%%time\n",
    "\n",
    "## As noted above:  The hyperparameter search took an immense time to process and I have chosen rather to use the \n",
    "## RandomizedSearchCV method\n",
    "\n",
    "#for i, pipeline in enumerate(pipelines):\n",
    "    \n",
    "    \n",
    "#    print(\"----------------------------\")\n",
    "#    print(pipe_dict[i])\n",
    "#    print(param_grid[i])\n",
    "\n",
    "#    gs = GridSearchCV(estimator=pipeline, return_train_score=True, param_grid=param_grid[i], scoring='accuracy')\n",
    "    \n",
    "#    gs = gs.fit(X_train, y_train)\n",
    "#    print('\\n')\n",
    "#    print('Results:')\n",
    "#    print(gs.best_score_)\n",
    "#    print(gs.best_params_)\n",
    "    \n",
    "    # summarize results\n",
    "#    print(\"\\n\")\n",
    "#    means = gs.cv_results_['mean_test_score']\n",
    "#    stds = gs.cv_results_['std_test_score']\n",
    "#    params = grid_result.cv_results_['params']\n",
    "    \n",
    "#    for mean, stdev, param in zip(means, stds, params):\n",
    "#        print(\"%f (%f) with: %r\" % (mean, stdev, param))\n",
    "\n",
    "#    print(\"\\n\\n\")"
   ]
  },
  {
   "cell_type": "markdown",
   "metadata": {},
   "source": [
    "#### RandomizedSearchCV\n",
    "\n",
    "The GridSearch above took a very long time to execute.  I run RanomizedSearchCV below to see if I get quicker results.\n",
    "\n",
    "In GridSearchCV (above), we identify the combinations and train the model, while in RandomizedSearchCV, the model chooses the combinations at random. Both are very useful methods for increasing the model's generalizability by tuning the parameters."
   ]
  },
  {
   "cell_type": "markdown",
   "metadata": {},
   "source": [
    "**NOTE**  The code block below takes a very long time to run.  I have changed the code so that it will not run unless run is set to True below."
   ]
  },
  {
   "cell_type": "code",
   "execution_count": 31,
   "metadata": {},
   "outputs": [],
   "source": [
    "run = True"
   ]
  },
  {
   "cell_type": "code",
   "execution_count": 32,
   "metadata": {},
   "outputs": [
    {
     "name": "stdout",
     "output_type": "stream",
     "text": [
      "----------------------------\n",
      "Guassian NB\n",
      "[{'clf__var_smoothing': array([1.00000000e+00, 8.11130831e-01, 6.57933225e-01, 5.33669923e-01,\n",
      "       4.32876128e-01, 3.51119173e-01, 2.84803587e-01, 2.31012970e-01,\n",
      "       1.87381742e-01, 1.51991108e-01, 1.23284674e-01, 1.00000000e-01,\n",
      "       8.11130831e-02, 6.57933225e-02, 5.33669923e-02, 4.32876128e-02,\n",
      "       3.51119173e-02, 2.84803587e-02, 2.31012970e-02, 1.87381742e-02,\n",
      "       1.51991108e-02, 1.23284674e-02, 1.00000000e-02, 8.11130831e-03,\n",
      "       6.57933225e-03, 5.33669923e-03, 4.32876128e-03, 3.51119173e-03,\n",
      "       2.84803587e-03, 2.31012970e-03, 1.87381742e-03, 1.51991108e-03,\n",
      "       1.23284674e-03, 1.00000000e-03, 8.11130831e-04, 6.57933225e-04,\n",
      "       5.33669923e-04, 4.32876128e-04, 3.51119173e-04, 2.84803587e-04,\n",
      "       2.31012970e-04, 1.87381742e-04, 1.51991108e-04, 1.23284674e-04,\n",
      "       1.00000000e-04, 8.11130831e-05, 6.57933225e-05, 5.33669923e-05,\n",
      "       4.32876128e-05, 3.51119173e-05, 2.84803587e-05, 2.31012970e-05,\n",
      "       1.87381742e-05, 1.51991108e-05, 1.23284674e-05, 1.00000000e-05,\n",
      "       8.11130831e-06, 6.57933225e-06, 5.33669923e-06, 4.32876128e-06,\n",
      "       3.51119173e-06, 2.84803587e-06, 2.31012970e-06, 1.87381742e-06,\n",
      "       1.51991108e-06, 1.23284674e-06, 1.00000000e-06, 8.11130831e-07,\n",
      "       6.57933225e-07, 5.33669923e-07, 4.32876128e-07, 3.51119173e-07,\n",
      "       2.84803587e-07, 2.31012970e-07, 1.87381742e-07, 1.51991108e-07,\n",
      "       1.23284674e-07, 1.00000000e-07, 8.11130831e-08, 6.57933225e-08,\n",
      "       5.33669923e-08, 4.32876128e-08, 3.51119173e-08, 2.84803587e-08,\n",
      "       2.31012970e-08, 1.87381742e-08, 1.51991108e-08, 1.23284674e-08,\n",
      "       1.00000000e-08, 8.11130831e-09, 6.57933225e-09, 5.33669923e-09,\n",
      "       4.32876128e-09, 3.51119173e-09, 2.84803587e-09, 2.31012970e-09,\n",
      "       1.87381742e-09, 1.51991108e-09, 1.23284674e-09, 1.00000000e-09])}]\n",
      "\n",
      "\n",
      "Results:\n",
      "0.18302696153422512\n",
      "{'clf__var_smoothing': 0.43287612810830584}\n",
      "\n",
      "\n",
      "[{'clf__var_smoothing': 2.310129700083158e-09}, {'clf__var_smoothing': 0.04328761281083057}, {'clf__var_smoothing': 0.01873817422860384}, {'clf__var_smoothing': 1.232846739442066e-06}, {'clf__var_smoothing': 0.0533669923120631}, {'clf__var_smoothing': 0.43287612810830584}, {'clf__var_smoothing': 0.0001232846739442066}, {'clf__var_smoothing': 5.3366992312063123e-05}, {'clf__var_smoothing': 4.328761281083053e-06}, {'clf__var_smoothing': 0.1873817422860384}]\n",
      "0.068017 (0.009878) with: {'clf__var_smoothing': 2.310129700083158e-09}\n",
      "0.147165 (0.018396) with: {'clf__var_smoothing': 0.04328761281083057}\n",
      "0.137764 (0.017889) with: {'clf__var_smoothing': 0.01873817422860384}\n",
      "0.085328 (0.016580) with: {'clf__var_smoothing': 1.232846739442066e-06}\n",
      "0.152607 (0.017616) with: {'clf__var_smoothing': 0.0533669923120631}\n",
      "0.183027 (0.012966) with: {'clf__var_smoothing': 0.43287612810830584}\n",
      "0.098434 (0.020245) with: {'clf__var_smoothing': 0.0001232846739442066}\n",
      "0.094230 (0.021218) with: {'clf__var_smoothing': 5.3366992312063123e-05}\n",
      "0.089285 (0.018017) with: {'clf__var_smoothing': 4.328761281083053e-06}\n",
      "0.170910 (0.010599) with: {'clf__var_smoothing': 0.1873817422860384}\n",
      "\n",
      "\n",
      "\n",
      "----------------------------\n",
      "K Neighbors\n",
      "[{'clf__n_neighbors': range(1, 21, 2), 'clf__weights': ['uniform', 'distance'], 'clf__metric': ['euclidean', 'manhattan', 'minkowski']}]\n",
      "\n",
      "\n",
      "Results:\n",
      "0.21197114148992155\n",
      "{'clf__weights': 'uniform', 'clf__n_neighbors': 17, 'clf__metric': 'manhattan'}\n",
      "\n",
      "\n",
      "[{'clf__weights': 'distance', 'clf__n_neighbors': 1, 'clf__metric': 'manhattan'}, {'clf__weights': 'uniform', 'clf__n_neighbors': 17, 'clf__metric': 'manhattan'}, {'clf__weights': 'distance', 'clf__n_neighbors': 11, 'clf__metric': 'minkowski'}, {'clf__weights': 'uniform', 'clf__n_neighbors': 5, 'clf__metric': 'manhattan'}, {'clf__weights': 'distance', 'clf__n_neighbors': 19, 'clf__metric': 'minkowski'}, {'clf__weights': 'distance', 'clf__n_neighbors': 13, 'clf__metric': 'euclidean'}, {'clf__weights': 'uniform', 'clf__n_neighbors': 7, 'clf__metric': 'minkowski'}, {'clf__weights': 'distance', 'clf__n_neighbors': 17, 'clf__metric': 'euclidean'}, {'clf__weights': 'distance', 'clf__n_neighbors': 11, 'clf__metric': 'euclidean'}, {'clf__weights': 'uniform', 'clf__n_neighbors': 11, 'clf__metric': 'euclidean'}]\n",
      "0.149395 (0.010285) with: {'clf__weights': 'distance', 'clf__n_neighbors': 1, 'clf__metric': 'manhattan'}\n",
      "0.211971 (0.013327) with: {'clf__weights': 'uniform', 'clf__n_neighbors': 17, 'clf__metric': 'manhattan'}\n",
      "0.198859 (0.008207) with: {'clf__weights': 'distance', 'clf__n_neighbors': 11, 'clf__metric': 'minkowski'}\n",
      "0.174373 (0.004536) with: {'clf__weights': 'uniform', 'clf__n_neighbors': 5, 'clf__metric': 'manhattan'}\n",
      "0.209001 (0.006610) with: {'clf__weights': 'distance', 'clf__n_neighbors': 19, 'clf__metric': 'minkowski'}\n",
      "0.198859 (0.008290) with: {'clf__weights': 'distance', 'clf__n_neighbors': 13, 'clf__metric': 'euclidean'}\n",
      "0.186742 (0.004809) with: {'clf__weights': 'uniform', 'clf__n_neighbors': 7, 'clf__metric': 'minkowski'}\n",
      "0.209248 (0.008110) with: {'clf__weights': 'distance', 'clf__n_neighbors': 17, 'clf__metric': 'euclidean'}\n",
      "0.198859 (0.008207) with: {'clf__weights': 'distance', 'clf__n_neighbors': 11, 'clf__metric': 'euclidean'}\n",
      "0.193172 (0.009112) with: {'clf__weights': 'uniform', 'clf__n_neighbors': 11, 'clf__metric': 'euclidean'}\n",
      "\n",
      "\n",
      "\n",
      "----------------------------\n",
      "Random Forest\n",
      "[{'clf__n_estimators': [200, 400, 600, 800, 1000, 1200, 1400, 1600, 1800, 2000], 'clf__max_features': ['auto', 'sqrt']}]\n",
      "\n",
      "\n",
      "Results:\n",
      "0.22384406858485603\n",
      "{'clf__n_estimators': 800, 'clf__max_features': 'auto'}\n",
      "\n",
      "\n",
      "[{'clf__n_estimators': 400, 'clf__max_features': 'auto'}, {'clf__n_estimators': 1400, 'clf__max_features': 'sqrt'}, {'clf__n_estimators': 1600, 'clf__max_features': 'sqrt'}, {'clf__n_estimators': 400, 'clf__max_features': 'sqrt'}, {'clf__n_estimators': 2000, 'clf__max_features': 'sqrt'}, {'clf__n_estimators': 1800, 'clf__max_features': 'auto'}, {'clf__n_estimators': 1000, 'clf__max_features': 'auto'}, {'clf__n_estimators': 800, 'clf__max_features': 'auto'}, {'clf__n_estimators': 1400, 'clf__max_features': 'auto'}, {'clf__n_estimators': 200, 'clf__max_features': 'sqrt'}]\n",
      "0.221620 (0.011061) with: {'clf__n_estimators': 400, 'clf__max_features': 'auto'}\n",
      "0.220631 (0.014099) with: {'clf__n_estimators': 1400, 'clf__max_features': 'sqrt'}\n",
      "0.219640 (0.013134) with: {'clf__n_estimators': 1600, 'clf__max_features': 'sqrt'}\n",
      "0.223102 (0.013834) with: {'clf__n_estimators': 400, 'clf__max_features': 'sqrt'}\n",
      "0.220134 (0.015645) with: {'clf__n_estimators': 2000, 'clf__max_features': 'sqrt'}\n",
      "0.220630 (0.012941) with: {'clf__n_estimators': 1800, 'clf__max_features': 'auto'}\n",
      "0.222608 (0.013471) with: {'clf__n_estimators': 1000, 'clf__max_features': 'auto'}\n",
      "0.223844 (0.015125) with: {'clf__n_estimators': 800, 'clf__max_features': 'auto'}\n",
      "0.220631 (0.012821) with: {'clf__n_estimators': 1400, 'clf__max_features': 'auto'}\n",
      "0.219638 (0.012759) with: {'clf__n_estimators': 200, 'clf__max_features': 'sqrt'}\n",
      "\n",
      "\n",
      "\n",
      "----------------------------\n",
      "Ada Boost\n",
      "[{'clf__n_estimators': [10, 50, 100, 500, 1000, 5000]}]\n"
     ]
    },
    {
     "name": "stderr",
     "output_type": "stream",
     "text": [
      "/Users/wazby/opt/anaconda3/lib/python3.8/site-packages/sklearn/model_selection/_search.py:285: UserWarning: The total space of parameters 6 is smaller than n_iter=10. Running 6 iterations. For exhaustive searches, use GridSearchCV.\n",
      "  warnings.warn(\n"
     ]
    },
    {
     "name": "stdout",
     "output_type": "stream",
     "text": [
      "\n",
      "\n",
      "Results:\n",
      "0.25154389357353535\n",
      "{'clf__n_estimators': 10}\n",
      "\n",
      "\n",
      "[{'clf__n_estimators': 10}, {'clf__n_estimators': 50}, {'clf__n_estimators': 100}, {'clf__n_estimators': 500}, {'clf__n_estimators': 1000}, {'clf__n_estimators': 5000}]\n",
      "0.251544 (0.006540) with: {'clf__n_estimators': 10}\n",
      "0.178082 (0.012316) with: {'clf__n_estimators': 50}\n",
      "0.148400 (0.016295) with: {'clf__n_estimators': 100}\n",
      "0.106849 (0.009280) with: {'clf__n_estimators': 500}\n",
      "0.101653 (0.009772) with: {'clf__n_estimators': 1000}\n",
      "0.098190 (0.013366) with: {'clf__n_estimators': 5000}\n",
      "\n",
      "\n",
      "\n",
      "CPU times: user 19min 41s, sys: 1min 3s, total: 20min 45s\n",
      "Wall time: 26min 22s\n"
     ]
    }
   ],
   "source": [
    "%%time\n",
    "\n",
    "if run:\n",
    "\n",
    "    for i, pipeline in enumerate(pipelines):\n",
    "\n",
    "\n",
    "        print(\"----------------------------\")\n",
    "        print(pipe_dict[i])\n",
    "        print(param_grid[i])\n",
    "\n",
    "        rs = RandomizedSearchCV(estimator=pipeline, return_train_score=True, param_distributions=param_grid[i], scoring='accuracy')\n",
    "\n",
    "        rs = rs.fit(X_train, y_train)\n",
    "        print('\\n')\n",
    "        print('Results:')\n",
    "        print(rs.best_score_)\n",
    "        print(rs.best_params_)\n",
    "\n",
    "        # summarize results\n",
    "        print(\"\\n\")\n",
    "        means = rs.cv_results_['mean_test_score']\n",
    "        stds = rs.cv_results_['std_test_score']\n",
    "        params = rs.cv_results_['params']\n",
    "\n",
    "        print(params)\n",
    "\n",
    "        for mean, stdev, param in zip(means, stds, params):\n",
    "            print(\"%f (%f) with: %r\" % (mean, stdev, param))\n",
    "\n",
    "        print(\"\\n\\n\")\n",
    "\n",
    "        #df_rs = pd.DataFrame(np.transpose([\n",
    "        #rs.cv_results_[\"mean_test_score\"],\n",
    "        #rs.cv_results_[\"param_clf__C\"].data,\n",
    "        #rs.cv_results_[\"param_clf__gamma\"].data]),\n",
    "        #columns=['score', 'C', ' gamma'])\n",
    "\n",
    "\n",
    "        #df_rs.plot(subplots=True,figsize=(12, 8))\n",
    "        #plt.savefig(\"rs__example_1.pdf\", bbox_inches=\"tight\")\n",
    "        #plt.show()\n"
   ]
  },
  {
   "cell_type": "markdown",
   "metadata": {},
   "source": [
    "**Where are we:**\n",
    "RandomizedSearchCV was used to choose hyperparameters for the classifiers and to calculate the accuracy scores. Because it was giving convergence alerts, I dropped LinearSVC, which had previously had the highest accuracy ranking.\n",
    "\n",
    "**Comparison:**\n",
    "The accuracy performance percentage between first, second and third run:\n",
    "    \n",
    "| Classifier    | Accuracy 1    | Accuracy 2  | Accuaracy 3  |\n",
    "| ------------- |:-------------:| -----------:|:------------:|\n",
    "| Linear SVC    | 15.19         | 25.7        |-             |\n",
    "| Guassian NB   | 8.19          | 7.32        |18.3          |\n",
    "| K Neighbors   | 13.7          | 14.86       |21.1          |\n",
    "| Random Forest | 13.18         | 18.5        |22.3          |\n",
    "| Ada Boost     | 16.7          | 15.16       |25.1          |\n",
    "\n",
    "\n",
    "**Observations:**\n",
    "* Warnings were given by RandomForest. It is basically saying that in order to get the most accurate results the GridSearch method should be used.  I have already opted not to use GridSearch as it was very time and processor heavy.\n",
    "* UserWarning: The total space of parameters 6 is smaller than n_iter=10. Running 6 iterations. For exhaustive searches, use GridSearchCV.\n",
    "    \n",
    "\n",
    "* All the Classifiers had a dramatic improvement.\n",
    "* GNB up by 12%\n",
    "* KNN up by about 7%\n",
    "* RandomForest up by about 4%\n",
    "* Ada Boost up by about 10%\n",
    "\n",
    "As a result, the Hyperparameter tuning has significantly improved. It's worth noting that Ada Boost is essentially claiming that if it's used with the GridSeachCV, it'll get better results; this is may be true with all the classifiers.  I test GridSearchCV below..."
   ]
  },
  {
   "cell_type": "markdown",
   "metadata": {},
   "source": [
    "**NOTE**  The code block below takes a very long time to run.  I have changed the code so that it will not run unless run is set to True below."
   ]
  },
  {
   "cell_type": "code",
   "execution_count": 33,
   "metadata": {},
   "outputs": [],
   "source": [
    "run = True"
   ]
  },
  {
   "cell_type": "code",
   "execution_count": 34,
   "metadata": {},
   "outputs": [
    {
     "name": "stdout",
     "output_type": "stream",
     "text": [
      "----------------------------\n",
      "Guassian NB\n",
      "[{'clf__var_smoothing': array([1.00000000e+00, 8.11130831e-01, 6.57933225e-01, 5.33669923e-01,\n",
      "       4.32876128e-01, 3.51119173e-01, 2.84803587e-01, 2.31012970e-01,\n",
      "       1.87381742e-01, 1.51991108e-01, 1.23284674e-01, 1.00000000e-01,\n",
      "       8.11130831e-02, 6.57933225e-02, 5.33669923e-02, 4.32876128e-02,\n",
      "       3.51119173e-02, 2.84803587e-02, 2.31012970e-02, 1.87381742e-02,\n",
      "       1.51991108e-02, 1.23284674e-02, 1.00000000e-02, 8.11130831e-03,\n",
      "       6.57933225e-03, 5.33669923e-03, 4.32876128e-03, 3.51119173e-03,\n",
      "       2.84803587e-03, 2.31012970e-03, 1.87381742e-03, 1.51991108e-03,\n",
      "       1.23284674e-03, 1.00000000e-03, 8.11130831e-04, 6.57933225e-04,\n",
      "       5.33669923e-04, 4.32876128e-04, 3.51119173e-04, 2.84803587e-04,\n",
      "       2.31012970e-04, 1.87381742e-04, 1.51991108e-04, 1.23284674e-04,\n",
      "       1.00000000e-04, 8.11130831e-05, 6.57933225e-05, 5.33669923e-05,\n",
      "       4.32876128e-05, 3.51119173e-05, 2.84803587e-05, 2.31012970e-05,\n",
      "       1.87381742e-05, 1.51991108e-05, 1.23284674e-05, 1.00000000e-05,\n",
      "       8.11130831e-06, 6.57933225e-06, 5.33669923e-06, 4.32876128e-06,\n",
      "       3.51119173e-06, 2.84803587e-06, 2.31012970e-06, 1.87381742e-06,\n",
      "       1.51991108e-06, 1.23284674e-06, 1.00000000e-06, 8.11130831e-07,\n",
      "       6.57933225e-07, 5.33669923e-07, 4.32876128e-07, 3.51119173e-07,\n",
      "       2.84803587e-07, 2.31012970e-07, 1.87381742e-07, 1.51991108e-07,\n",
      "       1.23284674e-07, 1.00000000e-07, 8.11130831e-08, 6.57933225e-08,\n",
      "       5.33669923e-08, 4.32876128e-08, 3.51119173e-08, 2.84803587e-08,\n",
      "       2.31012970e-08, 1.87381742e-08, 1.51991108e-08, 1.23284674e-08,\n",
      "       1.00000000e-08, 8.11130831e-09, 6.57933225e-09, 5.33669923e-09,\n",
      "       4.32876128e-09, 3.51119173e-09, 2.84803587e-09, 2.31012970e-09,\n",
      "       1.87381742e-09, 1.51991108e-09, 1.23284674e-09, 1.00000000e-09])}]\n",
      "\n",
      "\n",
      "Results:\n",
      "0.20083436341161928\n",
      "{'clf__var_smoothing': 1.0}\n",
      "\n",
      "\n",
      "0.200834 (0.012522) with: {'clf__var_smoothing': 1.0}\n",
      "0.196382 (0.013731) with: {'clf__var_smoothing': 0.8111308307896871}\n",
      "0.193908 (0.015661) with: {'clf__var_smoothing': 0.657933224657568}\n",
      "0.189210 (0.015431) with: {'clf__var_smoothing': 0.533669923120631}\n",
      "0.183027 (0.012966) with: {'clf__var_smoothing': 0.43287612810830584}\n",
      "0.181791 (0.012742) with: {'clf__var_smoothing': 0.3511191734215131}\n",
      "0.177091 (0.012523) with: {'clf__var_smoothing': 0.2848035868435802}\n",
      "0.172640 (0.011813) with: {'clf__var_smoothing': 0.23101297000831597}\n",
      "0.170910 (0.010599) with: {'clf__var_smoothing': 0.1873817422860384}\n",
      "0.166953 (0.011427) with: {'clf__var_smoothing': 0.15199110829529336}\n",
      "0.163986 (0.011774) with: {'clf__var_smoothing': 0.12328467394420659}\n",
      "0.160769 (0.013827) with: {'clf__var_smoothing': 0.1}\n",
      "0.158791 (0.012499) with: {'clf__var_smoothing': 0.08111308307896872}\n",
      "0.156318 (0.016017) with: {'clf__var_smoothing': 0.0657933224657568}\n",
      "0.152607 (0.017616) with: {'clf__var_smoothing': 0.0533669923120631}\n",
      "0.147165 (0.018396) with: {'clf__var_smoothing': 0.04328761281083057}\n",
      "0.144692 (0.018362) with: {'clf__var_smoothing': 0.03511191734215131}\n",
      "0.140734 (0.016589) with: {'clf__var_smoothing': 0.02848035868435802}\n",
      "0.139002 (0.015695) with: {'clf__var_smoothing': 0.02310129700083159}\n",
      "0.137764 (0.017889) with: {'clf__var_smoothing': 0.01873817422860384}\n",
      "0.134796 (0.019527) with: {'clf__var_smoothing': 0.01519911082952933}\n",
      "0.130344 (0.018111) with: {'clf__var_smoothing': 0.012328467394420659}\n",
      "0.127376 (0.017325) with: {'clf__var_smoothing': 0.01}\n",
      "0.124655 (0.017477) with: {'clf__var_smoothing': 0.008111308307896872}\n",
      "0.121934 (0.017635) with: {'clf__var_smoothing': 0.006579332246575682}\n",
      "0.119709 (0.018130) with: {'clf__var_smoothing': 0.005336699231206307}\n",
      "0.117482 (0.018816) with: {'clf__var_smoothing': 0.004328761281083057}\n",
      "0.117729 (0.020560) with: {'clf__var_smoothing': 0.003511191734215131}\n",
      "0.115503 (0.020650) with: {'clf__var_smoothing': 0.002848035868435802}\n",
      "0.114017 (0.022184) with: {'clf__var_smoothing': 0.0023101297000831605}\n",
      "0.112533 (0.021887) with: {'clf__var_smoothing': 0.001873817422860383}\n",
      "0.110555 (0.021966) with: {'clf__var_smoothing': 0.0015199110829529332}\n",
      "0.108575 (0.021878) with: {'clf__var_smoothing': 0.0012328467394420659}\n",
      "0.108081 (0.020394) with: {'clf__var_smoothing': 0.001}\n",
      "0.106350 (0.021050) with: {'clf__var_smoothing': 0.0008111308307896872}\n",
      "0.105607 (0.021658) with: {'clf__var_smoothing': 0.0006579332246575676}\n",
      "0.104865 (0.021213) with: {'clf__var_smoothing': 0.0005336699231206307}\n",
      "0.103628 (0.020967) with: {'clf__var_smoothing': 0.0004328761281083057}\n",
      "0.102639 (0.021536) with: {'clf__var_smoothing': 0.0003511191734215131}\n",
      "0.101402 (0.021149) with: {'clf__var_smoothing': 0.0002848035868435802}\n",
      "0.100413 (0.020880) with: {'clf__var_smoothing': 0.0002310129700083158}\n",
      "0.099671 (0.019803) with: {'clf__var_smoothing': 0.0001873817422860383}\n",
      "0.099424 (0.019895) with: {'clf__var_smoothing': 0.0001519911082952933}\n",
      "0.098434 (0.020245) with: {'clf__var_smoothing': 0.0001232846739442066}\n",
      "0.097445 (0.020617) with: {'clf__var_smoothing': 0.0001}\n",
      "0.096208 (0.021375) with: {'clf__var_smoothing': 8.111308307896872e-05}\n",
      "0.094725 (0.020873) with: {'clf__var_smoothing': 6.579332246575683e-05}\n",
      "0.094230 (0.021218) with: {'clf__var_smoothing': 5.3366992312063123e-05}\n",
      "0.093488 (0.020369) with: {'clf__var_smoothing': 4.328761281083062e-05}\n",
      "0.092746 (0.020225) with: {'clf__var_smoothing': 3.511191734215127e-05}\n",
      "0.092004 (0.019947) with: {'clf__var_smoothing': 2.848035868435799e-05}\n",
      "0.092004 (0.019947) with: {'clf__var_smoothing': 2.310129700083158e-05}\n",
      "0.092004 (0.019947) with: {'clf__var_smoothing': 1.873817422860383e-05}\n",
      "0.091509 (0.020105) with: {'clf__var_smoothing': 1.5199110829529332e-05}\n",
      "0.091262 (0.020111) with: {'clf__var_smoothing': 1.2328467394420658e-05}\n",
      "0.091263 (0.019684) with: {'clf__var_smoothing': 1e-05}\n",
      "0.091510 (0.019396) with: {'clf__var_smoothing': 8.111308307896873e-06}\n",
      "0.089780 (0.017662) with: {'clf__var_smoothing': 6.579332246575683e-06}\n",
      "0.089037 (0.017754) with: {'clf__var_smoothing': 5.336699231206313e-06}\n",
      "0.089285 (0.018017) with: {'clf__var_smoothing': 4.328761281083053e-06}\n",
      "0.088790 (0.018135) with: {'clf__var_smoothing': 3.5111917342151275e-06}\n",
      "0.087554 (0.017060) with: {'clf__var_smoothing': 2.848035868435799e-06}\n",
      "0.086812 (0.016717) with: {'clf__var_smoothing': 2.310129700083158e-06}\n",
      "0.086317 (0.016329) with: {'clf__var_smoothing': 1.873817422860383e-06}\n",
      "0.085575 (0.016494) with: {'clf__var_smoothing': 1.519911082952933e-06}\n",
      "0.085328 (0.016580) with: {'clf__var_smoothing': 1.232846739442066e-06}\n",
      "0.084833 (0.016201) with: {'clf__var_smoothing': 1e-06}\n",
      "0.084091 (0.015963) with: {'clf__var_smoothing': 8.111308307896872e-07}\n",
      "0.083349 (0.016163) with: {'clf__var_smoothing': 6.579332246575682e-07}\n",
      "0.083597 (0.016088) with: {'clf__var_smoothing': 5.336699231206313e-07}\n",
      "0.083102 (0.015740) with: {'clf__var_smoothing': 4.3287612810830526e-07}\n",
      "0.082608 (0.015408) with: {'clf__var_smoothing': 3.5111917342151277e-07}\n",
      "0.081619 (0.013520) with: {'clf__var_smoothing': 2.848035868435799e-07}\n",
      "0.079887 (0.012156) with: {'clf__var_smoothing': 2.310129700083158e-07}\n",
      "0.079393 (0.011238) with: {'clf__var_smoothing': 1.873817422860383e-07}\n",
      "0.078404 (0.010660) with: {'clf__var_smoothing': 1.519911082952933e-07}\n",
      "0.078157 (0.010854) with: {'clf__var_smoothing': 1.232846739442066e-07}\n",
      "0.077910 (0.009777) with: {'clf__var_smoothing': 1e-07}\n",
      "0.077168 (0.009450) with: {'clf__var_smoothing': 8.111308307896873e-08}\n",
      "0.076426 (0.009147) with: {'clf__var_smoothing': 6.579332246575682e-08}\n",
      "0.076179 (0.008780) with: {'clf__var_smoothing': 5.336699231206302e-08}\n",
      "0.075190 (0.007936) with: {'clf__var_smoothing': 4.3287612810830526e-08}\n",
      "0.074942 (0.008134) with: {'clf__var_smoothing': 3.5111917342151277e-08}\n",
      "0.074695 (0.007829) with: {'clf__var_smoothing': 2.848035868435799e-08}\n",
      "0.074201 (0.007921) with: {'clf__var_smoothing': 2.310129700083158e-08}\n",
      "0.074201 (0.007921) with: {'clf__var_smoothing': 1.873817422860383e-08}\n",
      "0.072222 (0.008212) with: {'clf__var_smoothing': 1.519911082952933e-08}\n",
      "0.071728 (0.008872) with: {'clf__var_smoothing': 1.232846739442066e-08}\n",
      "0.071233 (0.008505) with: {'clf__var_smoothing': 1e-08}\n",
      "0.070986 (0.008251) with: {'clf__var_smoothing': 8.111308307896856e-09}\n",
      "0.069749 (0.009327) with: {'clf__var_smoothing': 6.579332246575682e-09}\n",
      "0.069502 (0.009089) with: {'clf__var_smoothing': 5.336699231206302e-09}\n",
      "0.068759 (0.009898) with: {'clf__var_smoothing': 4.328761281083061e-09}\n",
      "0.068759 (0.009898) with: {'clf__var_smoothing': 3.5111917342151273e-09}\n",
      "0.068264 (0.009577) with: {'clf__var_smoothing': 2.848035868435805e-09}\n",
      "0.068017 (0.009878) with: {'clf__var_smoothing': 2.310129700083158e-09}\n",
      "0.067522 (0.010439) with: {'clf__var_smoothing': 1.873817422860387e-09}\n",
      "0.066533 (0.010695) with: {'clf__var_smoothing': 1.519911082952933e-09}\n",
      "0.066286 (0.010558) with: {'clf__var_smoothing': 1.2328467394420635e-09}\n",
      "0.066038 (0.010900) with: {'clf__var_smoothing': 1e-09}\n",
      "\n",
      "\n",
      "\n",
      "----------------------------\n",
      "K Neighbors\n",
      "[{'clf__n_neighbors': range(1, 21, 2), 'clf__weights': ['uniform', 'distance'], 'clf__metric': ['euclidean', 'manhattan', 'minkowski']}]\n"
     ]
    },
    {
     "name": "stdout",
     "output_type": "stream",
     "text": [
      "\n",
      "\n",
      "Results:\n",
      "0.21493715502576216\n",
      "{'clf__metric': 'manhattan', 'clf__n_neighbors': 17, 'clf__weights': 'distance'}\n",
      "\n",
      "\n",
      "0.149394 (0.013413) with: {'clf__metric': 'euclidean', 'clf__n_neighbors': 1, 'clf__weights': 'uniform'}\n",
      "0.149394 (0.013413) with: {'clf__metric': 'euclidean', 'clf__n_neighbors': 1, 'clf__weights': 'distance'}\n",
      "0.148399 (0.011661) with: {'clf__metric': 'euclidean', 'clf__n_neighbors': 3, 'clf__weights': 'uniform'}\n",
      "0.158790 (0.011307) with: {'clf__metric': 'euclidean', 'clf__n_neighbors': 3, 'clf__weights': 'distance'}\n",
      "0.172396 (0.009805) with: {'clf__metric': 'euclidean', 'clf__n_neighbors': 5, 'clf__weights': 'uniform'}\n",
      "0.182286 (0.014271) with: {'clf__metric': 'euclidean', 'clf__n_neighbors': 5, 'clf__weights': 'distance'}\n",
      "0.186742 (0.004809) with: {'clf__metric': 'euclidean', 'clf__n_neighbors': 7, 'clf__weights': 'uniform'}\n",
      "0.192430 (0.007203) with: {'clf__metric': 'euclidean', 'clf__n_neighbors': 7, 'clf__weights': 'distance'}\n",
      "0.191438 (0.008271) with: {'clf__metric': 'euclidean', 'clf__n_neighbors': 9, 'clf__weights': 'uniform'}\n",
      "0.197621 (0.006898) with: {'clf__metric': 'euclidean', 'clf__n_neighbors': 9, 'clf__weights': 'distance'}\n",
      "0.193172 (0.009112) with: {'clf__metric': 'euclidean', 'clf__n_neighbors': 11, 'clf__weights': 'uniform'}\n",
      "0.198859 (0.008207) with: {'clf__metric': 'euclidean', 'clf__n_neighbors': 11, 'clf__weights': 'distance'}\n",
      "0.198120 (0.006018) with: {'clf__metric': 'euclidean', 'clf__n_neighbors': 13, 'clf__weights': 'uniform'}\n",
      "0.198859 (0.008290) with: {'clf__metric': 'euclidean', 'clf__n_neighbors': 13, 'clf__weights': 'distance'}\n",
      "0.203312 (0.007470) with: {'clf__metric': 'euclidean', 'clf__n_neighbors': 15, 'clf__weights': 'uniform'}\n",
      "0.203062 (0.009706) with: {'clf__metric': 'euclidean', 'clf__n_neighbors': 15, 'clf__weights': 'distance'}\n",
      "0.205043 (0.007487) with: {'clf__metric': 'euclidean', 'clf__n_neighbors': 17, 'clf__weights': 'uniform'}\n",
      "0.209248 (0.008110) with: {'clf__metric': 'euclidean', 'clf__n_neighbors': 17, 'clf__weights': 'distance'}\n",
      "0.211225 (0.007606) with: {'clf__metric': 'euclidean', 'clf__n_neighbors': 19, 'clf__weights': 'uniform'}\n",
      "0.209001 (0.006610) with: {'clf__metric': 'euclidean', 'clf__n_neighbors': 19, 'clf__weights': 'distance'}\n",
      "0.149395 (0.010285) with: {'clf__metric': 'manhattan', 'clf__n_neighbors': 1, 'clf__weights': 'uniform'}\n",
      "0.149395 (0.010285) with: {'clf__metric': 'manhattan', 'clf__n_neighbors': 1, 'clf__weights': 'distance'}\n",
      "0.151614 (0.012970) with: {'clf__metric': 'manhattan', 'clf__n_neighbors': 3, 'clf__weights': 'uniform'}\n",
      "0.161016 (0.009084) with: {'clf__metric': 'manhattan', 'clf__n_neighbors': 3, 'clf__weights': 'distance'}\n",
      "0.174373 (0.004536) with: {'clf__metric': 'manhattan', 'clf__n_neighbors': 5, 'clf__weights': 'uniform'}\n",
      "0.180059 (0.008938) with: {'clf__metric': 'manhattan', 'clf__n_neighbors': 5, 'clf__weights': 'distance'}\n",
      "0.185998 (0.005999) with: {'clf__metric': 'manhattan', 'clf__n_neighbors': 7, 'clf__weights': 'uniform'}\n",
      "0.189707 (0.009095) with: {'clf__metric': 'manhattan', 'clf__n_neighbors': 7, 'clf__weights': 'distance'}\n",
      "0.193418 (0.009735) with: {'clf__metric': 'manhattan', 'clf__n_neighbors': 9, 'clf__weights': 'uniform'}\n",
      "0.192675 (0.008390) with: {'clf__metric': 'manhattan', 'clf__n_neighbors': 9, 'clf__weights': 'distance'}\n",
      "0.202570 (0.009457) with: {'clf__metric': 'manhattan', 'clf__n_neighbors': 11, 'clf__weights': 'uniform'}\n",
      "0.203061 (0.013334) with: {'clf__metric': 'manhattan', 'clf__n_neighbors': 11, 'clf__weights': 'distance'}\n",
      "0.201582 (0.010897) with: {'clf__metric': 'manhattan', 'clf__n_neighbors': 13, 'clf__weights': 'uniform'}\n",
      "0.205040 (0.013678) with: {'clf__metric': 'manhattan', 'clf__n_neighbors': 13, 'clf__weights': 'distance'}\n",
      "0.210239 (0.012672) with: {'clf__metric': 'manhattan', 'clf__n_neighbors': 15, 'clf__weights': 'uniform'}\n",
      "0.212216 (0.010722) with: {'clf__metric': 'manhattan', 'clf__n_neighbors': 15, 'clf__weights': 'distance'}\n",
      "0.211971 (0.013327) with: {'clf__metric': 'manhattan', 'clf__n_neighbors': 17, 'clf__weights': 'uniform'}\n",
      "0.214937 (0.013387) with: {'clf__metric': 'manhattan', 'clf__n_neighbors': 17, 'clf__weights': 'distance'}\n",
      "0.213699 (0.011196) with: {'clf__metric': 'manhattan', 'clf__n_neighbors': 19, 'clf__weights': 'uniform'}\n",
      "0.210485 (0.010320) with: {'clf__metric': 'manhattan', 'clf__n_neighbors': 19, 'clf__weights': 'distance'}\n",
      "0.149394 (0.013413) with: {'clf__metric': 'minkowski', 'clf__n_neighbors': 1, 'clf__weights': 'uniform'}\n",
      "0.149394 (0.013413) with: {'clf__metric': 'minkowski', 'clf__n_neighbors': 1, 'clf__weights': 'distance'}\n",
      "0.148399 (0.011661) with: {'clf__metric': 'minkowski', 'clf__n_neighbors': 3, 'clf__weights': 'uniform'}\n",
      "0.158790 (0.011307) with: {'clf__metric': 'minkowski', 'clf__n_neighbors': 3, 'clf__weights': 'distance'}\n",
      "0.172396 (0.009805) with: {'clf__metric': 'minkowski', 'clf__n_neighbors': 5, 'clf__weights': 'uniform'}\n",
      "0.182286 (0.014271) with: {'clf__metric': 'minkowski', 'clf__n_neighbors': 5, 'clf__weights': 'distance'}\n",
      "0.186742 (0.004809) with: {'clf__metric': 'minkowski', 'clf__n_neighbors': 7, 'clf__weights': 'uniform'}\n",
      "0.192430 (0.007203) with: {'clf__metric': 'minkowski', 'clf__n_neighbors': 7, 'clf__weights': 'distance'}\n",
      "0.191438 (0.008271) with: {'clf__metric': 'minkowski', 'clf__n_neighbors': 9, 'clf__weights': 'uniform'}\n",
      "0.197621 (0.006898) with: {'clf__metric': 'minkowski', 'clf__n_neighbors': 9, 'clf__weights': 'distance'}\n",
      "0.193172 (0.009112) with: {'clf__metric': 'minkowski', 'clf__n_neighbors': 11, 'clf__weights': 'uniform'}\n",
      "0.198859 (0.008207) with: {'clf__metric': 'minkowski', 'clf__n_neighbors': 11, 'clf__weights': 'distance'}\n",
      "0.198120 (0.006018) with: {'clf__metric': 'minkowski', 'clf__n_neighbors': 13, 'clf__weights': 'uniform'}\n",
      "0.198859 (0.008290) with: {'clf__metric': 'minkowski', 'clf__n_neighbors': 13, 'clf__weights': 'distance'}\n",
      "0.203312 (0.007470) with: {'clf__metric': 'minkowski', 'clf__n_neighbors': 15, 'clf__weights': 'uniform'}\n",
      "0.203062 (0.009706) with: {'clf__metric': 'minkowski', 'clf__n_neighbors': 15, 'clf__weights': 'distance'}\n",
      "0.205043 (0.007487) with: {'clf__metric': 'minkowski', 'clf__n_neighbors': 17, 'clf__weights': 'uniform'}\n",
      "0.209248 (0.008110) with: {'clf__metric': 'minkowski', 'clf__n_neighbors': 17, 'clf__weights': 'distance'}\n",
      "0.211225 (0.007606) with: {'clf__metric': 'minkowski', 'clf__n_neighbors': 19, 'clf__weights': 'uniform'}\n",
      "0.209001 (0.006610) with: {'clf__metric': 'minkowski', 'clf__n_neighbors': 19, 'clf__weights': 'distance'}\n",
      "\n",
      "\n",
      "\n",
      "----------------------------\n",
      "Random Forest\n",
      "[{'clf__n_estimators': [200, 400, 600, 800, 1000, 1200, 1400, 1600, 1800, 2000], 'clf__max_features': ['auto', 'sqrt']}]\n",
      "\n",
      "\n",
      "Results:\n",
      "0.2235974617239227\n",
      "{'clf__max_features': 'auto', 'clf__n_estimators': 200}\n",
      "\n",
      "\n",
      "0.223597 (0.014588) with: {'clf__max_features': 'auto', 'clf__n_estimators': 200}\n",
      "0.220381 (0.008376) with: {'clf__max_features': 'auto', 'clf__n_estimators': 400}\n",
      "0.220631 (0.014484) with: {'clf__max_features': 'auto', 'clf__n_estimators': 600}\n",
      "0.223596 (0.009391) with: {'clf__max_features': 'auto', 'clf__n_estimators': 800}\n",
      "0.219889 (0.012859) with: {'clf__max_features': 'auto', 'clf__n_estimators': 1000}\n",
      "0.220877 (0.012948) with: {'clf__max_features': 'auto', 'clf__n_estimators': 1200}\n",
      "0.221124 (0.013449) with: {'clf__max_features': 'auto', 'clf__n_estimators': 1400}\n",
      "0.219394 (0.013129) with: {'clf__max_features': 'auto', 'clf__n_estimators': 1600}\n",
      "0.220630 (0.013257) with: {'clf__max_features': 'auto', 'clf__n_estimators': 1800}\n",
      "0.220877 (0.013501) with: {'clf__max_features': 'auto', 'clf__n_estimators': 2000}\n",
      "0.216179 (0.010555) with: {'clf__max_features': 'sqrt', 'clf__n_estimators': 200}\n",
      "0.219394 (0.008474) with: {'clf__max_features': 'sqrt', 'clf__n_estimators': 400}\n",
      "0.221125 (0.014628) with: {'clf__max_features': 'sqrt', 'clf__n_estimators': 600}\n",
      "0.218651 (0.012475) with: {'clf__max_features': 'sqrt', 'clf__n_estimators': 800}\n",
      "0.220137 (0.014294) with: {'clf__max_features': 'sqrt', 'clf__n_estimators': 1000}\n",
      "0.219146 (0.013471) with: {'clf__max_features': 'sqrt', 'clf__n_estimators': 1200}\n",
      "0.222856 (0.012185) with: {'clf__max_features': 'sqrt', 'clf__n_estimators': 1400}\n",
      "0.221620 (0.013522) with: {'clf__max_features': 'sqrt', 'clf__n_estimators': 1600}\n",
      "0.219886 (0.014864) with: {'clf__max_features': 'sqrt', 'clf__n_estimators': 1800}\n",
      "0.222361 (0.012475) with: {'clf__max_features': 'sqrt', 'clf__n_estimators': 2000}\n",
      "\n",
      "\n",
      "\n",
      "----------------------------\n",
      "Ada Boost\n",
      "[{'clf__n_estimators': [10, 50, 100, 500, 1000, 5000]}]\n"
     ]
    },
    {
     "name": "stdout",
     "output_type": "stream",
     "text": [
      "\n",
      "\n",
      "Results:\n",
      "0.25154389357353535\n",
      "{'clf__n_estimators': 10}\n",
      "\n",
      "\n",
      "0.251544 (0.006540) with: {'clf__n_estimators': 10}\n",
      "0.178082 (0.012316) with: {'clf__n_estimators': 50}\n",
      "0.148400 (0.016295) with: {'clf__n_estimators': 100}\n",
      "0.106849 (0.009280) with: {'clf__n_estimators': 500}\n",
      "0.101653 (0.009772) with: {'clf__n_estimators': 1000}\n",
      "0.098190 (0.013366) with: {'clf__n_estimators': 5000}\n",
      "\n",
      "\n",
      "\n",
      "CPU times: user 31min 53s, sys: 2min 15s, total: 34min 8s\n",
      "Wall time: 38min 59s\n"
     ]
    }
   ],
   "source": [
    "%%time\n",
    "\n",
    "if run:\n",
    "\n",
    "    for i, pipeline in enumerate(pipelines):\n",
    "\n",
    "\n",
    "        print(\"----------------------------\")\n",
    "        print(pipe_dict[i])\n",
    "        print(param_grid[i])\n",
    "\n",
    "        gs = GridSearchCV(estimator=pipeline, return_train_score=True, param_grid=param_grid[i], scoring='accuracy')\n",
    "\n",
    "        gs = gs.fit(X_train, y_train)\n",
    "        print('\\n')\n",
    "        print('Results:')\n",
    "        print(gs.best_score_)\n",
    "        print(gs.best_params_)\n",
    "\n",
    "        # summarize results\n",
    "        print(\"\\n\")\n",
    "        means = gs.cv_results_['mean_test_score']\n",
    "        stds = gs.cv_results_['std_test_score']\n",
    "        params = gs.cv_results_['params']\n",
    "\n",
    "        for mean, stdev, param in zip(means, stds, params):\n",
    "            print(\"%f (%f) with: %r\" % (mean, stdev, param))\n",
    "\n",
    "        print(\"\\n\\n\")"
   ]
  },
  {
   "cell_type": "markdown",
   "metadata": {},
   "source": [
    "**Where are we:**\n",
    "Because Ada Boost was giving a warning in the previous run.  I decided to run hyperparameter tuning through GridSearchCV to see the difference between RandomSearchCv and GridSearchCV.\n",
    "\n",
    "**Comparison:**\n",
    "The accuracy performance percentage between first, second, third and fourth run.  For this review, I went back to decimal percentages:\n",
    "    \n",
    "| Classifier    | Accuracy 1    | Accuracy 2  | Accuaracy 3  | Accuracy 4  |\n",
    "| ------------- |:-------------:| -----------:|:------------:|:------------|\n",
    "| Linear SVC    | 0.1519         | 0.257        |-             |-            |\n",
    "| Guassian NB   | 0.082          | 0.732        |0.18302696153422512            |0.20083436341161928           |\n",
    "| K Neighbors   | 0.129          | 0.1449       |0.21197114148992155            |0.21493715502576216           |\n",
    "| Random Forest | 0.1346         | 0.1944        |0.22384406858485603           |0.2235974617239227           |\n",
    "| Ada Boost     | 0.167          | 0.1516       |0.25154389357353535            |0.25154389357353535           |\n",
    "\n",
    "\n",
    "**Observations:**\n",
    "* No warnings were received this time\n",
    "* GNB improved by about 7%\n",
    "* There was no improvement for KNN or Ada Boost\n",
    "* Tiny improvements in accuracy were seen for Random Forest\n",
    "* GridSearch takes a longer time to run than RadomSearch\n",
    "* The time it took to run these two methods was 47min for GridSearch and 30min for RandomSearch.\n",
    "\n",
    "As a result, with GNB, the accuracy benefit from Hyperparameter tuning with GridSearchCV was around 7%. A few new hyperparameters were discovered. These are included in the sections that follow. I think it is fair to note that the accuracy disparity between RandomSearchCV and GridSearchCV does not justify the GridSearchCV's longer processing time.  Also note that the highest accuarcy is still Linear SVC at 0.257 which is higher then the optimised ensemble methods."
   ]
  },
  {
   "cell_type": "markdown",
   "metadata": {},
   "source": [
    "#### Hyperparameters From RandomizedSearchCV and GridSearchCV"
   ]
  },
  {
   "cell_type": "markdown",
   "metadata": {},
   "source": [
    "The GridSearchCV hyperparameters in the code block below override the RandomisedSearchCV hyperparameters. Even though the accuracy gain is minor, it is preferable to use the GridSearchCV hyperparameters if they differ from the RandomisedSearchCV hyperparameters and the accuracy was higher."
   ]
  },
  {
   "cell_type": "markdown",
   "metadata": {},
   "source": [
    "**Note:**\n",
    "\n",
    "* I had trouble getting these parameter lists into the cross validation functions.\n",
    "* I assume either my syntax is incorrect or the cross validation functions are not intended to operate in this manner.\n",
    "* As a consequence, in the pipeline descriptions below, I've \"hard coded\" my params.\n",
    "* This accomplishes what I wanted, but not in the manner in which I desired.\n",
    "* I retained the commented out code block incase I can fix this later.  \n",
    "* It also is a record of where my parameters came from."
   ]
  },
  {
   "cell_type": "code",
   "execution_count": 35,
   "metadata": {},
   "outputs": [],
   "source": [
    "# define the list\n",
    "#param_grid = []\n",
    "#param_grid.append(0)\n",
    "#param_grid.append(1)\n",
    "#param_grid.append(2)\n",
    "#param_grid.append(3)\n",
    "\n",
    "\n",
    "#LinearSVC \n",
    "#param_grid[0] = { \n",
    "#        'clf__penalty': ['l1', 'l2'],\n",
    "#        'clf__loss' : ['hinge', 'squared_hinge'],\n",
    "#        'clf__dual' : ['True','False'],\n",
    "#    }\n",
    "\n",
    "# Guassian NB\n",
    "#params[0] = {'clf__var_smoothing': 0.01519911082952933} #RandomSearch\n",
    "#params[0] = [\n",
    "#                {\n",
    "#                    'clf__var_smoothing' = 1.0) #GridSearch\n",
    "\n",
    "# K Neighbors\n",
    "#params[1] = {'clf__weights': 'distance', 'clf__n_neighbors': 17, 'clf__metric': 'manhattan'} #RandomSearch\n",
    "#params[1] = {'clf__metric': 'manhattan', 'clf__n_neighbors': 17, 'clf__weights': 'distance'} #GridSearch #same\n",
    "\n",
    "# Random Forest\n",
    "# params[2] ={'clf__n_estimators': 1800, 'clf__max_features': 'sqrt'} # RandomSearch\n",
    "#params[2] = {'clf__max_features': 'sqrt', 'clf__n_estimators': 800} #GridSearch\n",
    "\n",
    "# Ada Boost\n",
    "#params[3] = {'clf__estimators': 10} #RandomSearch\n",
    "#params[3] = {'clf__estimators': 10} #GridSearch #same"
   ]
  },
  {
   "cell_type": "markdown",
   "metadata": {},
   "source": [
    "## Evaluate"
   ]
  },
  {
   "cell_type": "markdown",
   "metadata": {},
   "source": [
    "#### Test / Evaluate Model"
   ]
  },
  {
   "cell_type": "code",
   "execution_count": 36,
   "metadata": {},
   "outputs": [],
   "source": [
    "lscv = Pipeline([\n",
    "    ('scl', StandardScaler()),\n",
    "    ('clf', LinearSVC())\n",
    "    ])"
   ]
  },
  {
   "cell_type": "code",
   "execution_count": 37,
   "metadata": {},
   "outputs": [],
   "source": [
    "gnb = Pipeline([\n",
    "    ('scl', StandardScaler()),\n",
    "    ('clf', GaussianNB(var_smoothing = 1.0))\n",
    "    ])"
   ]
  },
  {
   "cell_type": "code",
   "execution_count": 38,
   "metadata": {},
   "outputs": [],
   "source": [
    "knn = Pipeline([\n",
    "    ('scl', StandardScaler()),\n",
    "    ('clf', KNeighborsClassifier(weights='distance', n_neighbors=17, metric='manhattan'))\n",
    "    ])"
   ]
  },
  {
   "cell_type": "code",
   "execution_count": 39,
   "metadata": {},
   "outputs": [],
   "source": [
    "rfc = Pipeline([\n",
    "    ('scl', StandardScaler()),\n",
    "    ('clf', RandomForestClassifier(n_estimators=800, max_features='sqrt'))\n",
    "    ])"
   ]
  },
  {
   "cell_type": "code",
   "execution_count": 40,
   "metadata": {},
   "outputs": [],
   "source": [
    "boost = Pipeline([\n",
    "    ('scl', StandardScaler()),\n",
    "    ('clf', AdaBoostClassifier(n_estimators=10))\n",
    "    ])"
   ]
  },
  {
   "cell_type": "code",
   "execution_count": 42,
   "metadata": {},
   "outputs": [
    {
     "name": "stdout",
     "output_type": "stream",
     "text": [
      "Linear SVC\n",
      "----------------\n",
      "CV accuracy scores: [0.25328947 0.24671053 0.25328947 0.23026316 0.2310231  0.26732673\n",
      " 0.21782178 0.25412541 0.27062706 0.25082508 0.2310231  0.26072607\n",
      " 0.27062706 0.27722772 0.24752475 0.26072607 0.25742574 0.26732673\n",
      " 0.24752475 0.24422442]\n",
      "\n",
      "--- Accuracy ---\n",
      "CV accuracy: 0.25198291 +/− 0.015\n",
      "\n",
      "\n",
      "Guassian NB\n",
      "----------------\n",
      "CV accuracy scores: [0.25328947 0.21381579 0.21052632 0.18092105 0.15841584 0.1980198\n",
      " 0.1980198  0.20462046 0.20792079 0.20462046 0.17821782 0.20132013\n",
      " 0.24752475 0.20462046 0.18811881 0.1650165  0.19141914 0.21782178\n",
      " 0.16171617 0.21452145]\n",
      "\n",
      "--- Accuracy ---\n",
      "CV accuracy: 0.20002334 +/− 0.024\n",
      "\n",
      "\n",
      "K Neighbors\n",
      "----------------\n",
      "CV accuracy scores: [0.19078947 0.20065789 0.21381579 0.17434211 0.19471947 0.20792079\n",
      " 0.1980198  0.2310231  0.22772277 0.21452145 0.19471947 0.20792079\n",
      " 0.21122112 0.21452145 0.17491749 0.21452145 0.1980198  0.23432343\n",
      " 0.20792079 0.23762376]\n",
      "\n",
      "--- Accuracy ---\n",
      "CV accuracy: 0.20746211 +/− 0.017\n",
      "\n",
      "\n",
      "Random Forest\n",
      "----------------\n",
      "CV accuracy scores: [0.23355263 0.21710526 0.23026316 0.21381579 0.2310231  0.22112211\n",
      " 0.21452145 0.21782178 0.25412541 0.21122112 0.19141914 0.20132013\n",
      " 0.19471947 0.23762376 0.18151815 0.24422442 0.22772277 0.24422442\n",
      " 0.20792079 0.26732673]\n",
      "\n",
      "--- Accuracy ---\n",
      "CV accuracy: 0.22212958 +/− 0.021\n",
      "\n",
      "\n",
      "Ada Boost\n",
      "----------------\n",
      "CV accuracy scores: [0.24342105 0.25986842 0.22039474 0.26644737 0.23432343 0.2640264\n",
      " 0.2310231  0.20462046 0.28052805 0.25742574 0.22442244 0.22772277\n",
      " 0.2640264  0.30033003 0.24092409 0.27062706 0.25742574 0.26732673\n",
      " 0.25412541 0.24752475]\n",
      "\n",
      "--- Accuracy ---\n",
      "CV accuracy: 0.25082671 +/− 0.022\n",
      "\n",
      "\n",
      "CPU times: user 709 ms, sys: 411 ms, total: 1.12 s\n",
      "Wall time: 9min 15s\n"
     ]
    }
   ],
   "source": [
    "%%time\n",
    "\n",
    "# Notes on CV parameters:\n",
    "#\n",
    "# LSCV was reintroduced.\n",
    "# cv=20 should be increased. [On LSCV, try to get rid of errors]\n",
    "# n jobs=-1 [Trying to use both cores to speed up processing]\n",
    "# Precision on accuracy reading has been increased to 8.\n",
    "\n",
    "\n",
    "X_train, X_test, y_train, y_test = train_test_split(X, y, train_size=0.6, random_state=SEED)\n",
    "\n",
    "pipelines = [lscv, gnb, knn, rfc, boost]\n",
    "\n",
    "# Dictionary of pipelines and classifier types\n",
    "pipe_dict = {0: 'Linear SVC', 1: 'Guassian NB', 2: 'K Neighbors', 3: 'Random Forest', 4: 'Ada Boost'}\n",
    "    \n",
    "for i, pipeline in enumerate(pipelines):\n",
    "    \n",
    "    print(pipe_dict[i])\n",
    "    print(\"----------------\")\n",
    "    \n",
    "    scores = cross_val_score(pipeline, X=X_train, y=y_train, cv=20, n_jobs=-1)\n",
    "    \n",
    "    print('CV accuracy scores: %s' % scores)\n",
    "    print(\"\\n--- Accuracy ---\")\n",
    "    print('CV accuracy: %.8f +/− %.3f' % (np.mean(scores),np.std(scores)))\n",
    "    print(\"\\n\")"
   ]
  },
  {
   "cell_type": "markdown",
   "metadata": {},
   "source": [
    "| Classifier    | Accuracy 1    | Accuracy 2  | Accuaracy 3  | Accuracy 4  | Accuracy 5  | \n",
    "| ------------- |:-------------:| -----------:|:------------:|:------------|:------------|\n",
    "| Linear SVC    | 0.1519         | 0.257        |-             |-            |0.25198291|\n",
    "| Guassian NB   | 0.082          | 0.732        |0.13479573853553464            |0.20083436341161928           |0.20002334|\n",
    "| K Neighbors   | 0.137          | 0.1486       |0.21493715502576216            |0.21493715502576216           |0.20746211|\n",
    "| Random Forest | 0.1318         | 0.185        |0.22260766867786902           |0.22508138638338493           |0.22212958|\n",
    "| Ada Boost     | 0.167          | 0.1516       |0.25154389357353535            |0.25154389357353535           |0.25082671|"
   ]
  },
  {
   "cell_type": "markdown",
   "metadata": {},
   "source": [
    "## Introduce PCA into the Pipeline\n",
    "\n",
    "To see what the anaylsis outcome would be, I've added a PCA stage to the pipelines. In the clustering task, I chose a keepRatio of 0.9, leaving 27 components. This may not be the best choice. In the code below, I check for the best setting for the n_components setting for each classifier over a range of 2 to 30 features.  The results are plotted with a validation curve."
   ]
  },
  {
   "cell_type": "code",
   "execution_count": 43,
   "metadata": {},
   "outputs": [],
   "source": [
    "lscv = Pipeline([\n",
    "    ('pca', PCA()),\n",
    "    ('scl', StandardScaler()),\n",
    "    ('clf', LinearSVC())\n",
    "    ])"
   ]
  },
  {
   "cell_type": "code",
   "execution_count": 44,
   "metadata": {},
   "outputs": [],
   "source": [
    "gnb = Pipeline([\n",
    "    ('pca', PCA()),\n",
    "    ('scl', StandardScaler()),\n",
    "    ('clf', GaussianNB(var_smoothing=1.0))\n",
    "    ])"
   ]
  },
  {
   "cell_type": "code",
   "execution_count": 45,
   "metadata": {},
   "outputs": [],
   "source": [
    "knn = Pipeline([\n",
    "    ('pca', PCA()),\n",
    "    ('scl', StandardScaler()),\n",
    "    ('clf', KNeighborsClassifier(weights='distance', n_neighbors=17, metric='manhattan'))\n",
    "    ])"
   ]
  },
  {
   "cell_type": "code",
   "execution_count": 46,
   "metadata": {},
   "outputs": [],
   "source": [
    "rfc = Pipeline([\n",
    "    ('pca', PCA()),\n",
    "    ('scl', StandardScaler()),\n",
    "    ('clf', RandomForestClassifier(n_estimators=800, max_features='sqrt'))\n",
    "    ])"
   ]
  },
  {
   "cell_type": "code",
   "execution_count": 47,
   "metadata": {},
   "outputs": [],
   "source": [
    "boost = Pipeline([\n",
    "    ('pca', PCA()),\n",
    "    ('scl', StandardScaler()),\n",
    "    ('clf', AdaBoostClassifier(n_estimators=10))\n",
    "    ])"
   ]
  },
  {
   "cell_type": "code",
   "execution_count": 49,
   "metadata": {},
   "outputs": [],
   "source": [
    "# Create the directory \n",
    "try: \n",
    "    os.mkdir(\"./output/pca_accuracy//\") \n",
    "except OSError as error: \n",
    "    print(error)"
   ]
  },
  {
   "cell_type": "code",
   "execution_count": 50,
   "metadata": {},
   "outputs": [
    {
     "name": "stdout",
     "output_type": "stream",
     "text": [
      "Linear SVC\n",
      "----------------\n"
     ]
    },
    {
     "data": {
      "image/png": "[encoded data removed]",
      "text/plain": [
       "<Figure size 432x288 with 1 Axes>"
      ]
     },
     "metadata": {
      "needs_background": "light"
     },
     "output_type": "display_data"
    },
    {
     "name": "stdout",
     "output_type": "stream",
     "text": [
      "Guassian NB\n",
      "----------------\n"
     ]
    },
    {
     "data": {
      "image/png": "[encoded data removed]",
      "text/plain": [
       "<Figure size 432x288 with 1 Axes>"
      ]
     },
     "metadata": {
      "needs_background": "light"
     },
     "output_type": "display_data"
    },
    {
     "name": "stdout",
     "output_type": "stream",
     "text": [
      "K Neighbors\n",
      "----------------\n"
     ]
    },
    {
     "data": {
      "image/png": "[encoded data removed]",
      "text/plain": [
       "<Figure size 432x288 with 1 Axes>"
      ]
     },
     "metadata": {
      "needs_background": "light"
     },
     "output_type": "display_data"
    },
    {
     "name": "stdout",
     "output_type": "stream",
     "text": [
      "Random Forest\n",
      "----------------\n"
     ]
    },
    {
     "data": {
      "image/png": "[encoded data removed]",
      "text/plain": [
       "<Figure size 432x288 with 1 Axes>"
      ]
     },
     "metadata": {
      "needs_background": "light"
     },
     "output_type": "display_data"
    },
    {
     "name": "stdout",
     "output_type": "stream",
     "text": [
      "Ada Boost\n",
      "----------------\n"
     ]
    },
    {
     "data": {
      "image/png": "[encoded data removed]",
      "text/plain": [
       "<Figure size 432x288 with 1 Axes>"
      ]
     },
     "metadata": {
      "needs_background": "light"
     },
     "output_type": "display_data"
    },
    {
     "name": "stdout",
     "output_type": "stream",
     "text": [
      "CPU times: user 17.4 s, sys: 5.09 s, total: 22.5 s\n",
      "Wall time: 3h 47min 28s\n"
     ]
    }
   ],
   "source": [
    "%%time\n",
    "\n",
    "pipelines = [lscv, gnb, knn, rfc, boost]\n",
    "\n",
    "# Dictionary of pipelines and classifier types\n",
    "pipe_dict = {0: 'Linear SVC', 1: 'Guassian NB', 2: 'K Neighbors', 3: 'Random Forest', 4: 'Ada Boost'}\n",
    "    \n",
    "for i, pipeline in enumerate(pipelines):\n",
    "    \n",
    "    print(pipe_dict[i])\n",
    "    print(\"----------------\")\n",
    "\n",
    "    param_range = range(2,30)\n",
    "\n",
    "    train_scores, test_scores = validation_curve(\n",
    "                                                estimator=pipeline, X=X_train, y=y_train, cv=20,\n",
    "                                                param_name='pca__n_components', param_range=param_range , n_jobs=-1)\n",
    "\n",
    "    train_mean = np.mean(train_scores, axis=1)\n",
    "    train_std = np.std(train_scores, axis=1)\n",
    "    test_mean = np.mean(test_scores, axis=1)\n",
    "    test_std = np.std(test_scores, axis=1)\n",
    "    \n",
    "    plt.plot(param_range, train_mean, color='blue', marker='o', markersize=5, label='training accuracy')\n",
    "    plt.fill_between(param_range, train_mean + train_std, train_mean - train_std, alpha=0.15, color='blue')\n",
    "    \n",
    "    plt.plot(param_range, test_mean, color='green', marker='s', markersize=5, linestyle='--', label='validation accuracy')\n",
    "    plt.fill_between(param_range, test_mean + test_std, test_mean - test_std, alpha=0.15, color='green')\n",
    "    \n",
    "    plt.xlabel('Number of Principal Components')\n",
    "    plt.ylabel('Accuracy')\n",
    "    plt.xticks(range(2,30))\n",
    "    plt.legend(loc='lower right')\n",
    "    #plt.ylim(0.8, 1.0)\n",
    "    plt.savefig(\"./output/pca_accuracy/\"+pipe_dict[i].lower().replace(\" \", \"_\")+\".pdf\", bbox_inches=\"tight\")\n",
    "    plt.show()\n",
    "\n"
   ]
  },
  {
   "cell_type": "markdown",
   "metadata": {},
   "source": [
    "Running these plots took almost 4 hours!\n",
    "\n",
    "How can I tune PCA to give me the best results from the classifiers? Here are some of my thoughts on the question. I'll choose the n components value that gives the highest point along the green line, indicating the highest validation accuracy, from the plots. The best PCA n components setting for classifiers are:\n",
    "    \n",
    "* Linear SVC: 24\n",
    "* Guassian NB: 24\n",
    "* K Neighbors: 27\n",
    "* Random Forest: 16\n",
    "* Ada Boost: 29\n",
    "\n",
    "This is the first time I've been able to provide LSVC pipe with hyperparameter tuning. It appears that I can get LSVC and GNB to outperform the Ensemble methods at over 0.26 accuracy."
   ]
  },
  {
   "cell_type": "markdown",
   "metadata": {},
   "source": [
    "---"
   ]
  },
  {
   "cell_type": "code",
   "execution_count": 51,
   "metadata": {},
   "outputs": [],
   "source": [
    "lscv = Pipeline([\n",
    "    ('pca', PCA(n_components=24)),\n",
    "    ('scl', StandardScaler()),\n",
    "    ('clf', LinearSVC())\n",
    "    ])"
   ]
  },
  {
   "cell_type": "code",
   "execution_count": 52,
   "metadata": {},
   "outputs": [],
   "source": [
    "gnb = Pipeline([\n",
    "    ('pca', PCA(n_components=24)),\n",
    "    ('scl', StandardScaler()),\n",
    "    ('clf', GaussianNB(var_smoothing=1.0))\n",
    "    ])"
   ]
  },
  {
   "cell_type": "code",
   "execution_count": 53,
   "metadata": {},
   "outputs": [],
   "source": [
    "knn = Pipeline([\n",
    "    ('pca', PCA(n_components=27)),\n",
    "    ('scl', StandardScaler()),\n",
    "    ('clf', KNeighborsClassifier(weights='distance', n_neighbors=17, metric='manhattan'))\n",
    "    ])"
   ]
  },
  {
   "cell_type": "code",
   "execution_count": 54,
   "metadata": {},
   "outputs": [],
   "source": [
    "rfc = Pipeline([\n",
    "    ('pca', PCA(n_components=16)),\n",
    "    ('scl', StandardScaler()),\n",
    "    ('clf', RandomForestClassifier(n_estimators=800, max_features='sqrt'))\n",
    "    ])"
   ]
  },
  {
   "cell_type": "code",
   "execution_count": 56,
   "metadata": {},
   "outputs": [],
   "source": [
    "boost = Pipeline([\n",
    "    ('pca', PCA(n_components=29)),\n",
    "    ('scl', StandardScaler()),\n",
    "    ('clf', AdaBoostClassifier(n_estimators=10))\n",
    "    ])"
   ]
  },
  {
   "cell_type": "markdown",
   "metadata": {},
   "source": [
    "---"
   ]
  },
  {
   "cell_type": "markdown",
   "metadata": {},
   "source": [
    "### Final Run..."
   ]
  },
  {
   "cell_type": "code",
   "execution_count": 57,
   "metadata": {},
   "outputs": [
    {
     "name": "stdout",
     "output_type": "stream",
     "text": [
      "Linear SVC\n",
      "--- Accuracy ---\n",
      "Test accuracy is 24.90105541%\n",
      "\n",
      "\n",
      "--- Classification Report ---\n",
      "              precision    recall  f1-score   support\n",
      "\n",
      "          10       0.15      0.02      0.04       241\n",
      "          11       0.26      0.05      0.09       288\n",
      "          12       0.08      0.01      0.01       150\n",
      "          13       0.00      0.00      0.00        82\n",
      "          14       0.15      0.17      0.16       391\n",
      "          20       0.23      0.72      0.35       513\n",
      "          21       0.08      0.00      0.01       236\n",
      "          22       0.06      0.00      0.01       221\n",
      "          23       0.00      0.00      0.00       271\n",
      "          24       0.12      0.06      0.08       427\n",
      "          30       0.12      0.01      0.02       361\n",
      "          31       0.38      0.66      0.49       531\n",
      "          32       0.00      0.00      0.00       239\n",
      "          33       0.21      0.49      0.29       556\n",
      "          34       0.16      0.02      0.04       298\n",
      "          40       0.00      0.00      0.00       141\n",
      "          41       0.46      0.61      0.52       360\n",
      "          42       0.00      0.00      0.00        88\n",
      "          43       0.20      0.35      0.26       499\n",
      "          44       0.00      0.00      0.00       171\n",
      "\n",
      "    accuracy                           0.25      6064\n",
      "   macro avg       0.13      0.16      0.12      6064\n",
      "weighted avg       0.17      0.25      0.18      6064\n",
      "\n",
      "\n",
      "\n",
      "--- Confusion Matrix ---\n",
      "[[  6   2   1   0  18 178   2   1   0   3   3   7   0   8   0   0   3   0\n",
      "    9   0]\n",
      " [  5  15   1   0  35  81   0   0   0   7   1  82   0  36   3   0   6   0\n",
      "   16   0]\n",
      " [  1   0   1   0  33  69   1   1   0  14   1   1   0  20   0   0   3   0\n",
      "    5   0]\n",
      " [  0   1   0   0   9  16   1   0   0   3   2   3   0  39   2   0   2   0\n",
      "    4   0]\n",
      " [  3  11   0   0  65 155   2   1   1  25   3  17   0  68   5   0   8   0\n",
      "   27   0]\n",
      " [  5   5   2   0  31 368   0   1   0  19   6  25   0  29   2   0   6   0\n",
      "   14   0]\n",
      " [  0   1   0   0  12  39   1   0   1   3   2 120   0  23   2   0  10   0\n",
      "   22   0]\n",
      " [  1   4   0   0  37  67   0   1   0  17   0  14   0  51   2   0   5   0\n",
      "   22   0]\n",
      " [  1   2   0   0  20  39   0   0   0  11   0  17   1 113   0   0  12   0\n",
      "   55   0]\n",
      " [  7   2   3   0  39 149   0   2   0  25   7  36   0  83   6   0   8   0\n",
      "   60   0]\n",
      " [  5   2   1   0  26 185   3   1   0   4   5  36   0  51   1   0   8   0\n",
      "   33   0]\n",
      " [  0   1   0   0   2  36   1   1   0   6   0 351   1  17   1   0  82   0\n",
      "   32   0]\n",
      " [  3   4   0   0  29  32   0   0   0  15   2  16   0  69   0   0  10   0\n",
      "   59   0]\n",
      " [  0   2   1   0  16  25   0   2   1  12   3  26   0 272   3   0  19   0\n",
      "  174   0]\n",
      " [  0   3   1   0  32  49   0   1   0  14   4  19   0  91   6   0  13   0\n",
      "   65   0]\n",
      " [  1   1   1   0   3  74   1   0   0   9   0  10   0  14   1   0   8   0\n",
      "   18   0]\n",
      " [  3   1   0   0   0  10   1   0   0   1   0  99   0  11   0   0 218   0\n",
      "   16   0]\n",
      " [  0   0   0   0   7   8   0   1   1   4   1   2   0  40   0   0   5   0\n",
      "   19   0]\n",
      " [  0   0   0   0  15  16   0   2   0   7   0  26   0 216   2   0  39   0\n",
      "  176   0]\n",
      " [  0   1   0   0  16  17   0   1   1   9   1   6   0  54   2   0  14   0\n",
      "   49   0]]\n",
      "\n",
      "\n",
      "Guassian NB\n",
      "--- Accuracy ---\n",
      "Test accuracy is 18.38720317%\n",
      "\n",
      "\n",
      "--- Classification Report ---\n",
      "              precision    recall  f1-score   support\n",
      "\n",
      "          10       0.00      0.00      0.00       241\n",
      "          11       0.45      0.09      0.15       288\n",
      "          12       0.18      0.06      0.09       150\n",
      "          13       0.01      0.02      0.02        82\n",
      "          14       0.18      0.01      0.01       391\n",
      "          20       0.17      0.81      0.28       513\n",
      "          21       0.22      0.12      0.15       236\n",
      "          22       0.06      0.03      0.04       221\n",
      "          23       0.12      0.01      0.02       271\n",
      "          24       0.09      0.01      0.01       427\n",
      "          30       0.03      0.00      0.01       361\n",
      "          31       0.46      0.40      0.43       531\n",
      "          32       0.08      0.36      0.13       239\n",
      "          33       0.22      0.03      0.05       556\n",
      "          34       0.11      0.25      0.15       298\n",
      "          40       0.04      0.01      0.01       141\n",
      "          41       0.54      0.49      0.51       360\n",
      "          42       0.00      0.00      0.00        88\n",
      "          43       0.20      0.09      0.13       499\n",
      "          44       0.12      0.01      0.01       171\n",
      "\n",
      "    accuracy                           0.18      6064\n",
      "   macro avg       0.16      0.14      0.11      6064\n",
      "weighted avg       0.20      0.18      0.14      6064\n",
      "\n",
      "\n",
      "\n",
      "--- Confusion Matrix ---\n",
      "[[  0   1   4   4   0 188   4   6   2   0   1   1   8   0   6   4   3   2\n",
      "    7   0]\n",
      " [  1  25   4   3   5 140  13   7   1   1   1  22  26   3  15   1   3   6\n",
      "   11   0]\n",
      " [  0   0   9   2   0  95   1   4   0   0   1   1  18   2  10   1   2   0\n",
      "    4   0]\n",
      " [  0   0   0   2   1  29   0   1   2   0   0   3  17   5  18   0   0   0\n",
      "    4   0]\n",
      " [  0   5   3  11   3 223   5   6   1   3   3   9  62   5  36   1   3   3\n",
      "    8   1]\n",
      " [  0   0   3  13   0 417   2   9   0   1   3  10  24   1  12   1   2   7\n",
      "    8   0]\n",
      " [  0   7   0   5   0  97  28   4   0   1   3  42  18   1  15   1   8   1\n",
      "    5   0]\n",
      " [  0   1   7   1   2 111   1   6   3   1   0   5  49   0  21   0   1   3\n",
      "    9   0]\n",
      " [  0   1   0   8   2  71   0   6   3   3   1   1  88  10  49   1   5   4\n",
      "   17   1]\n",
      " [  0   2   6  15   1 214   1  10   1   3   4   5  81   4  52   5   6   5\n",
      "   12   0]\n",
      " [  0   1   1  12   0 231   0   6   0   0   1  15  39   2  26   2   4   4\n",
      "   17   0]\n",
      " [  0   9   0  14   0 110  47   7   2   3   4 215  28   4  17   0  58   1\n",
      "   11   1]\n",
      " [  0   1   2  10   1  76   1   1   0   3   0   9  87   1  37   1   2   1\n",
      "    6   0]\n",
      " [  0   0   2  23   2  85   2   9   4   2   4  16 197  17 123   3  11  12\n",
      "   42   2]\n",
      " [  0   1   2   7   0 106   3   5   0   0   1   2  74   3  75   1   4   4\n",
      "    9   1]\n",
      " [  0   0   1   4   0  87   5   3   0   0   2   3  12   2  13   1   6   1\n",
      "    1   0]\n",
      " [  0   1   0  11   0  37  12   3   0   3   2  82   9   0   8   1 175   3\n",
      "   13   0]\n",
      " [  0   0   2   1   0  22   0   5   2   1   1   1  32   4  12   0   2   0\n",
      "    3   0]\n",
      " [  0   0   0   7   0  70   2   6   2   7   1  18 173  12 118   2  23  10\n",
      "   47   1]\n",
      " [  0   0   3   4   0  45   0   3   1   0   0   4  64   2  31   2   4   1\n",
      "    6   1]]\n",
      "\n",
      "\n",
      "K Neighbors\n",
      "--- Accuracy ---\n",
      "Test accuracy is 19.95382586%\n",
      "\n",
      "\n",
      "--- Classification Report ---\n",
      "              precision    recall  f1-score   support\n",
      "\n",
      "          10       0.07      0.06      0.06       241\n",
      "          11       0.22      0.10      0.14       288\n",
      "          12       0.04      0.02      0.03       150\n",
      "          13       0.00      0.00      0.00        82\n",
      "          14       0.07      0.05      0.06       391\n",
      "          20       0.22      0.34      0.26       513\n",
      "          21       0.19      0.06      0.09       236\n",
      "          22       0.06      0.03      0.04       221\n",
      "          23       0.06      0.03      0.04       271\n",
      "          24       0.08      0.07      0.08       427\n",
      "          30       0.13      0.11      0.12       361\n",
      "          31       0.44      0.55      0.49       531\n",
      "          32       0.07      0.05      0.06       239\n",
      "          33       0.19      0.36      0.25       556\n",
      "          34       0.11      0.09      0.10       298\n",
      "          40       0.02      0.01      0.01       141\n",
      "          41       0.55      0.52      0.54       360\n",
      "          42       0.13      0.03      0.05        88\n",
      "          43       0.16      0.29      0.21       499\n",
      "          44       0.03      0.02      0.02       171\n",
      "\n",
      "    accuracy                           0.20      6064\n",
      "   macro avg       0.14      0.14      0.13      6064\n",
      "weighted avg       0.18      0.20      0.18      6064\n",
      "\n",
      "\n",
      "\n",
      "--- Confusion Matrix ---\n",
      "[[ 14   4   4   0  27 100   4   2   2  15  20  10   4  13   6   1   2   0\n",
      "   13   0]\n",
      " [ 19  29   5   0  28  37  11   8   5  16  15  46   8  24  10   0   4   0\n",
      "   21   2]\n",
      " [ 13   6   3   0  12  39   3   8   2  14   7   0   6  17   5   0   1   0\n",
      "    8   6]\n",
      " [  1   0   1   0   8   6   0   1   5   5   2   2   4  26   4   1   0   2\n",
      "   14   0]\n",
      " [ 27  19   8   0  19  82   3  11  15  41  22   7  16  55  25   3   3   0\n",
      "   30   5]\n",
      " [ 56   9   4   0  44 175   3  14   7  34  49  17  10  36  16   7   3   0\n",
      "   24   5]\n",
      " [  8  10   1   0   2  25  15   2   1   8  14  87   4  20   6   0   7   1\n",
      "   22   3]\n",
      " [  7   5   9   2  15  39   2   7   7  21   7   8  12  35  11   1   0   0\n",
      "   29   4]\n",
      " [  3   5   2   0  10  16   3   2   9  18  14   7  13  91  12   0   6   0\n",
      "   56   4]\n",
      " [ 12   8  11   1  32  69   5  11  20  31  32  14  20  60  15   7   6   0\n",
      "   66   7]\n",
      " [ 16   6   2   2  18  94   5   7   5  30  39  18   4  42  12   4   4   2\n",
      "   43   8]\n",
      " [  1   6   0   0   2  15  18   3   2  15  11 292   7  31   6   6  75   0\n",
      "   40   1]\n",
      " [  4   2   3   1  10  17   1   4   6  22  10   7  13  63  10   3   2   0\n",
      "   57   4]\n",
      " [  6   4   0   0  12  19   2   8  25  25   9  18  20 200  23   1   9   6\n",
      "  157  12]\n",
      " [  4   4   6   1  20  22   1   9   9  28   9   7  16  59  27   3   3   3\n",
      "   59   8]\n",
      " [  4   4   3   0   7  32   0   1   0  13  19   6   6  17   7   1   4   0\n",
      "   16   1]\n",
      " [  0   3   0   0   3   9   3   0   2   7   2  85   6  21   3   1 187   0\n",
      "   28   0]\n",
      " [  4   1   1   0   1   5   1   2   2   4   1   2   4  27   4   0   1   3\n",
      "   20   5]\n",
      " [  1   5   1   0  12   5   1   6  16  20  13  22  17 171  28   3  19   6\n",
      "  143  10]\n",
      " [  2   2   4   0   4   6   0   7   4  11  11   4   6  51  12   1   2   0\n",
      "   41   3]]\n",
      "\n",
      "\n",
      "Random Forest\n"
     ]
    },
    {
     "name": "stdout",
     "output_type": "stream",
     "text": [
      "--- Accuracy ---\n",
      "Test accuracy is 23.44986807%\n",
      "\n",
      "\n",
      "--- Classification Report ---\n",
      "              precision    recall  f1-score   support\n",
      "\n",
      "          10       0.12      0.07      0.09       241\n",
      "          11       0.27      0.14      0.18       288\n",
      "          12       0.14      0.04      0.06       150\n",
      "          13       0.00      0.00      0.00        82\n",
      "          14       0.12      0.12      0.12       391\n",
      "          20       0.23      0.53      0.32       513\n",
      "          21       0.13      0.03      0.05       236\n",
      "          22       0.10      0.03      0.05       221\n",
      "          23       0.05      0.02      0.03       271\n",
      "          24       0.11      0.10      0.11       427\n",
      "          30       0.12      0.09      0.10       361\n",
      "          31       0.43      0.68      0.53       531\n",
      "          32       0.10      0.05      0.07       239\n",
      "          33       0.21      0.38      0.27       556\n",
      "          34       0.12      0.07      0.09       298\n",
      "          40       0.10      0.02      0.04       141\n",
      "          41       0.59      0.56      0.57       360\n",
      "          42       0.14      0.02      0.04        88\n",
      "          43       0.20      0.27      0.23       499\n",
      "          44       0.00      0.00      0.00       171\n",
      "\n",
      "    accuracy                           0.23      6064\n",
      "   macro avg       0.16      0.16      0.15      6064\n",
      "weighted avg       0.20      0.23      0.20      6064\n",
      "\n",
      "\n",
      "\n",
      "--- Confusion Matrix ---\n",
      "[[ 18   3   0   0  26 132   2   0   0  12  16   7   4  13   3   0   0   0\n",
      "    4   1]\n",
      " [ 15  40   3   0  29  57   7   3   4  13  11  50   5  27   5   1   3   0\n",
      "   13   2]\n",
      " [  8   4   6   0  25  50   1   3   1  13   5   3   5  11   5   0   4   0\n",
      "    4   2]\n",
      " [  1   1   0   0   7  12   0   3   1   5   4   3   1  31   5   0   0   1\n",
      "    6   1]\n",
      " [ 16  20   2   1  46 123   2   7   7  40  22  12   5  46  14   1   4   1\n",
      "   19   3]\n",
      " [ 34   7   3   0  34 270   2   6   4  34  41  29   4  18   7   4   5   0\n",
      "    9   2]\n",
      " [  3  13   1   1   9  28   8   4   4  12  13 101   1  16   4   0   3   1\n",
      "   13   1]\n",
      " [  4   4   6   2  26  55   4   7   3  27   5   7   7  33   7   1   1   0\n",
      "   17   5]\n",
      " [  3   5   1   0  25  26   1   2   5  26  10  12   7  84   6   1   3   0\n",
      "   54   0]\n",
      " [  7   9   5   0  40 108   5   8  12  43  23  23  10  66  20   3   3   0\n",
      "   41   1]\n",
      " [ 10   6   3   1  30 133   5   5   6  25  31  25   6  30  13   2   5   1\n",
      "   20   4]\n",
      " [  1   6   0   0   2  25  15   0   1   8  10 359   2  13   1   3  52   0\n",
      "   33   0]\n",
      " [  5   6   5   0  18  24   0   4   8  19  10  10  13  55   7   3   2   0\n",
      "   47   3]\n",
      " [ 10   6   1   1  18  23   0   9  20  25  13  21  22 213  21   1   9   3\n",
      "  134   6]\n",
      " [  6   6   1   1  22  37   4   4   5  27  14  11   9  70  22   1   3   0\n",
      "   50   5]\n",
      " [  1   1   0   0   4  52   1   0   2  11  14  10   3  13   6   3   8   0\n",
      "    7   5]\n",
      " [  0   1   0   0   2   9   3   0   1   2   0 110   1  13   3   1 201   0\n",
      "   13   0]\n",
      " [  0   1   1   1   6   9   1   1   1   2   1   3   2  32   3   0   2   2\n",
      "   17   3]\n",
      " [  0   5   2   0  10  12   2   3  15  23  11  29  15 175  22   2  27   4\n",
      "  135   7]\n",
      " [  3   4   2   0   8  11   0   4   2  17   4   4   8  44  10   3   5   1\n",
      "   41   0]]\n",
      "\n",
      "\n",
      "Ada Boost\n",
      "--- Accuracy ---\n",
      "Test accuracy is 21.30606860%\n",
      "\n",
      "\n",
      "--- Classification Report ---\n",
      "              precision    recall  f1-score   support\n",
      "\n",
      "          10       0.12      0.01      0.02       241\n",
      "          11       0.15      0.09      0.11       288\n",
      "          12       0.12      0.01      0.02       150\n",
      "          13       0.00      0.00      0.00        82\n",
      "          14       0.11      0.23      0.15       391\n",
      "          20       0.17      0.54      0.25       513\n",
      "          21       0.17      0.08      0.11       236\n",
      "          22       0.00      0.00      0.00       221\n",
      "          23       0.00      0.00      0.00       271\n",
      "          24       0.12      0.00      0.01       427\n",
      "          30       0.08      0.01      0.02       361\n",
      "          31       0.32      0.53      0.40       531\n",
      "          32       0.00      0.00      0.00       239\n",
      "          33       0.20      0.56      0.30       556\n",
      "          34       0.00      0.00      0.00       298\n",
      "          40       0.00      0.00      0.00       141\n",
      "          41       0.54      0.53      0.53       360\n",
      "          42       0.00      0.00      0.00        88\n",
      "          43       0.21      0.17      0.19       499\n",
      "          44       0.00      0.00      0.00       171\n",
      "\n",
      "    accuracy                           0.21      6064\n",
      "   macro avg       0.12      0.14      0.11      6064\n",
      "weighted avg       0.15      0.21      0.15      6064\n",
      "\n",
      "\n",
      "\n",
      "--- Confusion Matrix ---\n",
      "[[  3  11   1   0  68 124   4   0   0   1   6  11   0   9   0   0   0   0\n",
      "    3   0]\n",
      " [  1  27   2   0  57  77   8   0   0   1   5  55   0  41   0   0   4   0\n",
      "   10   0]\n",
      " [  1   3   2   0  49  62   0   0   0   0   2   4   0  19   0   0   3   0\n",
      "    5   0]\n",
      " [  0   2   0   0  13  23   1   0   0   0   0   7   0  33   0   0   1   0\n",
      "    2   0]\n",
      " [  0  23   2   0  91 146   5   0   0   1   5  22   0  82   2   0   3   0\n",
      "    9   0]\n",
      " [  7  16   2   0  97 278   9   0   0   2   6  51   0  29   0   0   6   1\n",
      "    9   0]\n",
      " [  1   9   1   0  11  61  20   0   0   2   6  77   0  27   0   0   9   0\n",
      "   12   0]\n",
      " [  1   9   0   0  45  76   4   0   0   2   1   9   0  60   0   0   1   0\n",
      "   13   0]\n",
      " [  0   8   0   0  36  48   7   0   0   0   3  21   0 121   0   0   4   0\n",
      "   23   0]\n",
      " [  2  20   0   0  72 147   4   0   0   2   5  39   0 112   1   0   2   1\n",
      "   20   0]\n",
      " [  5  14   1   0  51 170  13   0   0   1   5  30   0  54   0   0   4   0\n",
      "   13   0]\n",
      " [  0  11   0   0   5  82  19   0   0   0   9 281   0  23   0   0  70   1\n",
      "   30   0]\n",
      " [  1   7   1   0  43  56   1   0   0   1   1  12   0  86   0   0   5   1\n",
      "   24   0]\n",
      " [  1   4   0   0  53  72   2   0   0   2   2  39   0 309   1   0   6   0\n",
      "   65   0]\n",
      " [  0   8   1   0  40  65   5   0   0   0   2  23   0 118   0   0   5   0\n",
      "   31   0]\n",
      " [  0   4   1   0  15  58   3   0   0   1   2  23   0  23   0   0   3   1\n",
      "    7   0]\n",
      " [  0   1   0   0   4  18   3   0   0   0   2 112   0  16   0   0 189   0\n",
      "   15   0]\n",
      " [  0   0   1   0  15  18   0   0   0   0   1   4   0  38   0   0   4   0\n",
      "    7   0]\n",
      " [  1   4   1   0  32  57   5   0   0   1   1  42   0 247   0   0  22   1\n",
      "   85   0]\n",
      " [  0   5   0   0  23  37   2   0   0   0   1   6   0  66   0   0   8   0\n",
      "   23   0]]\n",
      "\n",
      "\n",
      "CPU times: user 23min 17s, sys: 45.9 s, total: 24min 3s\n",
      "Wall time: 32min 36s\n"
     ]
    }
   ],
   "source": [
    "%%time\n",
    "\n",
    "# Setting ignore warnings because warning is diplayed when a category is not predicted\n",
    "warnings.filterwarnings('ignore')\n",
    "\n",
    "for i, pipeline in enumerate(pipelines):\n",
    "    \n",
    "    print(pipe_dict[i])\n",
    "    \n",
    "    y_pred = cross_val_predict(pipeline, X=X_train, y=y_train, cv=20)\n",
    "    \n",
    "    print(\"--- Accuracy ---\")\n",
    "    print(f\"Test accuracy is {accuracy_score(y_train, y_pred):.8%}\")\n",
    "    print(\"\\n\")\n",
    "    \n",
    "    # Classification Report\n",
    "    print(\"--- Classification Report ---\")\n",
    "    print(classification_report(y_train, y_pred))\n",
    "    print(\"\\n\")\n",
    "    \n",
    "    # Confusion Matrix\n",
    "    print(\"--- Confusion Matrix ---\")\n",
    "    cm = confusion_matrix(y_train,y_pred)\n",
    "    print(cm)\n",
    "    print(\"\\n\")"
   ]
  },
  {
   "cell_type": "markdown",
   "metadata": {},
   "source": [
    "| Classifier    | Accuracy 1    | Accuracy 2  | Accuaracy 3  | Accuracy 4  | Accuracy 5  | Accuracy 6  | \n",
    "| ------------- |:-------------:| -----------:|:------------:|:------------|:------------|:------------|\n",
    "| Linear SVC    | 0.1519         | 0.257        |-             |-            |0.25198291|0.2490105541|\n",
    "| Guassian NB   | 0.0819          | 0.732        |0.13479573853553464            |0.20083436341161928           |0.20002334|0.1838720317|\n",
    "| K Neighbors   | 0.137          | 0.1486       |0.21493715502576216            |0.21493715502576216           |0.20746211|0.1995382586|\n",
    "| Random Forest | 0.1318         | 0.185        |0.22260766867786902           |0.22508138638338493           |0.22212958|0.2344986807|\n",
    "| Ada Boost     | 0.167          | 0.1516       |0.25154389357353535            |0.25154389357353535           |0.25082671|0.2130606860|"
   ]
  },
  {
   "cell_type": "markdown",
   "metadata": {},
   "source": [
    "This script took about 20 minutes to run.\n",
    "\n",
    "With a modest increase of just under 1%, Random Forest was the only classifier that benefited from the PCA step. As a result of this step, the accuracy of all other classifiers decreased.  Ada Boost had quite deterioration in performance.\n",
    "\n",
    "I've noticed that the classifiers didn't achieve the accuracy read off the green lines in the previous plots. This, I suppose, is due to the green bands around the green lines indicating variation in accuracy. The accuracy of the algorithm produces different accuracies that are aggregated after 20 iterations of cross validation. If the bands are large, the standard deviation is also wide.  It would be better to read of high values with compressed bands from the validation curves.\n",
    "\n",
    "Surprisingly, before any hypertuning, the Linear SVC always has the highest accuracy. When Multiclassifier was first dropped, it had an accuracy of 25.7 percent. It was complaining about not being able to converge; this can be changed by increasing the cross validation's cv value (which I increased to 20)."
   ]
  },
  {
   "cell_type": "markdown",
   "metadata": {},
   "source": [
    "**Observations**\n",
    "\n",
    "~~Gaussian NB started out with an accuracy of 0.819! This was without a doubt the best. It began to decline rapidly after that initial sprint, finally reaching 0.18. Gaussian NB, in my opinion, is not appropriate for this type of dataset. The algorithm is a Naive Bayes variant that uses a Gaussian normal distribution and can handle continuous data. I don't think the dataset I provided is correct.  But it is interesting that it scored so high in the first run.~~ \n",
    "* This was a mistake caused by manually entering the numbers. It was crucial to understand the importance of being vigilant when copying these numbers down.\n",
    "\n",
    "If we disregard GNN, Linear SVC was the most accurate classifier, with an accuracy of 0.257 with limited hyperparameter tuning. With more tuning, the algorithm began to do worse.\n",
    "\n",
    "After some hyperparameter tuning, Ada Boost, an ensemble process, came in with an accuracy of about 0.251. PCA does not seem to have helped this algorithm.\n",
    "\n",
    "The next best performer seemed to be Random Forest. It had the best accuracy of 0.231. Random Forest seems to be fairly stable, and it appears that hyperparameter tuning has improved the majority of the times there have been tweaks.\n",
    "\n",
    "KNN was a strong performer before hyperparameters and PCA were added, at which point it began to regress. It had the highest accuracy of 0.214."
   ]
  },
  {
   "cell_type": "markdown",
   "metadata": {},
   "source": [
    "**Note**\n",
    "\n",
    "~~While I find it intriguing that Gaussian NB achieved such a high score in the initial run, I remain skeptical of the result given how the other classifiers performed. I'd have to investigate deeper to see whether it's true or not.~~\n",
    "\n",
    "* I reran the notebook and found my mistake."
   ]
  },
  {
   "cell_type": "markdown",
   "metadata": {},
   "source": [
    "---"
   ]
  },
  {
   "cell_type": "markdown",
   "metadata": {},
   "source": [
    "## The Combined Target Column\n",
    "\n",
    "In the following section, I examine and comment on my decision to merge my two targets into a single column for the classifiers to use."
   ]
  },
  {
   "cell_type": "code",
   "execution_count": 58,
   "metadata": {},
   "outputs": [
    {
     "data": {
      "text/plain": [
       "array(['31', '14', '33', ..., '43', '20', '20'], dtype=object)"
      ]
     },
     "execution_count": 58,
     "metadata": {},
     "output_type": "execute_result"
    }
   ],
   "source": [
    "y_pred"
   ]
  },
  {
   "cell_type": "code",
   "execution_count": 59,
   "metadata": {},
   "outputs": [
    {
     "name": "stdout",
     "output_type": "stream",
     "text": [
      "[['10' 24]\n",
      " ['11' 186]\n",
      " ['12' 16]\n",
      " ['14' 820]\n",
      " ['20' 1675]\n",
      " ['21' 115]\n",
      " ['24' 17]\n",
      " ['30' 65]\n",
      " ['31' 868]\n",
      " ['33' 1513]\n",
      " ['34' 4]\n",
      " ['41' 349]\n",
      " ['42' 6]\n",
      " ['43' 406]]\n"
     ]
    }
   ],
   "source": [
    "(unique, counts) = np.unique(y_pred, return_counts=True)\n",
    "frequencies = np.asarray((unique, counts)).T\n",
    "\n",
    "print(frequencies)"
   ]
  },
  {
   "cell_type": "markdown",
   "metadata": {},
   "source": [
    "The algorithms appears to have treated the combined target column as a string (dtype=object) field. When I examine the set of values in this column, they do not form a continuous numeric integer or float set. The integers are divided into the following \"reversible\" categorical labels: 10-14, 20-24, 30-34, and 40-44.\n",
    "\n",
    "Since this is just a test sample, some of those categories are absent in this subset. Initially, the missing numbers of 10, 22, 34, 40, and 42 had low counts. As a result, they will either not occur in the sample or they have a lower chance of being in the set."
   ]
  },
  {
   "cell_type": "markdown",
   "metadata": {},
   "source": [
    "Orginal Set\n",
    "\n",
    "* 33    920\n",
    "* 31    905\n",
    "* 20    831\n",
    "* 43    788\n",
    "* 24    747\n",
    "* 14    651\n",
    "* 30    600\n",
    "* 41    572\n",
    "* **34    473**\n",
    "* 23    470\n",
    "* 11    462\n",
    "* 21    400\n",
    "* **10    398**\n",
    "* 32    393\n",
    "* **22    369**\n",
    "* 44    292\n",
    "* 12    258\n",
    "* **40    256**\n",
    "* **42    162**\n",
    "* 13    161"
   ]
  },
  {
   "cell_type": "markdown",
   "metadata": {},
   "source": [
    "This, I believe, proves that merging the targets into a single field was a valid method of handling them. In addition, any of these numbers could be given a term. We could come up with a label for each value in the target column since the numerical value in this column is a combination of Major Occupation and Education Attainment, and both of these have values associated with their numbers.  As a consequence, we will be able to come up with useful categorical labels for human interpretation that will give us more information about the dataset. We might, for example, assign words to all of these numbers.\n",
    "\n",
    "So from these categories:\n",
    "\n",
    "Education Attainment:\n",
    "* Speciality\n",
    "* College\n",
    "* Some_College\n",
    "* School\n",
    "\n",
    "Major Occupation:\n",
    "* Education\n",
    "* Other\n",
    "* Professional\n",
    "* Computer\n",
    "* Management\n",
    "\n",
    "We could derive:\n",
    "* Speciality-Education\n",
    "* Speciality-Management\n",
    "* School-Management\n",
    "\n",
    "This will enable us to extract additional information from the data collection, such as the likelihood of a specialist-trained individual advancing to a management position or a school trained person advancing to a management position. We may also be able to analyze some of the conditions in which this happens, such as a high degree of technological proficiency or an adopter mentality, given the context provided by the rest of the dataset.  As a result, I believe that combining targets is a good way to handle this data."
   ]
  },
  {
   "cell_type": "markdown",
   "metadata": {},
   "source": [
    "---"
   ]
  },
  {
   "cell_type": "markdown",
   "metadata": {},
   "source": [
    "## Conclusion\n",
    "\n",
    "This classification exercise, I believe, has taught me these essential lessons:\n",
    "    \n",
    "* Tweaking hyperparameters does not always result in better performance; in fact, it can reduce accuracy.\n",
    "* Simpler algorithms can surprise you and outperform more complex ensemble classifiers.\n",
    "* The algorithms are a bit of a black box in that you don't really know what they've done, which necessitates some investigation.\n",
    "* Some of these algorithms can take a long time to complete.\n",
    "* When copying down the numbers, one must be cautious."
   ]
  }
 ],
 "metadata": {
  "kernelspec": {
   "display_name": "Python 3",
   "language": "python",
   "name": "python3"
  },
  "language_info": {
   "codemirror_mode": {
    "name": "ipython",
    "version": 3
   },
   "file_extension": ".py",
   "mimetype": "text/x-python",
   "name": "python",
   "nbconvert_exporter": "python",
   "pygments_lexer": "ipython3",
   "version": "3.8.8"
  }
 },
 "nbformat": 4,
 "nbformat_minor": 4
}
