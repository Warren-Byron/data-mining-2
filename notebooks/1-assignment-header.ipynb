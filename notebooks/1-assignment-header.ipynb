{
 "cells": [
  {
   "cell_type": "markdown",
   "metadata": {},
   "source": [
    "<center>\n",
    "    <img src=\"img/wit-logo-big.jpg\" width=\"50%\" height=\"50%\">\n",
    "</center>"
   ]
  },
  {
   "cell_type": "markdown",
   "metadata": {},
   "source": [
    "### Assignment Detail"
   ]
  },
  {
   "cell_type": "markdown",
   "metadata": {
    "tags": [
     "body"
    ]
   },
   "source": [
    "<style>\n",
    "th {\n",
    "  style=\"text-align: left\"\n",
    "}\n",
    "</style>\n",
    "\n",
    "<table>\n",
    "   <tbody>\n",
    "      <tr>\n",
    "         <th>\n",
    "            Name\n",
    "         </th>\n",
    "         <td style=\"text-align: left\">\n",
    "            Warren Byron\n",
    "         </td>\n",
    "      </tr>\n",
    "      <tr>\n",
    "         <th>\n",
    "            Student Number\n",
    "         </th>\n",
    "         <td style=\"text-align: left\">\n",
    "            W20091892\n",
    "         </td>\n",
    "      </tr>\n",
    "      <tr>\n",
    "         <th>\n",
    "            Course Code\n",
    "         </th>\n",
    "         <td style=\"text-align: left\">\n",
    "            WD571\n",
    "         </td>\n",
    "      </tr>\n",
    "      <tr>\n",
    "         <th>\n",
    "            Course\n",
    "         </th>\n",
    "         <td style=\"text-align: left\">\n",
    "            Masters of Science in Computing (Enterprise Software Systems)\n",
    "         </td>\n",
    "      </tr>\n",
    "      <tr>\n",
    "         <th>\n",
    "            Module Code\n",
    "         </th>\n",
    "         <td style=\"text-align: left\">\n",
    "            A14502\n",
    "         </td>\n",
    "      </tr>\n",
    "      <tr>\n",
    "         <th>\n",
    "            Module Name\n",
    "         </th>\n",
    "         <td style=\"text-align: left\">\n",
    "            Data Mining - 91634-[2020-2021]\n",
    "         </td>\n",
    "      </tr>\n",
    "      <tr>\n",
    "         <th>\n",
    "            Document\n",
    "         </th>\n",
    "         <td style=\"text-align: left\">\n",
    "            Continuous Assessment Assignment #2\n",
    "         </td>\n",
    "      </tr>\n",
    "      <tr>\n",
    "         <th>\n",
    "            Title\n",
    "         </th>\n",
    "         <td style=\"text-align: left\">\n",
    "            Data Mining : Assignment 2\n",
    "         </td>\n",
    "      </tr>\n",
    "      <tr>\n",
    "         <th>\n",
    "            Date\n",
    "         </th>\n",
    "         <td style=\"text-align: left\">\n",
    "            12 April 2021\n",
    "         </td>\n",
    "      </tr>\n",
    "      <tr>\n",
    "         <th>\n",
    "            Facilitators\n",
    "         </th>\n",
    "         <td style=\"text-align: left\">\n",
    "            Dr Bernard Butler and Dr Kieran Murphy\n",
    "         </td>\n",
    "      </tr>\n",
    "   </tbody>\n",
    "</table>"
   ]
  },
  {
   "cell_type": "markdown",
   "metadata": {},
   "source": [
    "### Plagirism Declaration"
   ]
  },
  {
   "cell_type": "markdown",
   "metadata": {},
   "source": [
    "<h4>Plagirism Declaration</h4>\n",
    "\n",
    "<p>I declare that this coursework is entirely my own work and does not include any plagiarised material. All sources that were consulted to compile this document have been referenced appropriately.</p>\n",
    "\n",
    "<p>\n",
    "Full Name: WARREN EDWARD JAMES BYRON<br />\n",
    "Date: 12 April 2021<br />\n",
    "Sign:<br />\n",
    "</p>\n",
    "\n",
    "<div  style=\"float:left\">\n",
    "<img src=\"img/sig.png\">\n",
    "</div>"
   ]
  },
  {
   "cell_type": "markdown",
   "metadata": {},
   "source": [
    "---"
   ]
  },
  {
   "cell_type": "markdown",
   "metadata": {},
   "source": [
    "### Table of Contents"
   ]
  },
  {
   "cell_type": "markdown",
   "metadata": {},
   "source": [
    "* [Introduction](#introduction)\n",
    "* [Initial Steps](#initial_steps)\n",
    "* [Exploratory Data Analysis](#eda)\n",
    "* [Pre-Processing](#preprocessing)\n",
    "* [Clustering](#clustering)\n",
    "* [Classification](#classification)\n",
    "* [Conclusion](#conclusion)\n",
    "* [Sources](#sources)"
   ]
  }
 ],
 "metadata": {
  "kernelspec": {
   "display_name": "Python 3",
   "language": "python",
   "name": "python3"
  },
  "language_info": {
   "codemirror_mode": {
    "name": "ipython",
    "version": 3
   },
   "file_extension": ".py",
   "mimetype": "text/x-python",
   "name": "python",
   "nbconvert_exporter": "python",
   "pygments_lexer": "ipython3",
   "version": "3.8.8"
  }
 },
 "nbformat": 4,
 "nbformat_minor": 4
}
