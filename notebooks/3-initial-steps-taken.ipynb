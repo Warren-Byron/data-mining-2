{
 "cells": [
  {
   "cell_type": "markdown",
   "metadata": {},
   "source": [
    "<a id='initial_steps'></a>\n",
    "# Inital Steps Taken"
   ]
  },
  {
   "cell_type": "markdown",
   "metadata": {},
   "source": [
    "### Prepare Enviroment"
   ]
  },
  {
   "cell_type": "markdown",
   "metadata": {},
   "source": [
    "Install and import all of the Python packages needed for the research. The python packages pandas, numpy, seaborn, and matplotlib are all needed. Python's package management system, Pip, allows tasks like installing dependencies, handling, and shipping Python projects far easier. You must have Python and Pip installed on your computer to run the command below.  Adapt the command for any missing packages."
   ]
  },
  {
   "cell_type": "markdown",
   "metadata": {},
   "source": [
    "```\n",
    "python -m pip install --user numpy scipy matplotlib ipython pandas statsmodels seaborn\n",
    "```"
   ]
  },
  {
   "cell_type": "markdown",
   "metadata": {},
   "source": [
    "If you're using Anaconda, you may need to tweak this command line action to get the libraries you need:"
   ]
  },
  {
   "cell_type": "markdown",
   "metadata": {},
   "source": [
    "```\n",
    "conda install -c conda-forge pingouin\n",
    "```"
   ]
  },
  {
   "cell_type": "markdown",
   "metadata": {},
   "source": [
    "### Libararies\n",
    "\n",
    "These are some of the libraries you will need to run the notebook successfully:\n",
    "    \n",
    "* scipy\n",
    "* phik\n",
    "* utils\n",
    "* pingouin\n",
    "* pandas\n",
    "* scikit-learn\n",
    "* numpy"
   ]
  },
  {
   "cell_type": "markdown",
   "metadata": {},
   "source": [
    "### Load Modules"
   ]
  },
  {
   "cell_type": "markdown",
   "metadata": {},
   "source": [
    "Our modules are loaded into our Python environment. It uses Jupyter Notebook in this case, which is running in a virtualenv environment.  Blocks of code like this load the required modules."
   ]
  },
  {
   "cell_type": "code",
   "execution_count": 3,
   "metadata": {},
   "outputs": [],
   "source": [
    "from sklearn.datasets import fetch_openml"
   ]
  },
  {
   "cell_type": "markdown",
   "metadata": {},
   "source": [
    "### Initial Look At Data"
   ]
  },
  {
   "cell_type": "code",
   "execution_count": 6,
   "metadata": {},
   "outputs": [],
   "source": [
    "df = fetch_openml(name='internet_usage')"
   ]
  },
  {
   "cell_type": "code",
   "execution_count": 7,
   "metadata": {},
   "outputs": [
    {
     "name": "stdout",
     "output_type": "stream",
     "text": [
      "**Author**: Graphics, Visualization, & Usability Center, College of Computing, Geogia Institute of Technology  \n",
      "**Source**: [UCI Machine Learning Repository](https://archive.ics.uci.edu/ml/datasets/) - 1999-06-30  \n",
      "**Please cite**: [UCI Citation Policy](https://archive.ics.uci.edu/ml/citation_policy.html)  \n",
      "\n",
      "### Internet Usage Data\n",
      " \n",
      "#### Data Type\n",
      " \n",
      "    multivariate\n",
      " \n",
      "#### Abstract\n",
      " \n",
      "    This data contains general demographic information on internet users\n",
      "    in 1997.\n",
      " \n",
      "### Data Characteristics\n",
      " \n",
      "    This data comes from a survey conducted by the Graphics and\n",
      "    Visualization Unit at Georgia Tech October 10 to November 16, 1997.\n",
      "    The full details of the survey are available [3]here.\n",
      " \n",
      "    The particular subset of the survey provided here is the \"general\n",
      "    demographics\" of internet users. The data have been recoded as\n",
      "    entirely numeric, with an index to the codes described in the \"Coding\"\n",
      "    file.\n",
      " \n",
      "    The full survey is available from the web site above, along with\n",
      "    summaries, tables and graphs of their analyses. In addition there is\n",
      "    information on other parts of the survey, including technology\n",
      "    demographics and web commerce.\n",
      " \n",
      "### Data Format\n",
      " \n",
      "    The data is stored in an ASCII files with one observation per line.\n",
      "    Spaces separate fields.\n",
      " \n",
      "### Past Usage\n",
      " \n",
      "    This data was used in the American Statistical Association Statistical\n",
      "    Graphics and Computing Sections 1999 Data Exposition.\n",
      "      _________________________________________________________________\n",
      " \n",
      " \n",
      "     [4]The UCI KDD Archive\n",
      "     [5]Information and Computer Science\n",
      "     [6]University of California, Irvine\n",
      "     Irvine, CA 92697-3425\n",
      " \n",
      "    Last modified: June 30, 1999\n",
      " \n",
      "### References\n",
      " \n",
      "    1. http://www.gvu.gatech.edu/gvu/user_surveys/survey-1997-10/\n",
      "    2. http://www.public.iastate.edu/~dicook/\n",
      "    3. http://www.cc.gatech.edu/gvu/user_surveys/survey-1997-10/\n",
      "    4. http://kdd.ics.uci.edu/\n",
      "    5. http://www.ics.uci.edu/\n",
      "    6. http://www.uci.edu/\n",
      "\n",
      "\n",
      " Information about the dataset\n",
      " CLASSTYPE: nominal\n",
      " CLASSINDEX: none specific\n",
      "\n",
      "Downloaded from openml.org.\n"
     ]
    }
   ],
   "source": [
    "print(df.DESCR) "
   ]
  },
  {
   "cell_type": "code",
   "execution_count": 8,
   "metadata": {},
   "outputs": [
    {
     "data": {
      "text/plain": [
       "{'id': '372',\n",
       " 'name': 'internet_usage',\n",
       " 'version': '1',\n",
       " 'format': 'ARFF',\n",
       " 'creator': ['Graphics',\n",
       "  'Visualization',\n",
       "  '& Usability Center',\n",
       "  'College of Computing',\n",
       "  'Geogia Institute of Technology'],\n",
       " 'collection_date': '1997-10',\n",
       " 'upload_date': '2014-09-26T11:27:34',\n",
       " 'language': 'English',\n",
       " 'licence': 'Public',\n",
       " 'url': 'https://www.openml.org/data/v1/download/52407/internet_usage.arff',\n",
       " 'file_id': '52407',\n",
       " 'default_target_attribute': 'Actual_Time',\n",
       " 'citation': 'https://archive.ics.uci.edu/ml/citation_policy.html',\n",
       " 'tag': 'uci',\n",
       " 'visibility': 'public',\n",
       " 'original_data_url': 'https://archive.ics.uci.edu/ml/datasets/Internet+Usage+Data',\n",
       " 'status': 'active',\n",
       " 'processing_date': '2020-11-20 19:21:15',\n",
       " 'md5_checksum': '14bb52eaec009be8517c6cb6d0db58ea'}"
      ]
     },
     "execution_count": 8,
     "metadata": {},
     "output_type": "execute_result"
    }
   ],
   "source": [
    "df.details"
   ]
  }
 ],
 "metadata": {
  "kernelspec": {
   "display_name": "Python 3",
   "language": "python",
   "name": "python3"
  },
  "language_info": {
   "codemirror_mode": {
    "name": "ipython",
    "version": 3
   },
   "file_extension": ".py",
   "mimetype": "text/x-python",
   "name": "python",
   "nbconvert_exporter": "python",
   "pygments_lexer": "ipython3",
   "version": "3.8.8"
  }
 },
 "nbformat": 4,
 "nbformat_minor": 4
}
