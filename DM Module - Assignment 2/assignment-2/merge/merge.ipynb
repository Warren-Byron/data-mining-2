{
 "cells": [
  {
   "cell_type": "markdown",
   "metadata": {},
   "source": [
    "# Conversion Script\n",
    "\n",
    "This script takes all the notebooks in the notebooks folder and merges them into a single notebook (../full-notebook.ipynb)\n",
    "\n",
    "Files are already generated on submission of the assignment"
   ]
  },
  {
   "cell_type": "code",
   "execution_count": 4,
   "metadata": {},
   "outputs": [
    {
     "name": "stdout",
     "output_type": "stream",
     "text": [
      "/Users/wazby/Desktop/assignment-2/notebooks\n"
     ]
    }
   ],
   "source": [
    "# change working dir\n",
    "%cd \"../notebooks\""
   ]
  },
  {
   "cell_type": "code",
   "execution_count": 5,
   "metadata": {},
   "outputs": [],
   "source": [
    "# use this nbmerge python script to merge all ipynb's in the notebook folder\n",
    "# -i flag makes nbmerge ignore _notebooks with underscores\n",
    "\n",
    "!nbmerge --recursive -i -p \".*.ipynb\" -o full-notebook.ipynb"
   ]
  },
  {
   "cell_type": "code",
   "execution_count": 6,
   "metadata": {},
   "outputs": [
    {
     "data": {
      "text/plain": [
       "'/Users/wazby/Desktop/assignment-2/full-notebook.ipynb'"
      ]
     },
     "execution_count": 6,
     "metadata": {},
     "output_type": "execute_result"
    }
   ],
   "source": [
    "import shutil\n",
    "import os\n",
    "from pathlib import Path\n",
    "\n",
    "path = \".\"\n",
    "\n",
    "current_path = Path(path).absolute()\n",
    "parent_path = os.path.dirname(os.getcwd())\n",
    "\n",
    "file = 'full-notebook.ipynb'\n",
    "\n",
    "old = str(current_path) + '/' + file\n",
    "new = str(parent_path) + '/' + file\n",
    "\n",
    "shutil.move(old, new)"
   ]
  }
 ],
 "metadata": {
  "kernelspec": {
   "display_name": "Python 3",
   "language": "python",
   "name": "python3"
  },
  "language_info": {
   "codemirror_mode": {
    "name": "ipython",
    "version": 3
   },
   "file_extension": ".py",
   "mimetype": "text/x-python",
   "name": "python",
   "nbconvert_exporter": "python",
   "pygments_lexer": "ipython3",
   "version": "3.8.8"
  }
 },
 "nbformat": 4,
 "nbformat_minor": 4
}
