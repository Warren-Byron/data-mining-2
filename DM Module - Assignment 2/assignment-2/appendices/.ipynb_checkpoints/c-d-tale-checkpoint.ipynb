{
 "cells": [
  {
   "cell_type": "markdown",
   "metadata": {},
   "source": [
    "# Appendix C : D-Tale\n",
    "\n",
    "Examine the findings in the D-Tale tool to assist the EDA process.\n",
    "\n",
    "Note that generating the report takes approximately 5 minutes."
   ]
  },
  {
   "cell_type": "code",
   "execution_count": 6,
   "metadata": {},
   "outputs": [],
   "source": [
    "# import the required libraries\n",
    "\n",
    "# import pandas library\n",
    "import pandas as pd\n",
    "\n",
    "# import D-Tale library\n",
    "import dtale"
   ]
  },
  {
   "cell_type": "code",
   "execution_count": 7,
   "metadata": {},
   "outputs": [],
   "source": [
    "# import the data saved in the data.csv file into the data frame\n",
    "# data.csv generated during the routine found in Appendix A\n",
    "\n",
    "df = pd.read_csv(\"./internet_usage.csv\")"
   ]
  },
  {
   "cell_type": "code",
   "execution_count": 10,
   "metadata": {},
   "outputs": [],
   "source": [
    "# execute dtale on the data frame\n",
    "d = dtale.show(df, ignore_duplicate=True)\n",
    "\n",
    "#open it in a new window in browser\n",
    "d.open_browser()"
   ]
  }
 ],
 "metadata": {
  "kernelspec": {
   "display_name": "Python 3",
   "language": "python",
   "name": "python3"
  },
  "language_info": {
   "codemirror_mode": {
    "name": "ipython",
    "version": 3
   },
   "file_extension": ".py",
   "mimetype": "text/x-python",
   "name": "python",
   "nbconvert_exporter": "python",
   "pygments_lexer": "ipython3",
   "version": "3.8.5"
  }
 },
 "nbformat": 4,
 "nbformat_minor": 4
}
