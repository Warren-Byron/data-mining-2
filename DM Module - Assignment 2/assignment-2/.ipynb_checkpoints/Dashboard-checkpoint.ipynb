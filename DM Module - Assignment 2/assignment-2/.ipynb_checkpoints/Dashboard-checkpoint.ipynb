{
 "cells": [
  {
   "cell_type": "code",
   "execution_count": 1,
   "metadata": {
    "tags": [
     "parameters"
    ]
   },
   "outputs": [],
   "source": [
    "flex_title = \"Data Mining\"\n",
    "flex_subtitle = \"Assignment 2\"\n",
    "flex_source_code=\"http://bbc.com\"\n",
    "flex_logo = \"img/logo.png\""
   ]
  },
  {
   "cell_type": "code",
   "execution_count": null,
   "metadata": {},
   "outputs": [],
   "source": [
    "# Note this file is used to generate the Dashboard\n",
    "# I use import %run imports to bring the relevant notebooks into this file\n",
    "# So no real Python or Juniper workings are in this file\n",
    "# It is just for creating a useful interface to present the other notebooks\n",
    "#\n",
    "# In order to get this file to run properly you will need to install jupyter-flex"
   ]
  },
  {
   "cell_type": "markdown",
   "metadata": {},
   "source": [
    "# About"
   ]
  },
  {
   "cell_type": "markdown",
   "metadata": {
    "tags": [
     "tabs"
    ]
   },
   "source": [
    "## About"
   ]
  },
  {
   "cell_type": "markdown",
   "metadata": {},
   "source": [
    "### Waterford Institute of Technology"
   ]
  },
  {
   "cell_type": "markdown",
   "metadata": {
    "tags": [
     "body"
    ]
   },
   "source": [
    "<center>\n",
    "    <img src=\"img/wit-logo-big.jpg\">\n",
    "</center>"
   ]
  },
  {
   "cell_type": "markdown",
   "metadata": {},
   "source": [
    "### Assignment Detail"
   ]
  },
  {
   "cell_type": "markdown",
   "metadata": {
    "tags": [
     "body"
    ]
   },
   "source": [
    "<style>\n",
    "th {\n",
    "  style=\"text-align: left\"\n",
    "}\n",
    "</style>\n",
    "\n",
    "<table>\n",
    "   <tbody>\n",
    "      <tr>\n",
    "         <th>\n",
    "            Name\n",
    "         </th>\n",
    "         <td style=\"text-align: left\">\n",
    "            Warren Byron\n",
    "         </td>\n",
    "      </tr>\n",
    "      <tr>\n",
    "         <th>\n",
    "            Student Number\n",
    "         </th>\n",
    "         <td style=\"text-align: left\">\n",
    "            W20091892\n",
    "         </td>\n",
    "      </tr>\n",
    "      <tr>\n",
    "         <th>\n",
    "            Course Code\n",
    "         </th>\n",
    "         <td style=\"text-align: left\">\n",
    "            WD571\n",
    "         </td>\n",
    "      </tr>\n",
    "      <tr>\n",
    "         <th>\n",
    "            Course\n",
    "         </th>\n",
    "         <td style=\"text-align: left\">\n",
    "            Masters of Science in Computing (Enterprise Software Systems)\n",
    "         </td>\n",
    "      </tr>\n",
    "      <tr>\n",
    "         <th>\n",
    "            Module Code\n",
    "         </th>\n",
    "         <td style=\"text-align: left\">\n",
    "            A14502\n",
    "         </td>\n",
    "      </tr>\n",
    "      <tr>\n",
    "         <th>\n",
    "            Module Name\n",
    "         </th>\n",
    "         <td style=\"text-align: left\">\n",
    "            Data Mining - 91634-[2020-2021]\n",
    "         </td>\n",
    "      </tr>\n",
    "      <tr>\n",
    "         <th>\n",
    "            Document\n",
    "         </th>\n",
    "         <td style=\"text-align: left\">\n",
    "            Continuous Assessment Assignment #1\n",
    "         </td>\n",
    "      </tr>\n",
    "      <tr>\n",
    "         <th>\n",
    "            Title\n",
    "         </th>\n",
    "         <td style=\"text-align: left\">\n",
    "            Proposal For Using Satellite Imagery And Cognitive Technology To Assist In Resolving Intelligence Problems In South Africa About Informal Settlements\n",
    "         </td>\n",
    "      </tr>\n",
    "      <tr>\n",
    "         <th>\n",
    "            Date\n",
    "         </th>\n",
    "         <td style=\"text-align: left\">\n",
    "            5 March 2021\n",
    "         </td>\n",
    "      </tr>\n",
    "      <tr>\n",
    "         <th>\n",
    "            Facilitators\n",
    "         </th>\n",
    "         <td style=\"text-align: left\">\n",
    "            Dr Bernard Butler and Dr Kieran Murphy\n",
    "         </td>\n",
    "      </tr>\n",
    "   </tbody>\n",
    "</table>"
   ]
  },
  {
   "cell_type": "markdown",
   "metadata": {},
   "source": [
    "### Plagirism Declaration"
   ]
  },
  {
   "cell_type": "markdown",
   "metadata": {
    "tags": [
     "body"
    ]
   },
   "source": [
    "<h4>Plagirism Declaration</h4>\n",
    "\n",
    "<p>I declare that this coursework is entirely my own work and does not include any plagiarised material. All sources that were consulted to compile this document have been referenced appropriately.</p>\n",
    "\n",
    "<p>\n",
    "Full Name: WARREN EDWARD JAMES BYRON<br />\n",
    "Date: 5 March 2021<br />\n",
    "Sign:<br />\n",
    "</p>\n",
    "\n",
    "<div  style=\"float:left\">\n",
    "<img src=\"img/sig.png\">\n",
    "</div>"
   ]
  },
  {
   "cell_type": "markdown",
   "metadata": {},
   "source": [
    "## TOC"
   ]
  },
  {
   "cell_type": "markdown",
   "metadata": {},
   "source": [
    "### Table of Contents"
   ]
  },
  {
   "cell_type": "markdown",
   "metadata": {
    "tags": [
     "body"
    ]
   },
   "source": [
    "* List 1 \n",
    "* List 2"
   ]
  },
  {
   "cell_type": "markdown",
   "metadata": {},
   "source": [
    "# Initial Steps Taken"
   ]
  },
  {
   "cell_type": "markdown",
   "metadata": {},
   "source": [
    "## Row 1"
   ]
  },
  {
   "cell_type": "markdown",
   "metadata": {},
   "source": [
    "# Introduction"
   ]
  },
  {
   "cell_type": "markdown",
   "metadata": {},
   "source": [
    "## Row 1"
   ]
  },
  {
   "cell_type": "markdown",
   "metadata": {},
   "source": [
    "### Origins"
   ]
  },
  {
   "cell_type": "markdown",
   "metadata": {
    "tags": [
     "body"
    ]
   },
   "source": [
    "The information was gathered through a questionnaire in 1997 and is purely observational.\n",
    "\n",
    "See https://www.openml.org/d/372 for description of the data.\n",
    "\n",
    "The data in arff format can be downloaded from https://www.openml.org/data/download/52407/internet_usage.arff. \n",
    "\n",
    "With just two numeric columns, the data mainly consists of binary and categorical (multi-valued) columns, both relating to internet users in 1997."
   ]
  },
  {
   "cell_type": "markdown",
   "metadata": {
    "tags": [
     "orientation=rows"
    ]
   },
   "source": [
    "# EDA"
   ]
  },
  {
   "cell_type": "markdown",
   "metadata": {
    "tags": [
     "size=50"
    ]
   },
   "source": [
    "## Row 1"
   ]
  },
  {
   "cell_type": "markdown",
   "metadata": {},
   "source": [
    "### Exploratory Data Analysis"
   ]
  },
  {
   "cell_type": "markdown",
   "metadata": {
    "tags": [
     "tabs"
    ]
   },
   "source": [
    "## Row 2"
   ]
  },
  {
   "cell_type": "markdown",
   "metadata": {},
   "source": [
    "### Introduction"
   ]
  },
  {
   "cell_type": "markdown",
   "metadata": {
    "tags": [
     "body"
    ]
   },
   "source": [
    "Explore the data and choose suitable/interesting feature sets.\n",
    "\n",
    "This step aims to comprehend and summarize the dataset to ensure that the features fed to machine learning algorithms are optimised and that the results are accurate and understandable.\n",
    "\n",
    "This is done to gain insight into the dataset and a deeper understanding of its underlying structure; extract important parameters and their relationships; analyze underlying assumptions; and identify issues that affect model performance, such as outliers and missing values.\n",
    "\n",
    "It is important to have a plan, be selective, understand strengths/weaknesses of metrics/visualisations"
   ]
  },
  {
   "cell_type": "markdown",
   "metadata": {},
   "source": [
    "### Pass 1"
   ]
  },
  {
   "cell_type": "markdown",
   "metadata": {
    "tags": [
     "body"
    ]
   },
   "source": [
    "Explore the data and choose suitable/interesting feature sets.\n",
    "\n",
    "This step aims to comprehend and summarize the dataset to ensure that the features fed to machine learning algorithms are optimised and that the results are accurate and understandable.\n",
    "\n",
    "This is done to gain insight into the dataset and a deeper understanding of its underlying structure; extract important parameters and their relationships; analyze underlying assumptions; and identify issues that affect model performance, such as outliers and missing values.\n",
    "\n",
    "It is important to have a plan, be selective, understand strengths/weaknesses of metrics/visualisations"
   ]
  },
  {
   "cell_type": "markdown",
   "metadata": {},
   "source": [
    "### Pass 2"
   ]
  },
  {
   "cell_type": "markdown",
   "metadata": {
    "tags": [
     "body"
    ]
   },
   "source": [
    "Lorem ipsum dolor sit amet, consectetur adipiscing elit. Vivamus tortor sapien, bibendum at convallis ut, tempus eu neque. Nullam condimentum, est id congue ullamcorper, erat eros tempus diam, egestas tempus mauris metus id est. Vestibulum mattis, orci a sollicitudin molestie, velit mi dapibus mi, consequat viverra velit dolor non turpis. Ut blandit velit vel lorem placerat faucibus. Praesent vitae diam in sapien lacinia finibus. Nam sed dui cursus, congue orci ac, iaculis sapien. Suspendisse massa urna, vestibulum in sagittis vel, tempus ac sem. Ut semper tortor neque, vel gravida tellus hendrerit volutpat. Etiam sed augue ut sem feugiat bibendum. Quisque id turpis massa. In sagittis sapien id turpis lacinia, sed efficitur erat tempus."
   ]
  },
  {
   "cell_type": "markdown",
   "metadata": {},
   "source": [
    "### Pass 3"
   ]
  },
  {
   "cell_type": "markdown",
   "metadata": {
    "tags": [
     "body"
    ]
   },
   "source": [
    "Lorem ipsum dolor sit amet, consectetur adipiscing elit. Vivamus tortor sapien, bibendum at convallis ut, tempus eu neque. Nullam condimentum, est id congue ullamcorper, erat eros tempus diam, egestas tempus mauris metus id est. Vestibulum mattis, orci a sollicitudin molestie, velit mi dapibus mi, consequat viverra velit dolor non turpis. Ut blandit velit vel lorem placerat faucibus. Praesent vitae diam in sapien lacinia finibus. Nam sed dui cursus, congue orci ac, iaculis sapien. Suspendisse massa urna, vestibulum in sagittis vel, tempus ac sem. Ut semper tortor neque, vel gravida tellus hendrerit volutpat. Etiam sed augue ut sem feugiat bibendum. Quisque id turpis massa. In sagittis sapien id turpis lacinia, sed efficitur erat tempus."
   ]
  },
  {
   "cell_type": "markdown",
   "metadata": {
    "tags": [
     "body"
    ]
   },
   "source": [
    "Lorem ipsum dolor sit amet, consectetur adipiscing elit. Vivamus tortor sapien, bibendum at convallis ut, tempus eu neque. Nullam condimentum, est id congue ullamcorper, erat eros tempus diam, egestas tempus mauris metus id est. Vestibulum mattis, orci a sollicitudin molestie, velit mi dapibus mi, consequat viverra velit dolor non turpis. Ut blandit velit vel lorem placerat faucibus. Praesent vitae diam in sapien lacinia finibus. Nam sed dui cursus, congue orci ac, iaculis sapien. Suspendisse massa urna, vestibulum in sagittis vel, tempus ac sem. Ut semper tortor neque, vel gravida tellus hendrerit volutpat. Etiam sed augue ut sem feugiat bibendum. Quisque id turpis massa. In sagittis sapien id turpis lacinia, sed efficitur erat tempus."
   ]
  },
  {
   "cell_type": "markdown",
   "metadata": {
    "tags": [
     "body"
    ]
   },
   "source": [
    "Lorem ipsum dolor sit amet, consectetur adipiscing elit. Vivamus tortor sapien, bibendum at convallis ut, tempus eu neque. Nullam condimentum, est id congue ullamcorper, erat eros tempus diam, egestas tempus mauris metus id est. Vestibulum mattis, orci a sollicitudin molestie, velit mi dapibus mi, consequat viverra velit dolor non turpis. Ut blandit velit vel lorem placerat faucibus. Praesent vitae diam in sapien lacinia finibus. Nam sed dui cursus, congue orci ac, iaculis sapien. Suspendisse massa urna, vestibulum in sagittis vel, tempus ac sem. Ut semper tortor neque, vel gravida tellus hendrerit volutpat. Etiam sed augue ut sem feugiat bibendum. Quisque id turpis massa. In sagittis sapien id turpis lacinia, sed efficitur erat tempus."
   ]
  },
  {
   "cell_type": "markdown",
   "metadata": {
    "tags": [
     "body"
    ]
   },
   "source": [
    "Lorem ipsum dolor sit amet, consectetur adipiscing elit. Vivamus tortor sapien, bibendum at convallis ut, tempus eu neque. Nullam condimentum, est id congue ullamcorper, erat eros tempus diam, egestas tempus mauris metus id est. Vestibulum mattis, orci a sollicitudin molestie, velit mi dapibus mi, consequat viverra velit dolor non turpis. Ut blandit velit vel lorem placerat faucibus. Praesent vitae diam in sapien lacinia finibus. Nam sed dui cursus, congue orci ac, iaculis sapien. Suspendisse massa urna, vestibulum in sagittis vel, tempus ac sem. Ut semper tortor neque, vel gravida tellus hendrerit volutpat. Etiam sed augue ut sem feugiat bibendum. Quisque id turpis massa. In sagittis sapien id turpis lacinia, sed efficitur erat tempus."
   ]
  },
  {
   "cell_type": "markdown",
   "metadata": {},
   "source": [
    "# Classification"
   ]
  },
  {
   "cell_type": "markdown",
   "metadata": {},
   "source": [
    "## Col 1"
   ]
  },
  {
   "cell_type": "markdown",
   "metadata": {},
   "source": [
    "### Classification"
   ]
  },
  {
   "cell_type": "markdown",
   "metadata": {},
   "source": [
    "# Clustering"
   ]
  },
  {
   "cell_type": "markdown",
   "metadata": {},
   "source": [
    "# Conclusion"
   ]
  },
  {
   "cell_type": "markdown",
   "metadata": {},
   "source": [
    "## Col 1"
   ]
  },
  {
   "cell_type": "markdown",
   "metadata": {},
   "source": [
    "### Conclusion"
   ]
  },
  {
   "cell_type": "markdown",
   "metadata": {
    "tags": [
     "body"
    ]
   },
   "source": [
    "Lorem ipsum dolor sit amet, consectetur adipiscing elit. Vivamus tortor sapien, bibendum at convallis ut, tempus eu neque. Nullam condimentum, est id congue ullamcorper, erat eros tempus diam, egestas tempus mauris metus id est. Vestibulum mattis, orci a sollicitudin molestie, velit mi dapibus mi, consequat viverra velit dolor non turpis. Ut blandit velit vel lorem placerat faucibus. Praesent vitae diam in sapien lacinia finibus. Nam sed dui cursus, congue orci ac, iaculis sapien. Suspendisse massa urna, vestibulum in sagittis vel, tempus ac sem. Ut semper tortor neque, vel gravida tellus hendrerit volutpat. Etiam sed augue ut sem feugiat bibendum. Quisque id turpis massa. In sagittis sapien id turpis lacinia, sed efficitur erat tempus."
   ]
  },
  {
   "cell_type": "markdown",
   "metadata": {},
   "source": [
    "# Sources"
   ]
  },
  {
   "cell_type": "markdown",
   "metadata": {},
   "source": [
    "## Col 1"
   ]
  }
 ],
 "metadata": {
  "celltoolbar": "Tags",
  "kernelspec": {
   "display_name": "Python 3",
   "language": "python",
   "name": "python3"
  },
  "language_info": {
   "codemirror_mode": {
    "name": "ipython",
    "version": 3
   },
   "file_extension": ".py",
   "mimetype": "text/x-python",
   "name": "python",
   "nbconvert_exporter": "python",
   "pygments_lexer": "ipython3",
   "version": "3.8.5"
  }
 },
 "nbformat": 4,
 "nbformat_minor": 4
}
