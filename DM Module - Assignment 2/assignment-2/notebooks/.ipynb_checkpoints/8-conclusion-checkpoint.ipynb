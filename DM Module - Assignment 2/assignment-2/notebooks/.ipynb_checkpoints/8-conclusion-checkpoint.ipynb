{
 "cells": [
  {
   "cell_type": "markdown",
   "metadata": {},
   "source": [
    "<a id='conclusion'></a>\n",
    "# Conclusion"
   ]
  },
  {
   "cell_type": "markdown",
   "metadata": {},
   "source": [
    "Despite the dataset's lack of predictive value, the assignment served as a good opportunity to learn about classification and clustering methods in general. To maximize efficiency and see relative changes, the hyperparameters and PCA n-components were tweaked. Working through these processes, as well as implementing feature engineering, was a rewarding experience.  I believe that if enough time was spent on the dataset, it might yield a valuable amount of knowledge. The task, I believe, introduced me to data mining as a means of extracting patterns from data using a number of sophisticated and intelligent methods.  I also saw how choices are made along the way that can have positive or negative effects later on. I have had a lot of fun learning and working with Python, which is a very strong and interesting scripting language with a lot of useful libraries."
   ]
  }
 ],
 "metadata": {
  "kernelspec": {
   "display_name": "Python 3",
   "language": "python",
   "name": "python3"
  },
  "language_info": {
   "codemirror_mode": {
    "name": "ipython",
    "version": 3
   },
   "file_extension": ".py",
   "mimetype": "text/x-python",
   "name": "python",
   "nbconvert_exporter": "python",
   "pygments_lexer": "ipython3",
   "version": "3.8.5"
  }
 },
 "nbformat": 4,
 "nbformat_minor": 4
}
