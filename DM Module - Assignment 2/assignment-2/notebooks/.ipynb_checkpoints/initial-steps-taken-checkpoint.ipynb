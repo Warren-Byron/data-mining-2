{
 "cells": [
  {
   "cell_type": "markdown",
   "metadata": {},
   "source": [
    "# Inital Steps Taken"
   ]
  },
  {
   "cell_type": "markdown",
   "metadata": {
    "tags": [
     "tabs"
    ]
   },
   "source": [
    "##"
   ]
  },
  {
   "cell_type": "markdown",
   "metadata": {},
   "source": [
    "### Prepare Enviroment\n",
    "\n",
    "Install and import all of the Python packages needed for the research. The python packages pandas, numpy, seaborn, and matplotlib are all needed. Python's package management system, Pip, allows tasks like installing dependencies, handling, and shipping Python projects far easier. You must have Python and Pip installed on your computer to run the command below."
   ]
  },
  {
   "cell_type": "markdown",
   "metadata": {},
   "source": [
    "```\n",
    "import python -m pip install --user numpy scipy matplotlib ipython pandas sympy nose statsmodels patsy seaborn\n",
    "```"
   ]
  },
  {
   "cell_type": "markdown",
   "metadata": {},
   "source": [
    "### Load Modules\n",
    "Our modules are loaded into our Python environment. It uses Jupyter Notebook in this case, which is running in a virtualenv environment."
   ]
  },
  {
   "cell_type": "code",
   "execution_count": 1,
   "metadata": {},
   "outputs": [
    {
     "name": "stderr",
     "output_type": "stream",
     "text": [
      "/Users/wazby/opt/anaconda3/lib/python3.8/site-packages/outdated/utils.py:14: OutdatedPackageWarning: The package outdated is out of date. Your version is 0.2.0, the latest is 0.2.1.\n",
      "Set the environment variable OUTDATED_IGNORE=1 to disable these warnings.\n",
      "  return warn(\n"
     ]
    }
   ],
   "source": [
    "# Core Data Science modules\n",
    "import pandas as pd\n",
    "import numpy as np\n",
    "import matplotlib.pyplot as plt\n",
    "\n",
    "# Seaborn sits above matplotlib and has a collection of visualisations optimised for stats analysis\n",
    "import seaborn as sns\n",
    "\n",
    "# Statistical modules\n",
    "import scipy.stats as stats\n",
    "import statsmodels.api as sm\n",
    "import pingouin as pg\n",
    "\n",
    "## Handle arff file format\n",
    "from scipy.io import arff\n",
    "\n",
    "# Handle downloads of internet\n",
    "from urllib.request import urlopen\n",
    "\n",
    "# Core tools for working with streams\n",
    "from io import StringIO\n",
    "\n",
    "# Preprocessing modules of sklearn\n",
    "from sklearn.preprocessing import OneHotEncoder\n",
    "from sklearn.preprocessing import LabelEncoder\n",
    "\n",
    "# Utility\n",
    "import random\n",
    "\n",
    "# importing os module for creating folders on the operating system \n",
    "import os \n",
    "\n",
    "##plt.style.use(\"seaborn−darkgrid\")"
   ]
  },
  {
   "cell_type": "markdown",
   "metadata": {},
   "source": [
    "### Configuration Variables"
   ]
  },
  {
   "cell_type": "markdown",
   "metadata": {},
   "source": [
    "Put all of the variables that will be used in the study in one location."
   ]
  },
  {
   "cell_type": "code",
   "execution_count": 2,
   "metadata": {},
   "outputs": [],
   "source": [
    "# where to pull the raw data from\n",
    "data_URL = 'https://www.openml.org/data/download/52407/internet_usage.arff'\n",
    "\n",
    "# where to save the data for preprocessing after the EDA\n",
    "data_FOLDER = './ready-for-preprocessing'\n",
    "\n",
    "SEED = 42"
   ]
  }
 ],
 "metadata": {
  "celltoolbar": "Tags",
  "kernelspec": {
   "display_name": "Python 3",
   "language": "python",
   "name": "python3"
  },
  "language_info": {
   "codemirror_mode": {
    "name": "ipython",
    "version": 3
   },
   "file_extension": ".py",
   "mimetype": "text/x-python",
   "name": "python",
   "nbconvert_exporter": "python",
   "pygments_lexer": "ipython3",
   "version": "3.8.5"
  }
 },
 "nbformat": 4,
 "nbformat_minor": 4
}
